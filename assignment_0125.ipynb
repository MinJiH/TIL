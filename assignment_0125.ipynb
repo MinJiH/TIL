{
 "cells": [
  {
   "cell_type": "code",
   "execution_count": 49,
   "metadata": {},
   "outputs": [],
   "source": [
    "from selenium import webdriver\n",
    "from bs4 import BeautifulSoup"
   ]
  },
  {
   "cell_type": "code",
   "execution_count": 50,
   "metadata": {},
   "outputs": [],
   "source": [
    "driver=webdriver.Chrome(\"C://Users/minji hong/chromedriver/chromedriver.exe\")"
   ]
  },
  {
   "cell_type": "code",
   "execution_count": 51,
   "metadata": {},
   "outputs": [],
   "source": [
    "driver.get(\"https://member.ssg.com/addr/popup/zipcd.ssg\")\n",
    "driver.implicitly_wait(3)"
   ]
  },
  {
   "cell_type": "code",
   "execution_count": 52,
   "metadata": {},
   "outputs": [],
   "source": [
    "address=driver.find_element_by_class_name(\"search_txt\")\n",
    "search_btn=driver.find_element_by_class_name(\"search_btn\")\n",
    "address.send_keys(\"서현로429번길\")\n",
    "search_btn.click()"
   ]
  },
  {
   "cell_type": "code",
   "execution_count": 69,
   "metadata": {},
   "outputs": [],
   "source": [
    "a_path='//*[@id=\"pop_content\"]/div[4]/div[2]/ul'\n",
    "address=driver.find_elements_by_xpath(a_path)"
   ]
  },
  {
   "cell_type": "code",
   "execution_count": 68,
   "metadata": {},
   "outputs": [
    {
     "data": {
      "text/plain": [
       "'경기도 성남시 분당구 서현로429번길 2 (분당동)'"
      ]
     },
     "execution_count": 68,
     "metadata": {},
     "output_type": "execute_result"
    }
   ],
   "source": [
    "address = driver.find_elements_by_class_name('info_cont')\n",
    "address[0].text"
   ]
  },
  {
   "cell_type": "code",
   "execution_count": 76,
   "metadata": {},
   "outputs": [
    {
     "ename": "AttributeError",
     "evalue": "'list' object has no attribute 'text'",
     "output_type": "error",
     "traceback": [
      "\u001b[1;31m---------------------------------------------------------------------------\u001b[0m",
      "\u001b[1;31mAttributeError\u001b[0m                            Traceback (most recent call last)",
      "\u001b[1;32m<ipython-input-76-b8c312ca26a3>\u001b[0m in \u001b[0;36m<module>\u001b[1;34m\u001b[0m\n\u001b[0;32m      1\u001b[0m \u001b[1;32mfor\u001b[0m \u001b[0mitem\u001b[0m \u001b[1;32min\u001b[0m \u001b[0maddress\u001b[0m\u001b[1;33m:\u001b[0m\u001b[1;33m\u001b[0m\u001b[1;33m\u001b[0m\u001b[0m\n\u001b[1;32m----> 2\u001b[1;33m     \u001b[0madd\u001b[0m\u001b[1;33m=\u001b[0m\u001b[0mitem\u001b[0m\u001b[1;33m.\u001b[0m\u001b[0mfind_elements_by_class_name\u001b[0m\u001b[1;33m(\u001b[0m\u001b[1;34m'info_cont'\u001b[0m\u001b[1;33m)\u001b[0m\u001b[1;33m.\u001b[0m\u001b[0mtext\u001b[0m\u001b[1;33m\u001b[0m\u001b[1;33m\u001b[0m\u001b[0m\n\u001b[0m\u001b[0;32m      3\u001b[0m     \u001b[0mresult_list\u001b[0m\u001b[1;33m.\u001b[0m\u001b[0mappend\u001b[0m\u001b[1;33m(\u001b[0m\u001b[1;33m[\u001b[0m\u001b[0madd\u001b[0m\u001b[1;33m]\u001b[0m\u001b[1;33m)\u001b[0m\u001b[1;33m\u001b[0m\u001b[1;33m\u001b[0m\u001b[0m\n\u001b[0;32m      4\u001b[0m \u001b[1;32mreturn\u001b[0m \u001b[0mresult_list\u001b[0m\u001b[1;33m\u001b[0m\u001b[1;33m\u001b[0m\u001b[0m\n",
      "\u001b[1;31mAttributeError\u001b[0m: 'list' object has no attribute 'text'"
     ]
    }
   ],
   "source": [
    "for item in address:\n",
    "    add=item.find_elements_by_class_name('info_cont').text\n",
    "    result_list.append([add])\n",
    "return result_list"
   ]
  },
  {
   "cell_type": "code",
   "execution_count": 54,
   "metadata": {},
   "outputs": [
    {
     "name": "stdout",
     "output_type": "stream",
     "text": [
      "[<selenium.webdriver.remote.webelement.WebElement (session=\"4f3ffb60727a0730e518f771a612b075\", element=\"0.16603422012206281-3\")>, <selenium.webdriver.remote.webelement.WebElement (session=\"4f3ffb60727a0730e518f771a612b075\", element=\"0.16603422012206281-4\")>, <selenium.webdriver.remote.webelement.WebElement (session=\"4f3ffb60727a0730e518f771a612b075\", element=\"0.16603422012206281-5\")>, <selenium.webdriver.remote.webelement.WebElement (session=\"4f3ffb60727a0730e518f771a612b075\", element=\"0.16603422012206281-6\")>, <selenium.webdriver.remote.webelement.WebElement (session=\"4f3ffb60727a0730e518f771a612b075\", element=\"0.16603422012206281-7\")>, <selenium.webdriver.remote.webelement.WebElement (session=\"4f3ffb60727a0730e518f771a612b075\", element=\"0.16603422012206281-8\")>, <selenium.webdriver.remote.webelement.WebElement (session=\"4f3ffb60727a0730e518f771a612b075\", element=\"0.16603422012206281-9\")>, <selenium.webdriver.remote.webelement.WebElement (session=\"4f3ffb60727a0730e518f771a612b075\", element=\"0.16603422012206281-10\")>, <selenium.webdriver.remote.webelement.WebElement (session=\"4f3ffb60727a0730e518f771a612b075\", element=\"0.16603422012206281-11\")>, <selenium.webdriver.remote.webelement.WebElement (session=\"4f3ffb60727a0730e518f771a612b075\", element=\"0.16603422012206281-12\")>, <selenium.webdriver.remote.webelement.WebElement (session=\"4f3ffb60727a0730e518f771a612b075\", element=\"0.16603422012206281-13\")>, <selenium.webdriver.remote.webelement.WebElement (session=\"4f3ffb60727a0730e518f771a612b075\", element=\"0.16603422012206281-14\")>, <selenium.webdriver.remote.webelement.WebElement (session=\"4f3ffb60727a0730e518f771a612b075\", element=\"0.16603422012206281-15\")>]\n",
      "[<selenium.webdriver.remote.webelement.WebElement (session=\"4f3ffb60727a0730e518f771a612b075\", element=\"0.16603422012206281-3\")>, <selenium.webdriver.remote.webelement.WebElement (session=\"4f3ffb60727a0730e518f771a612b075\", element=\"0.16603422012206281-4\")>, <selenium.webdriver.remote.webelement.WebElement (session=\"4f3ffb60727a0730e518f771a612b075\", element=\"0.16603422012206281-5\")>, <selenium.webdriver.remote.webelement.WebElement (session=\"4f3ffb60727a0730e518f771a612b075\", element=\"0.16603422012206281-6\")>, <selenium.webdriver.remote.webelement.WebElement (session=\"4f3ffb60727a0730e518f771a612b075\", element=\"0.16603422012206281-7\")>, <selenium.webdriver.remote.webelement.WebElement (session=\"4f3ffb60727a0730e518f771a612b075\", element=\"0.16603422012206281-8\")>, <selenium.webdriver.remote.webelement.WebElement (session=\"4f3ffb60727a0730e518f771a612b075\", element=\"0.16603422012206281-9\")>, <selenium.webdriver.remote.webelement.WebElement (session=\"4f3ffb60727a0730e518f771a612b075\", element=\"0.16603422012206281-10\")>, <selenium.webdriver.remote.webelement.WebElement (session=\"4f3ffb60727a0730e518f771a612b075\", element=\"0.16603422012206281-11\")>, <selenium.webdriver.remote.webelement.WebElement (session=\"4f3ffb60727a0730e518f771a612b075\", element=\"0.16603422012206281-12\")>, <selenium.webdriver.remote.webelement.WebElement (session=\"4f3ffb60727a0730e518f771a612b075\", element=\"0.16603422012206281-13\")>, <selenium.webdriver.remote.webelement.WebElement (session=\"4f3ffb60727a0730e518f771a612b075\", element=\"0.16603422012206281-14\")>, <selenium.webdriver.remote.webelement.WebElement (session=\"4f3ffb60727a0730e518f771a612b075\", element=\"0.16603422012206281-15\")>]\n",
      "[<selenium.webdriver.remote.webelement.WebElement (session=\"4f3ffb60727a0730e518f771a612b075\", element=\"0.16603422012206281-3\")>, <selenium.webdriver.remote.webelement.WebElement (session=\"4f3ffb60727a0730e518f771a612b075\", element=\"0.16603422012206281-4\")>, <selenium.webdriver.remote.webelement.WebElement (session=\"4f3ffb60727a0730e518f771a612b075\", element=\"0.16603422012206281-5\")>, <selenium.webdriver.remote.webelement.WebElement (session=\"4f3ffb60727a0730e518f771a612b075\", element=\"0.16603422012206281-6\")>, <selenium.webdriver.remote.webelement.WebElement (session=\"4f3ffb60727a0730e518f771a612b075\", element=\"0.16603422012206281-7\")>, <selenium.webdriver.remote.webelement.WebElement (session=\"4f3ffb60727a0730e518f771a612b075\", element=\"0.16603422012206281-8\")>, <selenium.webdriver.remote.webelement.WebElement (session=\"4f3ffb60727a0730e518f771a612b075\", element=\"0.16603422012206281-9\")>, <selenium.webdriver.remote.webelement.WebElement (session=\"4f3ffb60727a0730e518f771a612b075\", element=\"0.16603422012206281-10\")>, <selenium.webdriver.remote.webelement.WebElement (session=\"4f3ffb60727a0730e518f771a612b075\", element=\"0.16603422012206281-11\")>, <selenium.webdriver.remote.webelement.WebElement (session=\"4f3ffb60727a0730e518f771a612b075\", element=\"0.16603422012206281-12\")>, <selenium.webdriver.remote.webelement.WebElement (session=\"4f3ffb60727a0730e518f771a612b075\", element=\"0.16603422012206281-13\")>, <selenium.webdriver.remote.webelement.WebElement (session=\"4f3ffb60727a0730e518f771a612b075\", element=\"0.16603422012206281-14\")>, <selenium.webdriver.remote.webelement.WebElement (session=\"4f3ffb60727a0730e518f771a612b075\", element=\"0.16603422012206281-15\")>]\n",
      "[<selenium.webdriver.remote.webelement.WebElement (session=\"4f3ffb60727a0730e518f771a612b075\", element=\"0.16603422012206281-3\")>, <selenium.webdriver.remote.webelement.WebElement (session=\"4f3ffb60727a0730e518f771a612b075\", element=\"0.16603422012206281-4\")>, <selenium.webdriver.remote.webelement.WebElement (session=\"4f3ffb60727a0730e518f771a612b075\", element=\"0.16603422012206281-5\")>, <selenium.webdriver.remote.webelement.WebElement (session=\"4f3ffb60727a0730e518f771a612b075\", element=\"0.16603422012206281-6\")>, <selenium.webdriver.remote.webelement.WebElement (session=\"4f3ffb60727a0730e518f771a612b075\", element=\"0.16603422012206281-7\")>, <selenium.webdriver.remote.webelement.WebElement (session=\"4f3ffb60727a0730e518f771a612b075\", element=\"0.16603422012206281-8\")>, <selenium.webdriver.remote.webelement.WebElement (session=\"4f3ffb60727a0730e518f771a612b075\", element=\"0.16603422012206281-9\")>, <selenium.webdriver.remote.webelement.WebElement (session=\"4f3ffb60727a0730e518f771a612b075\", element=\"0.16603422012206281-10\")>, <selenium.webdriver.remote.webelement.WebElement (session=\"4f3ffb60727a0730e518f771a612b075\", element=\"0.16603422012206281-11\")>, <selenium.webdriver.remote.webelement.WebElement (session=\"4f3ffb60727a0730e518f771a612b075\", element=\"0.16603422012206281-12\")>, <selenium.webdriver.remote.webelement.WebElement (session=\"4f3ffb60727a0730e518f771a612b075\", element=\"0.16603422012206281-13\")>, <selenium.webdriver.remote.webelement.WebElement (session=\"4f3ffb60727a0730e518f771a612b075\", element=\"0.16603422012206281-14\")>, <selenium.webdriver.remote.webelement.WebElement (session=\"4f3ffb60727a0730e518f771a612b075\", element=\"0.16603422012206281-15\")>]\n",
      "[<selenium.webdriver.remote.webelement.WebElement (session=\"4f3ffb60727a0730e518f771a612b075\", element=\"0.16603422012206281-3\")>, <selenium.webdriver.remote.webelement.WebElement (session=\"4f3ffb60727a0730e518f771a612b075\", element=\"0.16603422012206281-4\")>, <selenium.webdriver.remote.webelement.WebElement (session=\"4f3ffb60727a0730e518f771a612b075\", element=\"0.16603422012206281-5\")>, <selenium.webdriver.remote.webelement.WebElement (session=\"4f3ffb60727a0730e518f771a612b075\", element=\"0.16603422012206281-6\")>, <selenium.webdriver.remote.webelement.WebElement (session=\"4f3ffb60727a0730e518f771a612b075\", element=\"0.16603422012206281-7\")>, <selenium.webdriver.remote.webelement.WebElement (session=\"4f3ffb60727a0730e518f771a612b075\", element=\"0.16603422012206281-8\")>, <selenium.webdriver.remote.webelement.WebElement (session=\"4f3ffb60727a0730e518f771a612b075\", element=\"0.16603422012206281-9\")>, <selenium.webdriver.remote.webelement.WebElement (session=\"4f3ffb60727a0730e518f771a612b075\", element=\"0.16603422012206281-10\")>, <selenium.webdriver.remote.webelement.WebElement (session=\"4f3ffb60727a0730e518f771a612b075\", element=\"0.16603422012206281-11\")>, <selenium.webdriver.remote.webelement.WebElement (session=\"4f3ffb60727a0730e518f771a612b075\", element=\"0.16603422012206281-12\")>, <selenium.webdriver.remote.webelement.WebElement (session=\"4f3ffb60727a0730e518f771a612b075\", element=\"0.16603422012206281-13\")>, <selenium.webdriver.remote.webelement.WebElement (session=\"4f3ffb60727a0730e518f771a612b075\", element=\"0.16603422012206281-14\")>, <selenium.webdriver.remote.webelement.WebElement (session=\"4f3ffb60727a0730e518f771a612b075\", element=\"0.16603422012206281-15\")>]\n"
     ]
    }
   ],
   "source": [
    "for i in range(5):\n",
    "    address= driver.find_elements_by_class_name('info_cont')\n",
    "    address[i].text\n",
    "\n",
    "    print(address)"
   ]
  },
  {
   "cell_type": "code",
   "execution_count": 44,
   "metadata": {},
   "outputs": [
    {
     "ename": "IndentationError",
     "evalue": "unindent does not match any outer indentation level (<tokenize>, line 8)",
     "output_type": "error",
     "traceback": [
      "\u001b[1;36m  File \u001b[1;32m\"<tokenize>\"\u001b[1;36m, line \u001b[1;32m8\u001b[0m\n\u001b[1;33m    print(subject)\u001b[0m\n\u001b[1;37m    ^\u001b[0m\n\u001b[1;31mIndentationError\u001b[0m\u001b[1;31m:\u001b[0m unindent does not match any outer indentation level\n"
     ]
    }
   ],
   "source": [
    "for i in range(5):\n",
    "    address= driver.find_elements_by_class_name('info_cont')\n",
    "    address[i].text\n",
    "\n",
    "    print(address)\n",
    "\n",
    "\t\n",
    "#함수화\n",
    "def get_address():\n",
    "    address = driver.find_elements_by_class_name('info_cont')\n",
    "    result = []\n",
    "    \n",
    "    for item in address:\n",
    "         address = driver.find_elements_by_class_name('info_cont')\n",
    "            result.append(subject)\n",
    "        \n",
    "    return result\n",
    "\n",
    "#전체 scraping\n",
    "# ch_driver.execute_script('fnPagingMove(2);') => can move to page 2\n",
    "# so, fnPagingMove(n) => 1 to 10\n",
    "\n",
    "from time import sleep\n",
    "\n",
    "# tell driver to wait for 5 secs when certain elements are not available immediately.\n",
    "ch_driver.implicitly_wait(5)\n",
    "\n",
    "all_result = []\n",
    "for i in range(1, 5):\n",
    "    #move to page i\n",
    "    ch_driver.execute_script('Zipcd.goPage{page_number});'.format(page_number = i))\n",
    "    \n",
    "    #after 1sec sleep\n",
    "    sleep(1)\n",
    "    \n",
    "    #get all contents and append them to all_result\n",
    "    all_result.append(get_address())\n",
    "    \n",
    "all_result\n"
   ]
  },
  {
   "cell_type": "code",
   "execution_count": null,
   "metadata": {},
   "outputs": [],
   "source": []
  }
 ],
 "metadata": {
  "kernelspec": {
   "display_name": "Python 3",
   "language": "python",
   "name": "python3"
  },
  "language_info": {
   "codemirror_mode": {
    "name": "ipython",
    "version": 3
   },
   "file_extension": ".py",
   "mimetype": "text/x-python",
   "name": "python",
   "nbconvert_exporter": "python",
   "pygments_lexer": "ipython3",
   "version": "3.7.1"
  }
 },
 "nbformat": 4,
 "nbformat_minor": 2
}
