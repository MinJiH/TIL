{
 "cells": [
  {
   "cell_type": "markdown",
   "metadata": {},
   "source": [
    "# Machine learning\n",
    "\n",
    "A computer program is said to *learn* from experience E with respect to some class of tasks T and performance measure P, if its performance at tasks in T as measured by P, improves with experience E.\n",
    "\n",
    "컴퓨터 프로그램은 다양한 기능을 수행한다.\n",
    "그 기능을 잘 수행했는지 그러지 못했는지에 대해 성능을 평가할 수 있다.\n",
    "머신러닝은 컴퓨터가 수행하는 기능을, dataset 을 통하여 더 나은 성능을 낼 수 있도록 개선하는 것이다.\n"
   ]
  },
  {
   "cell_type": "markdown",
   "metadata": {},
   "source": [
    "# Experience(samples,Examples)\n",
    "-Supervised\n",
    "-Unsupervised\n",
    "|\n",
    "(learning)\n",
    "|\n",
    "# task\n",
    "(function)\n",
    "-classfication\n",
    "-regression\n",
    "-clustering\n",
    "|\n",
    "(Evaluation)\n",
    "|\n",
    "# performance\n",
    "-accuracy\n",
    "-MSE\n",
    "\n",
    "(Easy version)\n",
    "\n",
    "\n",
    "* 머신 러닝은 과거 경험에서 학습을 통해 얻은 지식을 미래의 결정에 이용하는 전산학의 한 분야 이다. 머신 러닝의 목표는 관측된 패턴을 일반화 하거나 주어진 예제를 통해 새로운 규칙을 생성하는 것이다.\n"
   ]
  },
  {
   "cell_type": "markdown",
   "metadata": {},
   "source": [
    "# the category of machine learning algorithm\n",
    "\n",
    "there are three categories for machine learning\n",
    "\n",
    "* Supervised Learning algorithm\n",
    " \n",
    "\n",
    "* Unsupervised Learning Algorithm\n",
    "\n",
    "* Reinforcement Learning Algorithm\n",
    "\n",
    "\n",
    "\n",
    "* Supervised Learning algorithm\n",
    "랜덤 샘플 백터 x 와 각각 대응 하는 t가 관찰되었을 때, 제공된 dataset을 사용하여 모든x 에 대해 정답인 x를 유추해 낼 수 있도록 일반화 시키는 알고리즘(예제를 통한 학습 알고리즘)\n",
    "Roughly P(t|x)\n",
    "Classification, regression…\n",
    "Input, target\n",
    "* Unsupervised Learning algorithm\n",
    "Random sample vectors x 가 관찰 되었을 때 x 의 distribution or dataset 구조의 useful properties 를 찾고자 하는 알고리즘\n",
    "roughly p(x)\n",
    "density estimation, clustering. Dimensional reduction\n",
    "input\n",
    "* Reinforcement learning algorithm\n",
    "Machine 또는 agent가 주변환경의 feedback 으로부터 행동을 학습하는 알고리즘 \n",
    "강화학습에서 agent는 지도를 받는 것이 아니라 스스로 일련의 결정을 내린 후, 그 결과에 따라 마지막에 +1 이나 -1의 보상 reward를 받음\n",
    "보편적인 머신 러닝 알고리즘 보다는 인공지능 기법에 더 가깝다.\n",
    "\n",
    "\t\n",
    "\n",
    "# 머신 러닝 모델 개발 순서.\n",
    "* 1.\t해결하고자 하는 문제의 정의\n",
    "* 2.\t데이터 수집\n",
    ": 머신 러닝 데이터는 구조화된 소스, 웹 스크래핑, api, 채팅 등을 통해 집적 수집한다. 머신 러닝은 구조화된 데이터(table data, DB DATA 등)와 비구조화 데이터(음성, 이미지,텍스트)를 모두 처리 할 수 있다. \n",
    "* 3.\t데이터 준비와 결측 값/ 이상 값 처리\n",
    ": 데이터를 모델에서 사용할 수 있도록 알맞게 가공한다. 결측 값(missing value, null value) 또는 이상 값(abnormal value)는 데이터 및 해결하고자 하는 문제의 성질에 맞게 평균 값, 중간 값 등으로 대체 한다.\n",
    "* 4.\t데이터 분석(exploratory data analysis)과 feature engineering\n",
    "변수 들 사이에 숨겨진 패턴 및 관계를 찾아내려면 데이터를 분석해야 한다. 올바른 피쳐 엔지니어링과 적절한 비즈니스 지식을 동원한다면 많은 문제를 해결 할 수 있고, 모델이 잘 학습 되는 데에 큰 도움이 된다.\n",
    "* 5.\t모델 선택\n",
    ": 훈련 및 검증 데이터를 이용하여 모델 훈련\n",
    "피쳐 엔지니어링이 끝난 후 모델을 학습하는 단계 이다. 데이터를 3개 집합(훈련, 검증, 테스트)로 분리 한다. 훈련 데이터에서 머신 러닝 모델을 훈련 시키고, overfitting(과적합)을 피하기 위해 검증 데이터를 대상으로 모델의 hyperparameter를 튜닝하는 과정을 거친다.\n",
    "* 6.\t훈련 및 검증 데이터에 이용하여 모델 훈련 및 hyperparameter 튜닝\n",
    "* 7.\t테스트 데이터를 사용하여 모델의 최종 테스트\n",
    ": 모델이 훈련 데이터 와 검증 데이터를 상대로 충분히 좋은 성능을 발휘하면 새로운 테스트 데이터를 대상으로 성능 점검을 수행한다. 이 테스트에서 충분히 성능이 인정되면 마지막 단계로 넘어 간다.\n",
    "* 8.\t모델 배포 및 서비스에 활용\n",
    ": 학습된 머신 러닝 모델을 배포하고, 학습된 머신 러닝 알고리즘을 서비스에 적용한다.\n",
    "\n",
    "# 머신러닝에서 사용하는 기본적인 용어들\n",
    "* Input/input vector/features/feature vectors/ 입력/ 특성\n",
    ": 입력 벡터는 머신 러닝 알고리즘의 입력으로 주어진 데이터를 의미한다. Input data 가 총 엠 차원이면 엑스 =(엑스1,엑스2,…엑스 엠) 라고 표현한다. 벡터의 요소인 엑스 아이는 엔티티 이다.\n",
    "* Output/output vector/ 출력 값\n",
    ": 출력 벡터는 머신 러닝 알고리즘의 출력 결과 데이터를 의미한다. 출력 벡터의 각 엔티티는 알고리즘의 종류에 따라서 연속적인 실수 값이 될 수 있고, 불연속적인 정수 값이 될 수 있다. 또한 1차원이 될 수도 있고 다차원이 될 수도 있다. 출력은 회귀모형을 설명할 때는 와이 햇이라고 표현하겠다.\n",
    "* Target/ label/ 목표값/ 라벨\n",
    ": 목표 값은 입력 벡터와 함께 페어로 주어진, 즉 엑스에 어소씨에이트/어싸인 된 데이터를 의미한다. 실수 값, 정수값을 가질 수 있다. 타겟은 회귀모형을 설명할 때는 와이 라고 표현 하겠다. Supervised learning 에서는 (x,y)이 모델의 학습에 사용된다.\n"
   ]
  },
  {
   "cell_type": "code",
   "execution_count": null,
   "metadata": {},
   "outputs": [],
   "source": []
  },
  {
   "cell_type": "code",
   "execution_count": null,
   "metadata": {},
   "outputs": [],
   "source": []
  },
  {
   "cell_type": "code",
   "execution_count": null,
   "metadata": {},
   "outputs": [],
   "source": []
  },
  {
   "cell_type": "code",
   "execution_count": null,
   "metadata": {},
   "outputs": [],
   "source": []
  },
  {
   "cell_type": "code",
   "execution_count": null,
   "metadata": {},
   "outputs": [],
   "source": []
  },
  {
   "cell_type": "code",
   "execution_count": null,
   "metadata": {},
   "outputs": [],
   "source": []
  },
  {
   "cell_type": "code",
   "execution_count": null,
   "metadata": {},
   "outputs": [],
   "source": []
  },
  {
   "cell_type": "code",
   "execution_count": null,
   "metadata": {},
   "outputs": [],
   "source": []
  },
  {
   "cell_type": "code",
   "execution_count": null,
   "metadata": {},
   "outputs": [],
   "source": []
  },
  {
   "cell_type": "code",
   "execution_count": null,
   "metadata": {},
   "outputs": [],
   "source": []
  },
  {
   "cell_type": "code",
   "execution_count": null,
   "metadata": {},
   "outputs": [],
   "source": []
  },
  {
   "cell_type": "code",
   "execution_count": null,
   "metadata": {},
   "outputs": [],
   "source": []
  },
  {
   "cell_type": "code",
   "execution_count": null,
   "metadata": {},
   "outputs": [],
   "source": []
  },
  {
   "cell_type": "code",
   "execution_count": null,
   "metadata": {},
   "outputs": [],
   "source": []
  },
  {
   "cell_type": "code",
   "execution_count": null,
   "metadata": {},
   "outputs": [],
   "source": []
  },
  {
   "cell_type": "code",
   "execution_count": null,
   "metadata": {},
   "outputs": [],
   "source": []
  },
  {
   "cell_type": "code",
   "execution_count": null,
   "metadata": {},
   "outputs": [],
   "source": []
  },
  {
   "cell_type": "code",
   "execution_count": null,
   "metadata": {},
   "outputs": [],
   "source": []
  },
  {
   "cell_type": "code",
   "execution_count": null,
   "metadata": {},
   "outputs": [],
   "source": []
  },
  {
   "cell_type": "code",
   "execution_count": null,
   "metadata": {},
   "outputs": [],
   "source": []
  },
  {
   "cell_type": "code",
   "execution_count": null,
   "metadata": {},
   "outputs": [],
   "source": []
  },
  {
   "cell_type": "code",
   "execution_count": null,
   "metadata": {},
   "outputs": [],
   "source": []
  },
  {
   "cell_type": "code",
   "execution_count": null,
   "metadata": {},
   "outputs": [],
   "source": []
  },
  {
   "cell_type": "code",
   "execution_count": null,
   "metadata": {},
   "outputs": [],
   "source": []
  },
  {
   "cell_type": "code",
   "execution_count": null,
   "metadata": {},
   "outputs": [],
   "source": []
  },
  {
   "cell_type": "code",
   "execution_count": null,
   "metadata": {},
   "outputs": [],
   "source": []
  },
  {
   "cell_type": "code",
   "execution_count": null,
   "metadata": {},
   "outputs": [],
   "source": []
  },
  {
   "cell_type": "code",
   "execution_count": null,
   "metadata": {},
   "outputs": [],
   "source": []
  },
  {
   "cell_type": "code",
   "execution_count": null,
   "metadata": {},
   "outputs": [],
   "source": []
  },
  {
   "cell_type": "code",
   "execution_count": null,
   "metadata": {},
   "outputs": [],
   "source": []
  },
  {
   "cell_type": "code",
   "execution_count": null,
   "metadata": {},
   "outputs": [],
   "source": []
  },
  {
   "cell_type": "code",
   "execution_count": null,
   "metadata": {},
   "outputs": [],
   "source": []
  },
  {
   "cell_type": "code",
   "execution_count": null,
   "metadata": {},
   "outputs": [],
   "source": []
  },
  {
   "cell_type": "code",
   "execution_count": null,
   "metadata": {},
   "outputs": [],
   "source": []
  },
  {
   "cell_type": "code",
   "execution_count": null,
   "metadata": {},
   "outputs": [],
   "source": []
  },
  {
   "cell_type": "code",
   "execution_count": null,
   "metadata": {},
   "outputs": [],
   "source": []
  }
 ],
 "metadata": {
  "kernelspec": {
   "display_name": "Python 3",
   "language": "python",
   "name": "python3"
  },
  "language_info": {
   "codemirror_mode": {
    "name": "ipython",
    "version": 3
   },
   "file_extension": ".py",
   "mimetype": "text/x-python",
   "name": "python",
   "nbconvert_exporter": "python",
   "pygments_lexer": "ipython3",
   "version": "3.7.3"
  }
 },
 "nbformat": 4,
 "nbformat_minor": 2
}
