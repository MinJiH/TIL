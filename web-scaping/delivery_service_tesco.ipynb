{
 "cells": [
  {
   "cell_type": "markdown",
   "metadata": {},
   "source": [
    "#배달 서비스 자료 추출하기\n",
    "-> 정적인 자료 이므로 bs4 사용\n"
   ]
  },
  {
   "cell_type": "code",
   "execution_count": 2,
   "metadata": {},
   "outputs": [],
   "source": [
    "import requests\n",
    "from bs4 import BeautifulSoup\n",
    "import lxml\n"
   ]
  },
  {
   "cell_type": "code",
   "execution_count": 3,
   "metadata": {},
   "outputs": [
    {
     "data": {
      "text/plain": [
       "<Response [200]>"
      ]
     },
     "execution_count": 3,
     "metadata": {},
     "output_type": "execute_result"
    }
   ],
   "source": [
    "url=\"https://www.tesco.com/DeliverySaver/\"\n",
    "response=requests.get(url)\n",
    "response\n"
   ]
  },
  {
   "cell_type": "code",
   "execution_count": 4,
   "metadata": {},
   "outputs": [],
   "source": [
    "html=response.text"
   ]
  },
  {
   "cell_type": "code",
   "execution_count": 5,
   "metadata": {},
   "outputs": [],
   "source": [
    "soup=BeautifulSoup(html,\"lxml\")"
   ]
  },
  {
   "cell_type": "code",
   "execution_count": 6,
   "metadata": {},
   "outputs": [],
   "source": [
    "section=soup.find('section',attrs={\"class\":\"plans\"}) "
   ]
  },
  {
   "cell_type": "code",
   "execution_count": 7,
   "metadata": {},
   "outputs": [
    {
     "data": {
      "text/plain": [
       "3"
      ]
     },
     "execution_count": 7,
     "metadata": {},
     "output_type": "execute_result"
    }
   ],
   "source": [
    "len(section.find_all(\"div\",attrs={\"class\":\"plan__3\" }))"
   ]
  },
  {
   "cell_type": "code",
   "execution_count": 8,
   "metadata": {},
   "outputs": [],
   "source": [
    "all_plan=section.find_all(\"div\",attrs={\"class\":\"plan__3\" })"
   ]
  },
  {
   "cell_type": "code",
   "execution_count": 9,
   "metadata": {},
   "outputs": [
    {
     "data": {
      "text/plain": [
       "3"
      ]
     },
     "execution_count": 9,
     "metadata": {},
     "output_type": "execute_result"
    }
   ],
   "source": [
    "len(section.find_all(\"div\",attrs={\"class\":\"plan__3\" }))"
   ]
  },
  {
   "cell_type": "code",
   "execution_count": 10,
   "metadata": {},
   "outputs": [
    {
     "data": {
      "text/plain": [
       "<div class=\"plan__3\">\n",
       "<div class=\"valueTile__horizontal_blue\">\n",
       "<div class=\"horizontal__txt-container\">\n",
       "<span class=\"horizontal__txt_white\">New</span>\n",
       "</div>\n",
       "</div>\n",
       "<h3 class=\"plan__title\">Same-day</h3>\n",
       "<p class=\"plan__copy\">Free deliveries any day, including same-day*</p>\n",
       "<div class=\"plan__costs\">\n",
       "<p class=\"plan__cost\">\n",
       "<span class=\"plan__txt\"><strong>£12.99</strong> a month</span>\n",
       "<span class=\"plan__txt\">1 month contract</span>\n",
       "</p>\n",
       "<p class=\"plan__cost\">\n",
       "<span class=\"plan__txt\"><strong>£9.99</strong> a month</span>\n",
       "<span class=\"plan__txt\">6 month contract</span>\n",
       "</p>\n",
       "</div>\n",
       "</div>"
      ]
     },
     "execution_count": 10,
     "metadata": {},
     "output_type": "execute_result"
    }
   ],
   "source": [
    "all_plan[0]"
   ]
  },
  {
   "cell_type": "code",
   "execution_count": 11,
   "metadata": {},
   "outputs": [
    {
     "data": {
      "text/plain": [
       "'Same-day'"
      ]
     },
     "execution_count": 11,
     "metadata": {},
     "output_type": "execute_result"
    }
   ],
   "source": [
    "plan__title=all_plan[0].find('h3',attrs={\"class\":\"plan__title\" }).text\n",
    "plan__title"
   ]
  },
  {
   "cell_type": "code",
   "execution_count": 14,
   "metadata": {},
   "outputs": [
    {
     "data": {
      "text/plain": [
       "[<span class=\"plan__txt\"><strong>£12.99</strong> a month</span>,\n",
       " <span class=\"plan__txt\">1 month contract</span>,\n",
       " <span class=\"plan__txt\"><strong>£9.99</strong> a month</span>,\n",
       " <span class=\"plan__txt\">6 month contract</span>]"
      ]
     },
     "execution_count": 14,
     "metadata": {},
     "output_type": "execute_result"
    }
   ],
   "source": [
    "plan_period=all_plan[0].find_all('span',attrs={\"class\":\"plan__txt\" })\n",
    "plan_period"
   ]
  },
  {
   "cell_type": "code",
   "execution_count": 24,
   "metadata": {},
   "outputs": [
    {
     "data": {
      "text/plain": [
       "[]"
      ]
     },
     "execution_count": 24,
     "metadata": {},
     "output_type": "execute_result"
    }
   ],
   "source": [
    "all_plan[1].find_all('span',attrs={'class':'plan_txt'})"
   ]
  },
  {
   "cell_type": "code",
   "execution_count": 23,
   "metadata": {},
   "outputs": [
    {
     "data": {
      "text/plain": [
       "'£12.99 a month'"
      ]
     },
     "execution_count": 23,
     "metadata": {},
     "output_type": "execute_result"
    }
   ],
   "source": [
    "plan_period[0].text"
   ]
  },
  {
   "cell_type": "code",
   "execution_count": 22,
   "metadata": {},
   "outputs": [
    {
     "data": {
      "text/plain": [
       "'£9.99 a month'"
      ]
     },
     "execution_count": 22,
     "metadata": {},
     "output_type": "execute_result"
    }
   ],
   "source": [
    "plan_period[2].text"
   ]
  },
  {
   "cell_type": "code",
   "execution_count": null,
   "metadata": {},
   "outputs": [],
   "source": [
    "plan_period_6 month=all_plan[0].find('span',attrs={\"class\":\"plan__txt\" }).text\n",
    "plan_period"
   ]
  },
  {
   "cell_type": "code",
   "execution_count": null,
   "metadata": {},
   "outputs": [],
   "source": [
    "plan_cost=plan_period[:5]\n",
    "plan_cost"
   ]
  },
  {
   "cell_type": "code",
   "execution_count": null,
   "metadata": {},
   "outputs": [],
   "source": [
    "delivery_service_tesco_dict={}\n",
    "for plan,i in zip(all_plan,range(3)):\n",
    "    plan__title=all_plan[i].find('h3',attrs={\"class\":\"plan__title\" }).text\n",
    "    plan_period=all_plan[i].find('span',attrs={\"class\":\"plan__txt\" }).text\n",
    "    plan_cost=plan_period[:5]\n",
    "    print(plan__title, plan_period,plan_cost)\n"
   ]
  },
  {
   "cell_type": "code",
   "execution_count": null,
   "metadata": {},
   "outputs": [],
   "source": [
    "all_plan[2]\n",
    "plan_period=all_plan[2].find('span',attrs={\"class\":\"plan__txt\" }).text\n",
    "plan_period"
   ]
  },
  {
   "cell_type": "code",
   "execution_count": null,
   "metadata": {},
   "outputs": [],
   "source": []
  },
  {
   "cell_type": "code",
   "execution_count": null,
   "metadata": {},
   "outputs": [],
   "source": []
  }
 ],
 "metadata": {
  "kernelspec": {
   "display_name": "Python 3",
   "language": "python",
   "name": "python3"
  },
  "language_info": {
   "codemirror_mode": {
    "name": "ipython",
    "version": 3
   },
   "file_extension": ".py",
   "mimetype": "text/x-python",
   "name": "python",
   "nbconvert_exporter": "python",
   "pygments_lexer": "ipython3",
   "version": "3.7.1"
  }
 },
 "nbformat": 4,
 "nbformat_minor": 2
}
