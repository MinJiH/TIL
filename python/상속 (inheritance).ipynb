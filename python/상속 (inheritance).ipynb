{
 "cells": [
  {
   "cell_type": "markdown",
   "metadata": {},
   "source": [
    "#상속 (inheritance)\n",
    "이경우, 애니멀은 부모가 되는 거고,, 휴먼과 도그는 자식이 되는 것임"
   ]
  },
  {
   "cell_type": "code",
   "execution_count": 1,
   "metadata": {},
   "outputs": [
    {
     "name": "stdout",
     "output_type": "stream",
     "text": [
      "walking\n",
      "eating\n",
      "waving\n",
      "walking\n",
      "eating\n",
      "waving\n"
     ]
    }
   ],
   "source": [
    "class Animal():\n",
    "    def walk(self):\n",
    "        print(\"walking\")\n",
    "        \n",
    "    def eat(self):\n",
    "        print(\"eating\")\n",
    "\n",
    "class Human(Animal):\n",
    "    \n",
    "    def walk(self):\n",
    "        print(\"walking\")\n",
    "        \n",
    "    def eat(self):\n",
    "        print(\"eating\")\n",
    "    \n",
    "    def wave(self):\n",
    "        print(\"waving\")\n",
    "\n",
    "class Dog(Animal):\n",
    "    \n",
    "    def walk(self):\n",
    "        print(\"walking\")\n",
    "        \n",
    "    def eat(self):\n",
    "        print(\"eating\")\n",
    "    \n",
    "    def wave(self):\n",
    "        print(\"waving\")\n",
    "\n",
    "person=Human()\n",
    "person.walk()\n",
    "person.eat()\n",
    "person.wave()\n",
    "\n",
    "dog=Dog()\n",
    "dog.walk()\n",
    "dog.eat()\n",
    "dog.wave()"
   ]
  },
  {
   "cell_type": "code",
   "execution_count": null,
   "metadata": {},
   "outputs": [],
   "source": [
    "class Human(Animal):\n",
    "    \n",
    "    def walk(self):\n",
    "        print(\"walking\")\n",
    "        \n",
    "    def eat(self):\n",
    "        print(\"eating\")\n",
    "    \n",
    "    def wave(self):\n",
    "        print(\"waving\")\n",
    "\n",
    "class Dog(Animal):\n",
    "    \n",
    "    def walk(self):\n",
    "        print(\"walking\")\n",
    "        \n",
    "    def eat(self):\n",
    "        print(\"eating\")\n",
    "    \n",
    "    def wave(self):\n",
    "        print(\"waving\")"
   ]
  },
  {
   "cell_type": "code",
   "execution_count": null,
   "metadata": {},
   "outputs": [],
   "source": []
  },
  {
   "cell_type": "code",
   "execution_count": null,
   "metadata": {},
   "outputs": [],
   "source": []
  },
  {
   "cell_type": "code",
   "execution_count": null,
   "metadata": {},
   "outputs": [],
   "source": []
  },
  {
   "cell_type": "code",
   "execution_count": null,
   "metadata": {},
   "outputs": [],
   "source": []
  },
  {
   "cell_type": "code",
   "execution_count": null,
   "metadata": {},
   "outputs": [],
   "source": []
  },
  {
   "cell_type": "code",
   "execution_count": null,
   "metadata": {},
   "outputs": [],
   "source": []
  },
  {
   "cell_type": "code",
   "execution_count": null,
   "metadata": {},
   "outputs": [],
   "source": []
  },
  {
   "cell_type": "code",
   "execution_count": null,
   "metadata": {},
   "outputs": [],
   "source": []
  }
 ],
 "metadata": {
  "kernelspec": {
   "display_name": "Python 3",
   "language": "python",
   "name": "python3"
  },
  "language_info": {
   "codemirror_mode": {
    "name": "ipython",
    "version": 3
   },
   "file_extension": ".py",
   "mimetype": "text/x-python",
   "name": "python",
   "nbconvert_exporter": "python",
   "pygments_lexer": "ipython3",
   "version": "3.7.1"
  }
 },
 "nbformat": 4,
 "nbformat_minor": 2
}
