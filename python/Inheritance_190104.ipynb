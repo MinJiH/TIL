{
 "cells": [
  {
   "cell_type": "markdown",
   "metadata": {},
   "source": [
    "# Inheritance"
   ]
  },
  {
   "cell_type": "code",
   "execution_count": 1,
   "metadata": {},
   "outputs": [
    {
     "name": "stdout",
     "output_type": "stream",
     "text": [
      "걷는다\n",
      "먹는다\n",
      "손을 흔든다\n",
      "걷는다\n",
      "먹는다\n",
      "꼬리를 흔든다\n"
     ]
    }
   ],
   "source": [
    "\n",
    "\n",
    "class Human():\n",
    "    \n",
    "    def walk(self):\n",
    "        print(\"걷는다\")\n",
    "    def eat(self):\n",
    "        print(\"먹는다\")\n",
    "    def wave(self):\n",
    "        print(\"손을 흔든다\")\n",
    "        \n",
    "class Dog():\n",
    "    \n",
    "    def walk(self):\n",
    "        print(\"걷는다\")\n",
    "    def eat(self):\n",
    "        print(\"먹는다\")\n",
    "    def wag(self):\n",
    "        print(\"꼬리를 흔든다\")\n",
    "        \n",
    "person =Human()\n",
    "person.walk()\n",
    "person.eat()\n",
    "person.wave()\n",
    "\n",
    "dog =Dog()\n",
    "dog.walk()\n",
    "dog.eat()\n",
    "dog.wag()\n"
   ]
  },
  {
   "cell_type": "code",
   "execution_count": 4,
   "metadata": {},
   "outputs": [
    {
     "name": "stdout",
     "output_type": "stream",
     "text": [
      "걷는다\n",
      "먹는다\n",
      "손을 흔든다\n",
      "걷는다\n",
      "먹는다\n",
      "꼬리를 흔든다\n"
     ]
    }
   ],
   "source": [
    "class Animal():\n",
    "    def walk(self):\n",
    "        print(\"걷는다\")\n",
    "    def eat(self):\n",
    "        print(\"먹는다\")\n",
    "        \n",
    "class Human(Animal): #상속한다,Human 클래스는 자식 클래스, 애니멀 클래스는 부모클래스\n",
    "      def wave(self):\n",
    "        print(\"손을 흔든다\")\n",
    "class Dog(Animal):\n",
    "    def wag(self):\n",
    "        print(\"꼬리를 흔든다\")\n",
    "    \n",
    "person =Human()\n",
    "person.walk()\n",
    "person.eat()\n",
    "person.wave()\n",
    "\n",
    "dog =Dog()\n",
    "dog.walk()\n",
    "dog.eat()\n",
    "dog.wag()\n",
    "\n",
    "#1) creating the parent class\n",
    "#2) creating the baby class\n",
    "#3) then inheritate"
   ]
  },
  {
   "cell_type": "code",
   "execution_count": null,
   "metadata": {},
   "outputs": [],
   "source": []
  },
  {
   "cell_type": "code",
   "execution_count": null,
   "metadata": {},
   "outputs": [],
   "source": []
  },
  {
   "cell_type": "code",
   "execution_count": null,
   "metadata": {},
   "outputs": [],
   "source": []
  },
  {
   "cell_type": "code",
   "execution_count": null,
   "metadata": {},
   "outputs": [],
   "source": []
  },
  {
   "cell_type": "code",
   "execution_count": null,
   "metadata": {},
   "outputs": [],
   "source": []
  },
  {
   "cell_type": "code",
   "execution_count": null,
   "metadata": {},
   "outputs": [],
   "source": []
  },
  {
   "cell_type": "code",
   "execution_count": null,
   "metadata": {},
   "outputs": [],
   "source": []
  },
  {
   "cell_type": "code",
   "execution_count": null,
   "metadata": {},
   "outputs": [],
   "source": []
  },
  {
   "cell_type": "code",
   "execution_count": null,
   "metadata": {},
   "outputs": [],
   "source": []
  },
  {
   "cell_type": "code",
   "execution_count": null,
   "metadata": {},
   "outputs": [],
   "source": []
  },
  {
   "cell_type": "code",
   "execution_count": null,
   "metadata": {},
   "outputs": [],
   "source": []
  },
  {
   "cell_type": "code",
   "execution_count": null,
   "metadata": {},
   "outputs": [],
   "source": []
  }
 ],
 "metadata": {
  "kernelspec": {
   "display_name": "Python 3",
   "language": "python",
   "name": "python3"
  },
  "language_info": {
   "codemirror_mode": {
    "name": "ipython",
    "version": 3
   },
   "file_extension": ".py",
   "mimetype": "text/x-python",
   "name": "python",
   "nbconvert_exporter": "python",
   "pygments_lexer": "ipython3",
   "version": "3.7.1"
  }
 },
 "nbformat": 4,
 "nbformat_minor": 2
}
