{
 "cells": [
  {
   "cell_type": "markdown",
   "metadata": {},
   "source": [
    "# Simple override"
   ]
  },
  {
   "cell_type": "code",
   "execution_count": 4,
   "metadata": {},
   "outputs": [
    {
     "name": "stdout",
     "output_type": "stream",
     "text": [
      "손을 흔든다\n",
      "꼬리를 흔든다\n"
     ]
    }
   ],
   "source": [
    "class Animal():\n",
    "    def walk(self):\n",
    "        print(\"걷는다\")\n",
    "    def eat(self):\n",
    "        print(\"먹는다\")\n",
    "    def greet(self):\n",
    "        print(\"인사한다\")\n",
    "        \n",
    "\n",
    "        \n",
    "class Human(Animal): #상속한다,Human 클래스는 자식 클래스, 애니멀 클래스는 부모클래스\n",
    "      \n",
    "    def wave(self):\n",
    "        print(\"손을 흔든다\")\n",
    "    \n",
    "    def greet(self):\n",
    "        self.wave()#do overiding\n",
    "        \n",
    "class Dog(Animal):\n",
    "    \n",
    "    def wag(self):\n",
    "        print(\"꼬리를 흔든다\")\n",
    "        \n",
    "    def greet(self):\n",
    "        self.wag()#do overiding\n",
    "        \n",
    "person =Human()\n",
    "person.greet()\n",
    "\n",
    "dog =Dog()\n",
    "dog.greet()\n",
    "\n"
   ]
  },
  {
   "cell_type": "code",
   "execution_count": 12,
   "metadata": {},
   "outputs": [
    {
     "name": "stdout",
     "output_type": "stream",
     "text": [
      "인사한다\n"
     ]
    }
   ],
   "source": [
    "\n",
    "class Animal():\n",
    "    def walk(self):\n",
    "        print(\"걷는다\")\n",
    "    def eat(self):\n",
    "        print(\"먹는다\")\n",
    "    def greet(self):\n",
    "        print(\"인사한다\")\n",
    "\n",
    "\n",
    "class Cow(Animal):\n",
    "    '''소'''\n",
    "   \n",
    "\n",
    "    \n",
    "cow=Cow()\n",
    "cow.greet()"
   ]
  },
  {
   "cell_type": "code",
   "execution_count": null,
   "metadata": {},
   "outputs": [],
   "source": []
  },
  {
   "cell_type": "code",
   "execution_count": null,
   "metadata": {},
   "outputs": [],
   "source": []
  },
  {
   "cell_type": "code",
   "execution_count": null,
   "metadata": {},
   "outputs": [],
   "source": []
  },
  {
   "cell_type": "code",
   "execution_count": null,
   "metadata": {},
   "outputs": [],
   "source": []
  },
  {
   "cell_type": "code",
   "execution_count": null,
   "metadata": {},
   "outputs": [],
   "source": []
  },
  {
   "cell_type": "code",
   "execution_count": null,
   "metadata": {},
   "outputs": [],
   "source": []
  },
  {
   "cell_type": "code",
   "execution_count": null,
   "metadata": {},
   "outputs": [],
   "source": []
  },
  {
   "cell_type": "code",
   "execution_count": null,
   "metadata": {},
   "outputs": [],
   "source": []
  },
  {
   "cell_type": "code",
   "execution_count": null,
   "metadata": {},
   "outputs": [],
   "source": []
  },
  {
   "cell_type": "code",
   "execution_count": null,
   "metadata": {},
   "outputs": [],
   "source": []
  },
  {
   "cell_type": "code",
   "execution_count": null,
   "metadata": {},
   "outputs": [],
   "source": []
  },
  {
   "cell_type": "code",
   "execution_count": null,
   "metadata": {},
   "outputs": [],
   "source": []
  },
  {
   "cell_type": "code",
   "execution_count": null,
   "metadata": {},
   "outputs": [],
   "source": []
  },
  {
   "cell_type": "code",
   "execution_count": null,
   "metadata": {},
   "outputs": [],
   "source": []
  },
  {
   "cell_type": "code",
   "execution_count": null,
   "metadata": {},
   "outputs": [],
   "source": []
  },
  {
   "cell_type": "code",
   "execution_count": null,
   "metadata": {},
   "outputs": [],
   "source": []
  },
  {
   "cell_type": "code",
   "execution_count": null,
   "metadata": {},
   "outputs": [],
   "source": []
  }
 ],
 "metadata": {
  "kernelspec": {
   "display_name": "Python 3",
   "language": "python",
   "name": "python3"
  },
  "language_info": {
   "codemirror_mode": {
    "name": "ipython",
    "version": 3
   },
   "file_extension": ".py",
   "mimetype": "text/x-python",
   "name": "python",
   "nbconvert_exporter": "python",
   "pygments_lexer": "ipython3",
   "version": "3.7.1"
  }
 },
 "nbformat": 4,
 "nbformat_minor": 2
}
