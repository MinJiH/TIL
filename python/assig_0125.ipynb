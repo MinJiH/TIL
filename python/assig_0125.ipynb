{
 "cells": [
  {
   "cell_type": "code",
   "execution_count": 20,
   "metadata": {},
   "outputs": [],
   "source": [
    "from selenium import webdriver\n",
    "from bs4 import BeautifulSoup"
   ]
  },
  {
   "cell_type": "code",
   "execution_count": 21,
   "metadata": {},
   "outputs": [],
   "source": [
    "driver=webdriver.Chrome(\"C://Users/minji hong/chromedriver/chromedriver.exe\")"
   ]
  },
  {
   "cell_type": "code",
   "execution_count": 22,
   "metadata": {},
   "outputs": [],
   "source": [
    "driver.get(\"https://member.ssg.com/addr/popup/zipcd.ssg\")\n",
    "driver.implicitly_wait(3)"
   ]
  },
  {
   "cell_type": "code",
   "execution_count": 23,
   "metadata": {},
   "outputs": [],
   "source": [
    "address=driver.find_element_by_class_name(\"search_txt\")\n",
    "search_btn=driver.find_element_by_class_name(\"search_btn\")"
   ]
  },
  {
   "cell_type": "code",
   "execution_count": 24,
   "metadata": {},
   "outputs": [],
   "source": [
    "if search_btn.is_displayed():\n",
    "    address.clear()\n",
    "    address.send_keys(\"서현로429번길\")\n",
    "    search_btn.click()\n",
    "\n"
   ]
  },
  {
   "cell_type": "code",
   "execution_count": 34,
   "metadata": {},
   "outputs": [
    {
     "data": {
      "text/plain": [
       "'경기도 성남시 분당구 서현로429번길 2 (분당동)'"
      ]
     },
     "execution_count": 34,
     "metadata": {},
     "output_type": "execute_result"
    }
   ],
   "source": [
    "address = driver.find_elements_by_class_name('info_cont')\n",
    "address[0].text"
   ]
  },
  {
   "cell_type": "code",
   "execution_count": null,
   "metadata": {},
   "outputs": [],
   "source": [
    "for i in range(5):\n",
    "    address= driver.find_elements_by_class_name('info_cont')\n",
    "    address[i].text\n",
    "\n",
    "    print(address)"
   ]
  },
  {
   "cell_type": "code",
   "execution_count": 44,
   "metadata": {},
   "outputs": [
    {
     "ename": "IndentationError",
     "evalue": "unindent does not match any outer indentation level (<tokenize>, line 8)",
     "output_type": "error",
     "traceback": [
      "\u001b[1;36m  File \u001b[1;32m\"<tokenize>\"\u001b[1;36m, line \u001b[1;32m8\u001b[0m\n\u001b[1;33m    print(subject)\u001b[0m\n\u001b[1;37m    ^\u001b[0m\n\u001b[1;31mIndentationError\u001b[0m\u001b[1;31m:\u001b[0m unindent does not match any outer indentation level\n"
     ]
    }
   ],
   "source": [
    "for i in range(5):\n",
    "    address= driver.find_elements_by_class_name('info_cont')\n",
    "    address[i].text\n",
    "\n",
    "    print(address)\n",
    "\n",
    "\t\n",
    "#함수화\n",
    "def get_address():\n",
    "    address = driver.find_elements_by_class_name('info_cont')\n",
    "    result = []\n",
    "    \n",
    "    for item in address:\n",
    "         address = driver.find_elements_by_class_name('info_cont')\n",
    "            result.append(subject)\n",
    "        \n",
    "    return result\n",
    "\n",
    "#전체 scraping\n",
    "# ch_driver.execute_script('fnPagingMove(2);') => can move to page 2\n",
    "# so, fnPagingMove(n) => 1 to 10\n",
    "\n",
    "from time import sleep\n",
    "\n",
    "# tell driver to wait for 5 secs when certain elements are not available immediately.\n",
    "ch_driver.implicitly_wait(5)\n",
    "\n",
    "all_result = []\n",
    "for i in range(1, 5):\n",
    "    #move to page i\n",
    "    ch_driver.execute_script('Zipcd.goPage{page_number});'.format(page_number = i))\n",
    "    \n",
    "    #after 1sec sleep\n",
    "    sleep(1)\n",
    "    \n",
    "    #get all contents and append them to all_result\n",
    "    all_result.append(get_address())\n",
    "    \n",
    "all_result\n"
   ]
  },
  {
   "cell_type": "code",
   "execution_count": null,
   "metadata": {},
   "outputs": [],
   "source": []
  }
 ],
 "metadata": {
  "kernelspec": {
   "display_name": "Python 3",
   "language": "python",
   "name": "python3"
  },
  "language_info": {
   "codemirror_mode": {
    "name": "ipython",
    "version": 3
   },
   "file_extension": ".py",
   "mimetype": "text/x-python",
   "name": "python",
   "nbconvert_exporter": "python",
   "pygments_lexer": "ipython3",
   "version": "3.7.1"
  }
 },
 "nbformat": 4,
 "nbformat_minor": 2
}
