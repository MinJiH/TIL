{
 "cells": [
  {
   "cell_type": "markdown",
   "metadata": {},
   "source": [
    "# google spreadsheet"
   ]
  },
  {
   "cell_type": "markdown",
   "metadata": {},
   "source": [
    "스프레드 시트에서는 인증 로그인, 데이터를 읽고 쓰고 공유하는 방법\n",
    "웹사이트 다루기는 1)데이터를 수집하는 자동화/ 2)특정 작업을 자동화 하는 자동화\n",
    "2) 특정 동작 자동화: 에스앤에스를 관리하거나, 오픈 마켓을 관리할 때 쓰임.\n",
    "작성한 글이나 상품을 자동으로 여러 군데에 업로드하는 것. \n"
   ]
  },
  {
   "cell_type": "markdown",
   "metadata": {},
   "source": [
    "#What is google spreadsheet?"
   ]
  },
  {
   "cell_type": "markdown",
   "metadata": {},
   "source": [
    "it's like a exel but using like web-browser\n",
    "it's similar with exel to read & write the date.\n",
    "but through web, it can be shared by logging google.\n",
    "to begine with, making my account on google. on my account, the shared document could be made.\n",
    "making or reading the data is important but getting the authentification could be most complicated and be large part of google spread sheet.\n",
    "API will be access to the spreadsheet without the program suitable for that file.\n",
    "gut as i menntioned, there is something to be set up on google.\n"
   ]
  },
  {
   "cell_type": "code",
   "execution_count": null,
   "metadata": {},
   "outputs": [],
   "source": []
  },
  {
   "cell_type": "code",
   "execution_count": null,
   "metadata": {},
   "outputs": [],
   "source": []
  },
  {
   "cell_type": "code",
   "execution_count": null,
   "metadata": {},
   "outputs": [],
   "source": []
  },
  {
   "cell_type": "code",
   "execution_count": null,
   "metadata": {},
   "outputs": [],
   "source": []
  },
  {
   "cell_type": "code",
   "execution_count": null,
   "metadata": {},
   "outputs": [],
   "source": []
  },
  {
   "cell_type": "code",
   "execution_count": null,
   "metadata": {},
   "outputs": [],
   "source": []
  }
 ],
 "metadata": {
  "kernelspec": {
   "display_name": "Python 3",
   "language": "python",
   "name": "python3"
  },
  "language_info": {
   "codemirror_mode": {
    "name": "ipython",
    "version": 3
   },
   "file_extension": ".py",
   "mimetype": "text/x-python",
   "name": "python",
   "nbconvert_exporter": "python",
   "pygments_lexer": "ipython3",
   "version": "3.7.1"
  }
 },
 "nbformat": 4,
 "nbformat_minor": 2
}
