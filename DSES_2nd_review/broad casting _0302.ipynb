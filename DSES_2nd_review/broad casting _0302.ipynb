{
 "cells": [
  {
   "cell_type": "markdown",
   "metadata": {},
   "source": [
    "# broad casting **** important advanced\n",
    "knn 가장 가까운 이웃 / 각 점에 대해서 하나의 점이 거리가 어떻게 되는 지/"
   ]
  },
  {
   "cell_type": "code",
   "execution_count": 1,
   "metadata": {},
   "outputs": [
    {
     "data": {
      "text/plain": [
       "array([5, 6, 7])"
      ]
     },
     "execution_count": 1,
     "metadata": {},
     "output_type": "execute_result"
    }
   ],
   "source": [
    "#같은 크기의 배열의 연산\n",
    "import numpy as np\n",
    "\n",
    "a=np.array([0,1,2])\n",
    "b=np.array([5,5,5])\n",
    "\n",
    "a+b"
   ]
  },
  {
   "cell_type": "code",
   "execution_count": 2,
   "metadata": {},
   "outputs": [
    {
     "data": {
      "text/plain": [
       "array([5, 6, 7])"
      ]
     },
     "execution_count": 2,
     "metadata": {},
     "output_type": "execute_result"
    }
   ],
   "source": [
    "#1 by 3 배열과 scala의 합\n",
    "\n",
    "a+5"
   ]
  },
  {
   "cell_type": "code",
   "execution_count": 3,
   "metadata": {},
   "outputs": [
    {
     "data": {
      "text/plain": [
       "array([[1., 1., 1.],\n",
       "       [1., 1., 1.],\n",
       "       [1., 1., 1.]])"
      ]
     },
     "metadata": {},
     "output_type": "display_data"
    },
    {
     "data": {
      "text/plain": [
       "array([0, 1, 2])"
      ]
     },
     "metadata": {},
     "output_type": "display_data"
    },
    {
     "data": {
      "text/plain": [
       "array([[1., 2., 3.],\n",
       "       [1., 2., 3.],\n",
       "       [1., 2., 3.]])"
      ]
     },
     "metadata": {},
     "output_type": "display_data"
    }
   ],
   "source": [
    "#3 by 3 배열과 1 by 3배열의 합\n",
    "# 3 by 3 + 1 by 3 => 3 by 3\n",
    "\n",
    "mat=np.ones((3,3))\n",
    "display(mat)\n",
    "display(a)\n",
    "\n",
    "#1 차원 배열은 2 차원 배열의 형상을 맞추기 위해 두 번째 차원 까지 확장 또는 브로드캐스팅\n",
    "# 그래서 a는 ([0,1,2],[0,1,2],[0,1,2])  이렇게 3차원으로 바뀜\n",
    "\n",
    "display(mat+a)"
   ]
  },
  {
   "cell_type": "code",
   "execution_count": 4,
   "metadata": {},
   "outputs": [
    {
     "data": {
      "text/plain": [
       "array([0, 1, 2])"
      ]
     },
     "metadata": {},
     "output_type": "display_data"
    },
    {
     "data": {
      "text/plain": [
       "array([[0],\n",
       "       [1],\n",
       "       [2]])"
      ]
     },
     "metadata": {},
     "output_type": "display_data"
    },
    {
     "data": {
      "text/plain": [
       "array([[0, 1, 2],\n",
       "       [1, 2, 3],\n",
       "       [2, 3, 4]])"
      ]
     },
     "metadata": {},
     "output_type": "display_data"
    }
   ],
   "source": [
    "#1 by 3배열과 3 by 1 배열의 합\n",
    "\n",
    "a= np.arange(3)\n",
    "b=np.arange(3)[:,np.newaxis]\n",
    "\n",
    "display(a)\n",
    "display(b)\n",
    "\n",
    "# a= (0,1,2) b=(0),(1),(2) -> 브로드 캐스팅 -> 연산\n",
    "#1 *3 +3*1 = 3*3 + 3*3 \n",
    "#(0,1,2)(0,1,2)(0,1,2) + (0,0,0)(1,1,1)(2,2,2)=(0,1,2)(1,2,3)(2,3,4)\n",
    "\n",
    "display(a+b)\n",
    "\n"
   ]
  },
  {
   "cell_type": "markdown",
   "metadata": {},
   "source": [
    "# 2. Broad casting rule\n",
    "\n",
    "Numpy의 브로드 캐스팅은 두 배열 사이의 상호 작용을 결정하기 위해\n",
    "엄격한 규칙을 따른다 -> 상호 작용이라 하면 차원 수가 다른 배열 끼리 합을 구할 때, 차원수가 변경 되는 것?\n",
    "\n",
    "1. 두 배열의 차원 수가 다르면 더 작은 수의 차원을 가진 배열 형상의 앞 쪽을\n",
    "   1로 채운다.\n",
    "2. 두 배열의 형상이 어떤 차원에서 일치하지 않는 다면, 해당 차원의 형상이 1인 배열을\n",
    "   다른 형상의 차원과 일치하도록 형상을 늘린다.\n",
    "3. 임의의 차원에서 크기가 일치하지 않고 1도 아니라면 오류가 발생한다."
   ]
  },
  {
   "cell_type": "markdown",
   "metadata": {},
   "source": [
    "example 01._element wise *1 때만 업데이트 해야함!(shape function)"
   ]
  },
  {
   "cell_type": "code",
   "execution_count": 5,
   "metadata": {},
   "outputs": [
    {
     "data": {
      "text/plain": [
       "array([[1., 1., 1.],\n",
       "       [1., 1., 1.]])"
      ]
     },
     "metadata": {},
     "output_type": "display_data"
    },
    {
     "data": {
      "text/plain": [
       "array([0, 1, 2])"
      ]
     },
     "metadata": {},
     "output_type": "display_data"
    },
    {
     "name": "stdout",
     "output_type": "stream",
     "text": [
      "==shape==\n",
      "(2, 3)\n",
      "(3,)\n",
      "========\n"
     ]
    },
    {
     "data": {
      "text/plain": [
       "array([[1., 2., 3.],\n",
       "       [1., 2., 3.]])"
      ]
     },
     "metadata": {},
     "output_type": "display_data"
    }
   ],
   "source": [
    "mat = np.ones((2,3))\n",
    "vec = np. arange(3)# 이거 차원이 1 by 3 아닌 가요? 차원과 형상은 다른 건가요? 형상이 뭐죠?\n",
    "\n",
    "display(mat)\n",
    "display(vec)\n",
    "\n",
    "\"\"\"\n",
    "1.각 배열의 형상\n",
    "\"\"\"\n",
    "print(\"==shape==\")\n",
    "print(mat.shape)\n",
    "print(vec.shape) \n",
    "print(\"========\")\n",
    "\n",
    "\"\"\"\n",
    "2. 규칙 1(1. 두 배열의 차원 수가 다르면 더 작은 수의 차원을 가진 배열 형상의 앞 쪽을\n",
    "   1로 채운다.) 에 따라서 배열 vec이 더 작은 차원을 가지므로\n",
    "\n",
    "mat.shape=(2,3)\n",
    "vec.shape=(1,3)\n",
    "\n",
    "3. 규칙 2(2. 두 배열의 형상이 어떤 차원에서 일치하지 않는 다면, 해당 차원의 형상이 1인 배열을\n",
    "   다른 형상의 차원과 일치하도록 형상을 늘린다.)에 따라서 배열 vec이 다른 형상의 차원이므로\n",
    "mat.shape=(2,3)\n",
    "vec.shape=(2,3)\n",
    "\"\"\"\n",
    "\n",
    "display(mat +vec)\n"
   ]
  },
  {
   "cell_type": "markdown",
   "metadata": {},
   "source": [
    "example 02. element wise\\ ****1 때만 업데이트 해야함!(shape function)"
   ]
  },
  {
   "cell_type": "code",
   "execution_count": 6,
   "metadata": {},
   "outputs": [
    {
     "data": {
      "text/plain": [
       "array([[0],\n",
       "       [1],\n",
       "       [2]])"
      ]
     },
     "metadata": {},
     "output_type": "display_data"
    },
    {
     "data": {
      "text/plain": [
       "array([0, 1, 2])"
      ]
     },
     "metadata": {},
     "output_type": "display_data"
    },
    {
     "name": "stdout",
     "output_type": "stream",
     "text": [
      "==shape==\n",
      "(3, 1)\n",
      "(3,)\n",
      "========\n"
     ]
    },
    {
     "data": {
      "text/plain": [
       "array([[0, 1, 2],\n",
       "       [1, 2, 3],\n",
       "       [2, 3, 4]])"
      ]
     },
     "metadata": {},
     "output_type": "display_data"
    }
   ],
   "source": [
    "vec1=np.arange(3).reshape((3,1))\n",
    "vec2=np.arange(3)\n",
    "\n",
    "display(vec1)\n",
    "display(vec2)\n",
    "\n",
    "\"\"\"\n",
    "1.각 배열의 형상\n",
    "(3,1)\n",
    "(3,)\n",
    "\"\"\"\n",
    "print(\"==shape==\")\n",
    "print(vec1.shape)\n",
    "print(vec2.shape) \n",
    "print(\"========\")\n",
    "\n",
    "\n",
    "\"\"\"\n",
    "2. 규칙 1(1. 두 배열의 차원 수가 다르면 더 작은 수의 차원을 가진 배열 형상의 앞 쪽을\n",
    "   1로 채운다.) 에 따라서 배열 vec이 더 작은 차원을 가지므로\n",
    "\n",
    "mat.shape=(3,1)\n",
    "vec.shape=(1,3)\n",
    "\n",
    "3. 규칙 2(2. 두 배열의 형상이 어떤 차원에서 일치하지 않는 다면, 해당 차원의 형상이 1인 배열을\n",
    "   다른 형상의 차원과 일치하도록 형상을 늘린다.)에 따라서 배열 vec이 다른 형상의 차원이므로\n",
    "mat.shape=(3,1)\n",
    "vec.shape=(3,3)\n",
    "\"\"\"\n",
    "\n",
    "display(vec1 +vec2)"
   ]
  },
  {
   "cell_type": "markdown",
   "metadata": {},
   "source": [
    "example3. "
   ]
  },
  {
   "cell_type": "code",
   "execution_count": 7,
   "metadata": {},
   "outputs": [
    {
     "data": {
      "text/plain": [
       "array([[1., 1.],\n",
       "       [1., 1.],\n",
       "       [1., 1.]])"
      ]
     },
     "metadata": {},
     "output_type": "display_data"
    },
    {
     "data": {
      "text/plain": [
       "array([0, 1, 2])"
      ]
     },
     "metadata": {},
     "output_type": "display_data"
    },
    {
     "name": "stdout",
     "output_type": "stream",
     "text": [
      "==shape==\n",
      "(3, 2)\n",
      "(3,)\n",
      "========\n"
     ]
    },
    {
     "ename": "ValueError",
     "evalue": "operands could not be broadcast together with shapes (3,2) (3,) ",
     "output_type": "error",
     "traceback": [
      "\u001b[1;31m---------------------------------------------------------------------------\u001b[0m",
      "\u001b[1;31mValueError\u001b[0m                                Traceback (most recent call last)",
      "\u001b[1;32m<ipython-input-7-88df478431a9>\u001b[0m in \u001b[0;36m<module>\u001b[1;34m\u001b[0m\n\u001b[0;32m     29\u001b[0m \"\"\"\n\u001b[0;32m     30\u001b[0m \u001b[1;33m\u001b[0m\u001b[0m\n\u001b[1;32m---> 31\u001b[1;33m \u001b[0mdisplay\u001b[0m\u001b[1;33m(\u001b[0m\u001b[0mmat\u001b[0m \u001b[1;33m+\u001b[0m\u001b[0mvec\u001b[0m\u001b[1;33m)\u001b[0m\u001b[1;33m\u001b[0m\u001b[1;33m\u001b[0m\u001b[0m\n\u001b[0m\u001b[0;32m     32\u001b[0m \u001b[1;33m\u001b[0m\u001b[0m\n\u001b[0;32m     33\u001b[0m \u001b[1;31m# 브로드 캐스팅 결과, 벡터 형상이 일치 하지 않아 오류\u001b[0m\u001b[1;33m\u001b[0m\u001b[1;33m\u001b[0m\u001b[1;33m\u001b[0m\u001b[0m\n",
      "\u001b[1;31mValueError\u001b[0m: operands could not be broadcast together with shapes (3,2) (3,) "
     ]
    }
   ],
   "source": [
    "mat = np.ones((3,2))\n",
    "vec= np.arange(3)\n",
    "\n",
    "display(mat)\n",
    "display(vec)\n",
    "\n",
    "\"\"\"\n",
    "1.각 배열의 형상\n",
    "(3,2)\n",
    "(3,)\n",
    "\"\"\"\n",
    "print(\"==shape==\")\n",
    "print(mat.shape)\n",
    "print(vec.shape) \n",
    "print(\"========\")\n",
    "\n",
    "\n",
    "\"\"\"\n",
    "2. 규칙 1(1. 두 배열의 차원 수가 다르면 더 작은 수의 차원을 가진 배열 형상의 앞 쪽을\n",
    "   1로 채운다.) 에 따라서 배열 vec이 더 작은 차원을 가지므로\n",
    "\n",
    "mat.shape=(3,2)\n",
    "vec.shape=(1,3)\n",
    "\n",
    "3. 규칙 2(2. 두 배열의 형상이 어떤 차원에서 일치하지 않는 다면, 해당 차원의 형상이 1인 배열을\n",
    "   다른 형상의 차원과 일치하도록 형상을 늘린다.)에 따라서 배열 vec이 다른 형상의 차원이므로\n",
    "mat.shape=(3,2)\n",
    "vec.shape=(3,3)\n",
    "\"\"\"\n",
    "\n",
    "display(mat +vec)\n",
    "\n",
    "# 브로드 캐스팅 결과, 벡터 형상이 일치 하지 않아 오류"
   ]
  },
  {
   "cell_type": "code",
   "execution_count": 8,
   "metadata": {},
   "outputs": [
    {
     "data": {
      "text/plain": [
       "array([[0],\n",
       "       [1],\n",
       "       [2]])"
      ]
     },
     "metadata": {},
     "output_type": "display_data"
    },
    {
     "name": "stdout",
     "output_type": "stream",
     "text": [
      "Shape: (3, 1)\n"
     ]
    },
    {
     "data": {
      "text/plain": [
       "array([[1., 1.],\n",
       "       [2., 2.],\n",
       "       [3., 3.]])"
      ]
     },
     "metadata": {},
     "output_type": "display_data"
    }
   ],
   "source": [
    "new_vec = vec.reshape (3,1)\n",
    "display(new_vec)\n",
    "\n",
    "print('Shape:', new_vec.shape)\n",
    "\n",
    "\"\"\"\n",
    "1.각 배열의 형상\n",
    "-mat.shape=(3,2)\n",
    "-new_vec.shape=(3,1)\n",
    "\n",
    "2.규칙 1일 따라 채울 차원 없음\n",
    "-mat.shape=(3,2)\n",
    "-new_vec.shape=(3,1)\n",
    "\n",
    "3.규칙 2에 따라\n",
    "-mat.shape=(3,2)\n",
    "-new_vec.shape=(3,2)\n",
    "\n",
    "\"\"\"\n",
    "\n",
    "display(mat + new_vec)"
   ]
  },
  {
   "cell_type": "markdown",
   "metadata": {},
   "source": [
    "# practical broadcasting\n",
    "\n",
    "배열을 중앙 정렬 하기 : feature별(column)별 평균을 0으로 만들기 위해서 사용한다.\n",
    "\n",
    "#굳이 왜요? 이걸 언제 쓰나요??"
   ]
  },
  {
   "cell_type": "markdown",
   "metadata": {},
   "source": [
    "\n",
    "by feature 제로 평균 **중요 제로 평균의 의미는 평균이 제로가 되도록 점의 위치를 옮겨라! 제로 평균은 다 더하면 0이 되는 것 제로 평균을 구하는 방법은 열별 평균을 구해서 각 값을 평균으로 빼는 것"
   ]
  },
  {
   "cell_type": "code",
   "execution_count": 9,
   "metadata": {},
   "outputs": [
    {
     "ename": "SyntaxError",
     "evalue": "unexpected EOF while parsing (<ipython-input-9-22f899cd6583>, line 20)",
     "output_type": "error",
     "traceback": [
      "\u001b[1;36m  File \u001b[1;32m\"<ipython-input-9-22f899cd6583>\"\u001b[1;36m, line \u001b[1;32m20\u001b[0m\n\u001b[1;33m    display(np.round(x_cent.sum(axis=0),10)#이게 이해가 안되요\u001b[0m\n\u001b[1;37m                                                      ^\u001b[0m\n\u001b[1;31mSyntaxError\u001b[0m\u001b[1;31m:\u001b[0m unexpected EOF while parsing\n"
     ]
    }
   ],
   "source": [
    "x=np.random.random((10,3))\n",
    "# numpy.random.random is Return random floats in the half-open interval [0.0, 1.0).\n",
    "#Results are from the “continuous uniform” distribution over the stated interval\n",
    "#함수의 균등 연속 이란?\"continuous uniform”\n",
    "\n",
    "\"\"\"\n",
    "넘파이 랜덤 랜덤 함수의 타입은?\n",
    "type(x)\n",
    "\"\"\"\n",
    "\n",
    "# 첫번째 차원의 특성별 평균 값\n",
    "x_mean =x.mean(axis=0) #vertical이 기본 값\n",
    "\n",
    "#평균 값을 뻄으로써 x 배열을 중앙 정렬(브로드캐스팅 연산)\\\n",
    "x_cent=x-x_mean\n",
    "\n",
    "display(x)\n",
    "display(x_mean)\n",
    "display(x_cent)\n",
    "display(np.round(x_cent.sum(axis=0),10)#이게 이해가 안되요"
   ]
  },
  {
   "cell_type": "code",
   "execution_count": null,
   "metadata": {},
   "outputs": [],
   "source": []
  },
  {
   "cell_type": "code",
   "execution_count": null,
   "metadata": {},
   "outputs": [],
   "source": []
  },
  {
   "cell_type": "code",
   "execution_count": null,
   "metadata": {},
   "outputs": [],
   "source": []
  },
  {
   "cell_type": "code",
   "execution_count": null,
   "metadata": {},
   "outputs": [],
   "source": []
  },
  {
   "cell_type": "code",
   "execution_count": null,
   "metadata": {},
   "outputs": [],
   "source": []
  },
  {
   "cell_type": "code",
   "execution_count": null,
   "metadata": {},
   "outputs": [],
   "source": []
  }
 ],
 "metadata": {
  "kernelspec": {
   "display_name": "Python 3",
   "language": "python",
   "name": "python3"
  },
  "language_info": {
   "codemirror_mode": {
    "name": "ipython",
    "version": 3
   },
   "file_extension": ".py",
   "mimetype": "text/x-python",
   "name": "python",
   "nbconvert_exporter": "python",
   "pygments_lexer": "ipython3",
   "version": "3.7.1"
  }
 },
 "nbformat": 4,
 "nbformat_minor": 2
}
