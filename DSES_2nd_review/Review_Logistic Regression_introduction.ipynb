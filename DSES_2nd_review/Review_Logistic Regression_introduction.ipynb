{
 "cells": [
  {
   "cell_type": "markdown",
   "metadata": {},
   "source": [
    "# Review_Logistic Regression"
   ]
  },
  {
   "cell_type": "markdown",
   "metadata": {},
   "source": [
    "* what i have to understand through this chapter\n",
    "  1) Odds\n",
    "  2) Log odds(logit)\n",
    "  3) Sigmoid Function\n",
    "  4) Logistics regression\n",
    "  5) Odds ratio"
   ]
  },
  {
   "cell_type": "markdown",
   "metadata": {},
   "source": [
    "# 로지스틱 리그레션의 시작-\t로지스틱 리그레션의 시작\n",
    "\n",
    "* 2개의 클러스터를 분류 하고 싶을 때 이때, 선형모델 *classification* 에 사용 할 수 있을까?\n",
    "(*선형 모델을 선호하는 이유는? 식이 직관적 이기 때문에 (엑스가 와이에 얼마나 영향을 미치는 지, 직관적으로 확인이 가능하기 때문에, 설명력이 강하다)\n",
    "\n",
    "* 선형 모델+ 분류=generalized linear model\n",
    "회귀 분석이나 분산 분석은  종속 변수가 정규 분포 되어 있는 연속형 변수 이다.\n",
    "하지만 많은 경우, 1) 종속 변수가 정규 분포되어 있다는 가정을 할 수 없는 경우도 있으며, 2) 범주형 변수가 종속 변수 인 경우도 있다.\n",
    "\n",
    "* 다음과 같은 경우에, 일반화 선형 모델을 사용 한다.\n",
    "* 1)\t종속 변수가 범주형 변수 인 경우: \n",
    "이항 변수 (0 또는 1, 합격/ 불합격, 사망/ 생존) 인 경우도 있으며\n",
    "다항변수( poor/good/excellen 혹은 공화당/민주당/무소속등) 인 경우,\n",
    "정규 분포를 따르지 않는다.\n",
    "* 2)\t종속 변수 가 카운트 변수 인 경우, 이 들 값은 매우 제한적이며, 음수가 되지 않고, 평균과 분산이 밀접하게 관련되어 있고 정규 분포를 따르지 않는다.\n",
    "* (와이가 정규 분포화 된 연속형 변수가 아닐 때, 범주형이거나 카운트 형일때, 일반화된 선형 모델이라고 하는 것임.)-> 선형 모델로 분류를 하고자 하는 것이 최종 목표임\n",
    "* (선형 회귀의 적용 조건은 1) 각각의 피쳐 들이 등분산성이 있어야 하면 2) 변수별 에러는 독립적 이어야 한다.)\n",
    "(선형회귀에서는 오차와 엑스간에 상관관계가 있기 때문에, 선형 회귀를 가지고 분류를 할 수가 없음 -> 그럼에도 선형회귀를 하는 이유는 설명력이 있기 때문이다.)\n",
    "* 일반화 선형 모형은 종속 변수가 정규 분포 하지 않는 경우를 포함하는 선형 모형의 확장이며,\n",
    "대표적으로 1) 로지스틱스 회귀 와 2) 포아송 회귀 가 있다.\n",
    "*  선형 회귀는 일반화된 선형 회귀로 바꾸는 룰\n",
    "1) 와이 값은 0 또는 1로 바로 사용하지 않고, 0 또는 1에 속할 확률을 나타내는 값으로 mapping 하기 \n",
    "여기서 매핑하는 피 값은 확률의 컨셉이나 확률은 아니다.\n",
    "왜? 확률이라면, 0과 1 사이의 값이어야 하지만, 여기서 말하는 피는 0과 1사이의 값이 아니다.\n",
    "따라서, 피는 – 무한대 < 피 <+ 무한대_ 범위\n",
    "\n",
    "* 피는 계산 하는 방법은\n",
    "1)\t영<=오즈<= 무한대\n",
    "2)\t위에 오즈를 마이너스 무한대에서 플러스 무한대 범위로 범위를 변경 하기 위해서는 오즈 값에 로그를 씌운다.(오즈 값에 로그를 씌우는 것을 로짓 이라고 한다)\n",
    "3)\t로짓은 가능성, 확률 값의 컨셉임\n",
    "\n",
    "* ** 로지스틱 리그레션을 사용 하는 이유는 설명력(엑스가 와이에 영향을 미치는 정도 파악 가능)임\n",
    "* <로짓의 다른 컨셉 츄얼 설명>\n",
    "하지만, 엑스가 커질수록 와이가 커진다라 하는 기울기를 영향력으로 생각하는 경우가 많지만, 수식만 보면 성명력이 있다고 볼 수 없다.\n",
    "따라서 오즈 값에 로그를 씌우면 설명력이 높아짐 (카테고리컬 피쳐를 적용해보면)\n",
    "Log(p/1-p)= 알파0+알파1세타1 + 알파2세타2+….+알파 엔 세타 엔\n",
    "1)\t엑스 1이 존재하다고 할 때, 세터0+세터1엑스1+세터2엑스2\n",
    "2)\t엑스1이 존재 하지 않다고 할 때, 세터0+세터2엑스2\n",
    "따라서 세터1엑스1이 엑스 1의 영향력임.\n",
    "*결론적으로, 특정변수(계수의 영향력은 로그 오즈비로 확인 가능하다)가 로지스틱 리그레션에서 얼마나 영향력이 있는 지 파악 하려면 로그 오즈비를 파악하면 됨.*\n",
    "\n",
    "**training \n",
    "선형회귀의 세터는 어떻게 학습 시키나?\n",
    "선형회귀 모형의 손실 함수는? 엠에스티\n",
    "로지스틱도 손실함수가 있지만, 엠엘이에서부터 로지스틱 리그레션의 손실 함수를 찾자\n"
   ]
  },
  {
   "cell_type": "markdown",
   "metadata": {},
   "source": [
    "# MLE....TO BE CONTINUED"
   ]
  },
  {
   "cell_type": "code",
   "execution_count": null,
   "metadata": {},
   "outputs": [],
   "source": []
  },
  {
   "cell_type": "code",
   "execution_count": null,
   "metadata": {},
   "outputs": [],
   "source": []
  },
  {
   "cell_type": "code",
   "execution_count": null,
   "metadata": {},
   "outputs": [],
   "source": []
  },
  {
   "cell_type": "code",
   "execution_count": null,
   "metadata": {},
   "outputs": [],
   "source": []
  },
  {
   "cell_type": "code",
   "execution_count": null,
   "metadata": {},
   "outputs": [],
   "source": []
  },
  {
   "cell_type": "code",
   "execution_count": null,
   "metadata": {},
   "outputs": [],
   "source": []
  },
  {
   "cell_type": "code",
   "execution_count": null,
   "metadata": {},
   "outputs": [],
   "source": []
  },
  {
   "cell_type": "code",
   "execution_count": null,
   "metadata": {},
   "outputs": [],
   "source": []
  },
  {
   "cell_type": "code",
   "execution_count": null,
   "metadata": {},
   "outputs": [],
   "source": []
  },
  {
   "cell_type": "code",
   "execution_count": null,
   "metadata": {},
   "outputs": [],
   "source": []
  },
  {
   "cell_type": "code",
   "execution_count": null,
   "metadata": {},
   "outputs": [],
   "source": []
  },
  {
   "cell_type": "code",
   "execution_count": null,
   "metadata": {},
   "outputs": [],
   "source": []
  },
  {
   "cell_type": "code",
   "execution_count": null,
   "metadata": {},
   "outputs": [],
   "source": []
  },
  {
   "cell_type": "code",
   "execution_count": null,
   "metadata": {},
   "outputs": [],
   "source": []
  },
  {
   "cell_type": "code",
   "execution_count": null,
   "metadata": {},
   "outputs": [],
   "source": []
  },
  {
   "cell_type": "code",
   "execution_count": null,
   "metadata": {},
   "outputs": [],
   "source": []
  },
  {
   "cell_type": "code",
   "execution_count": null,
   "metadata": {},
   "outputs": [],
   "source": []
  },
  {
   "cell_type": "code",
   "execution_count": null,
   "metadata": {},
   "outputs": [],
   "source": []
  },
  {
   "cell_type": "code",
   "execution_count": null,
   "metadata": {},
   "outputs": [],
   "source": []
  },
  {
   "cell_type": "code",
   "execution_count": null,
   "metadata": {},
   "outputs": [],
   "source": []
  },
  {
   "cell_type": "code",
   "execution_count": null,
   "metadata": {},
   "outputs": [],
   "source": []
  },
  {
   "cell_type": "code",
   "execution_count": null,
   "metadata": {},
   "outputs": [],
   "source": []
  },
  {
   "cell_type": "code",
   "execution_count": null,
   "metadata": {},
   "outputs": [],
   "source": []
  },
  {
   "cell_type": "code",
   "execution_count": null,
   "metadata": {},
   "outputs": [],
   "source": []
  },
  {
   "cell_type": "code",
   "execution_count": null,
   "metadata": {},
   "outputs": [],
   "source": []
  },
  {
   "cell_type": "code",
   "execution_count": null,
   "metadata": {},
   "outputs": [],
   "source": []
  },
  {
   "cell_type": "code",
   "execution_count": null,
   "metadata": {},
   "outputs": [],
   "source": []
  },
  {
   "cell_type": "code",
   "execution_count": null,
   "metadata": {},
   "outputs": [],
   "source": []
  },
  {
   "cell_type": "code",
   "execution_count": null,
   "metadata": {},
   "outputs": [],
   "source": []
  },
  {
   "cell_type": "code",
   "execution_count": null,
   "metadata": {},
   "outputs": [],
   "source": [
    "\n"
   ]
  }
 ],
 "metadata": {
  "kernelspec": {
   "display_name": "Python 3",
   "language": "python",
   "name": "python3"
  },
  "language_info": {
   "codemirror_mode": {
    "name": "ipython",
    "version": 3
   },
   "file_extension": ".py",
   "mimetype": "text/x-python",
   "name": "python",
   "nbconvert_exporter": "python",
   "pygments_lexer": "ipython3",
   "version": "3.7.3"
  }
 },
 "nbformat": 4,
 "nbformat_minor": 2
}
