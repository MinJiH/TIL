{
 "cells": [
  {
   "cell_type": "markdown",
   "metadata": {},
   "source": [
    "# 베이즈 정리와 MLE,MAP\n",
    "\n",
    "1.\t서론\n",
    "2.\t개념 설명\n",
    "2.1\tBayesian theorem\n",
    "2.2\tMaximum Likelihood Estimation (MLE)\n",
    "2.3\tMaximum a Posteriori (MAP)"
   ]
  },
  {
   "cell_type": "markdown",
   "metadata": {},
   "source": [
    "* 1.\t서론\n",
    "베이즈 정리는 인공지능, 머신 러닝, 데이터 마이닝 등의 분야에서 가장 기본이 되는 개념이다.\n",
    "이 정리를 응용하여 추출된 데이터를 통해서 어떤 값에 대한 추정치를 계산하는 maximum likelihood estimation 기법과 maximum a posteriori(MAP) 기법 역시 자주 등장하는 이론이며, 핵심적인 이론이다.\n",
    "로지스틱 리그레션을 공부하는 과정에서 상기 사항에 대한 개념이 헷갈려 리그레션을 이해하는 것이 어려웠고 그에 따라 하기와 같이 정리하게 되었다.\n"
   ]
  },
  {
   "cell_type": "markdown",
   "metadata": {},
   "source": [
    "* 2.\t개념 설명\n",
    "  * 2.1\tBayesian theorem\n",
    "베이즈 정리에는 크게 다음 두 가지 요소가 존재한다.\n",
    "-\tP(A): A의 사전 확률. 어떠한 사건에 대한 정보가 없을 때의 확률\n",
    "-\tP(A|비): 비에 대한 에이의 사후확률. 비 라는 정보가 주어졌을 때의 확률.\n",
    "그리고 베이시안 정리는\n",
    "P(A|비)=\n",
    "내 친구 에이가, 자신이 카페에 갔었는데 모르는 사람이 자기 번호를 알아갔다고 자랑을 하였다. 이때, 그 번호를 알아 간 사람이 여자일 확률은 P(W)는 0.5 (남자일 확률은 P(M)=0.5) 이다. 그런데 친구가 그 번호를 알아간 사람의 머리카락 길이가 어깨 아래까지 길었다.(머리가 어깨 아래까지 길었다는 사건: L)고 말하였다. 아무 조건이 없이 누군가 번호를 알아갔다고 할 때의 P(W)는 0.5 이지만, 여기에 한가지 정보가 추가 되었을때의 확률 P(W)는 당연히 변화한다. 조건부 확률 계산 방식에 의해 다음과 같이 계산이 가능한다.\n",
    "((P(W 교집합 L)/P(L)* 위 예제에선, 사전 확률의 변수가 하나이기 때문에 P(W 교집합 L)을 계산하는 것이 간단하지만, 변수가 많아지면, 직접 구하는 것이 어렵다.))\n",
    "하지만, 위 식에서 P(W 교집합 L)을 계산하기 위해서는 어려움이 있다. 이러한 과정을 줄이기 위해 베이지안 이론을 적용하면 \n",
    "P(W|L)=P(L|W)P(W)/P(L)\n",
    "로 바뀐다. 위 식에서는 P(L|W)만 알게 되면, P(W| L)를 계산할 수 있기 때문에 더 효율적이다.\n",
    " * 2.2\tMaximum Likelihood Estimation (MLE)\n",
    "Likelihood 는 이미 주어진 표본적 증거에 비추어 보았을 때,\n",
    " 모집단에 관해 어떠한 통계적 추정이 그럴듯한(Likelihood) 정도를 말해주는 것을 가리킨다. 다시 말해서 어떤 가설을 전제하였을 때, 그 전제하에서 우리에게 주어져 있는 증거가 얼마나 나타날 수 있는 가에 대한 정도 이다.\n",
    "때문에 가설 T 가 전제 되었을 때 증거 E 가 등장할 확률인 P(E|T) 에 비례한다. 이를 L(T|E)라고 하며, 증거 E 가 관측되었을 때, 이론 T와 그럴 듯한 정도라 표현한다. 앞에서 언급하였듯이 L(T|E)는 P(E|T)에 비례하기 때문에 L(T|E)의 값을 최대화 하는 과정 P(E|T)를 최대화 하는 과정과 동일하다.\n",
    "간단한 동전 던지기 예를 보자.\n",
    "우리는 일반적으로 동전 하나를 던졌을 때 앞 또는 뒤가 나올 확률을 같다고 가정하여 0.5라고 생각한다.\n",
    "하지만, 0.5 라는 확률 값은 정확한 값이 아니라 우리가 가정한 값이다. 때문에 몇번의 수행 결과로 동전의 앞면이 나올 확률 P(H)를 정하고자 한다.\n",
    "만약 100번의 동전 던지기를 수행했을 때, 앞면 56번이 나왔다면 ‘동전을 던졌을 때 앞면이 나올 확률”은 얼마라고 얘기할 수 있을까? 이 문제에 대한 해답을 구하는 것이 MAXIMUM LIKELIHOOD ESTIMATION 이다. 좀 더 자세하게 설명하면, 앞에서 언급한 용어 L(T|E)에서 증거 E는 앞면이 56번 나왔다는 사실 이고, 이론 T를 변화시키면서 어느 이론이 가장 그 확률이 높은지 찾는 과정이다\n",
    "L(T|E)는 P(E|T)를 최대화 하는 과정이기 때문에 이론 T가 P(H) =0.5 일 때를 계산하면 다음과 같다.\n",
    "L(P(H) = 0.5|E =100!/56!44!S\n",
    "이와 같은 방법으로 이론 티 에 대해 값을 구해보면 다음 표과 같다.\n",
    "T\tLikelihood\n",
    "\n",
    "P(H)=0.48\t\n",
    "P(H)\t\n",
    "P(H)\t\n",
    "P(H)\t\n",
    "P(H)\t\n",
    "P(H)\t\n",
    "P(H)\t\n",
    "\n",
    "위 표에서 가장 높은 likelihood 를 가지는 이론 티는  p=0.56 일 때이다. 때문에 우리는\n",
    "동전의 앞면이 나올 확률이 0.5 라는 것을 전혀 모르는 상황에서 위와 같은 증거가 있을 때에는, “ 동전을 던져서 앞면이 나올 확률은 0.56 이다”라고 말할 수 있다.\n",
    "이렇게  P(H)에 대한 확률을 모르는데, 어떠한 데이터가 주어진 경우, 이 데이터를 통해서 확률 P(H)를 추정하는 과정을 maximum likelihood estimation 이라 한다.\n",
    "* 2.3\tMaximum a Posteriori (MAP)\n",
    "Maximum a posteriori 를 설명하기 전에 먼저 posteriori 에 대한 설명이 필요하다.\n",
    "일반적으로 동전을 던졌을 때, 질량의 분포가 균등하게 이루어져 있다면, 앞면이 나올 확률은 0.5 라고 알고 있다. 이 말이 검증하기 위해 동전을 100번 던졌다. 그 결과로 70번의 앞면이 나왔는데, 이 경우에 maximum likelihood estimation 에서는 앞면이 나올 확률 티 를 0.5 혹은 0.7과 같이 가정하여 그 가정에 대한 확률을 구하였다. 하지만 이렇게 추측하였을 때에는 이전에 우리가 알고 있던 사실인 “앞면이 나올 확률은 0.5 이다”가 전혀 반영되지 않고 순수하게 측정 된 결과로만 확률을 추측한다. 반면에 posteriori 를 구할 때에는 다음식을 이용하여 사전에 우리가 알고 있는 정보를 활용한다.\n",
    "P(T|E)=P(E|T)P(T)/P(E)\n",
    "알고자 하는 확률 ‘100번 동전을 던진 시행에서 70번의 앞면이 나왔을 때, 동전의 앞면이 나올 확률”은 P(T|E)로 표현이 된다. 이 확률은 베이시안 정리를 통해서 우변과 같은 유도가 가능 하다. 이론 티에 특정 가정을 대입하고, 그에 대한 확률을 계산하는 방식이다. 만약 티 =0.5 라는 가정을 기준으로 계산하면,\n",
    "P(T=0.5|E=0.7)= P(E=0.7|T=0.5)P(T=0.5)/P(E=0.7)이 된다.\n",
    "여기서 P(E=0.7|T=0.5)는 likelihood Funtion 에서 쉽게 구할 수 있고,\n",
    "P(E=0.7)는 변수에 특정 값을 대입했을 때 나온 값이 아닌 상수 이기 때문에,\n",
    "P(T=0.5), 즉 우리가 이전에 알고 있던 ‘동전을 던졌을 때 앞면이 나올 확률은 0.5이다’라는 명제에 대한 사전확률만 주어진 다면, posteriori 를 계산 할 수 있다.\n",
    "P(T=x|E=0.7)=P(E=0.7|T=x)P(T=x+/P(E=0.7)\n",
    "이제 가정을 변수 엑스라고 생각을 하면 위와 같이 식이 바뀐다.\n",
    "위와 같이 변수 엑스에 대해 식을 표현하면, 엑스에 대한 함수가 되어, 엑스의 변화에 따른 최 대 값을 구할 수 있따. 이때 최대 값을 구하는 과정이 maximum a posteriori 이다.\n"
   ]
  },
  {
   "cell_type": "code",
   "execution_count": null,
   "metadata": {},
   "outputs": [],
   "source": []
  },
  {
   "cell_type": "markdown",
   "metadata": {},
   "source": [
    "* 베이즈 정리\n",
    "확률론과 통계학에서 베이즈 정리는 두 확률 변수의 사전확률과 사후 확률 사이의 관계를 나타내는 정리다. 베이즈 확률론 해석에 따르면 베이즈 정리는 사전확률로부터 사후 확률을 구할 수 있다. 베이즈 정리는 불확실성 하에서의 의사 결정 문제를 수학적으로 다룰 때 중요하게 이용된다. 특히, 정보와 같이 눈에 보이지 않는 무형자산이 지닌 가치를 계산할 때 유용하게 사용된다. 전통적인 연역적 추론에 기반을 두고 있다면, 베이즈 정리는 확률임에도 귀납적, 경험적인 추론을 사용한다.\n",
    "*베이즈 추론: 통계적 추론의 한 방법으로, 추론 대상의 사전확률과 추가적인 정보를 통해 해당 대상의 사후 확률을 추론하는 방법이다. 베이즈 추론은 베이즈 확률론을 기반으로 하며, 이는 추론하는 대상을 확률변수로 보아 그 변수의 확률 분포를 추정하는 것을 의미한다.\n"
   ]
  },
  {
   "cell_type": "code",
   "execution_count": null,
   "metadata": {},
   "outputs": [],
   "source": []
  },
  {
   "cell_type": "code",
   "execution_count": null,
   "metadata": {},
   "outputs": [],
   "source": []
  },
  {
   "cell_type": "code",
   "execution_count": null,
   "metadata": {},
   "outputs": [],
   "source": []
  },
  {
   "cell_type": "code",
   "execution_count": null,
   "metadata": {},
   "outputs": [],
   "source": []
  },
  {
   "cell_type": "code",
   "execution_count": null,
   "metadata": {},
   "outputs": [],
   "source": []
  },
  {
   "cell_type": "code",
   "execution_count": null,
   "metadata": {},
   "outputs": [],
   "source": []
  },
  {
   "cell_type": "code",
   "execution_count": null,
   "metadata": {},
   "outputs": [],
   "source": []
  },
  {
   "cell_type": "code",
   "execution_count": null,
   "metadata": {},
   "outputs": [],
   "source": []
  },
  {
   "cell_type": "code",
   "execution_count": null,
   "metadata": {},
   "outputs": [],
   "source": []
  },
  {
   "cell_type": "code",
   "execution_count": null,
   "metadata": {},
   "outputs": [],
   "source": []
  },
  {
   "cell_type": "code",
   "execution_count": null,
   "metadata": {},
   "outputs": [],
   "source": []
  },
  {
   "cell_type": "code",
   "execution_count": null,
   "metadata": {},
   "outputs": [],
   "source": []
  },
  {
   "cell_type": "code",
   "execution_count": null,
   "metadata": {},
   "outputs": [],
   "source": []
  },
  {
   "cell_type": "code",
   "execution_count": null,
   "metadata": {},
   "outputs": [],
   "source": []
  },
  {
   "cell_type": "code",
   "execution_count": null,
   "metadata": {},
   "outputs": [],
   "source": []
  },
  {
   "cell_type": "code",
   "execution_count": null,
   "metadata": {},
   "outputs": [],
   "source": []
  },
  {
   "cell_type": "code",
   "execution_count": null,
   "metadata": {},
   "outputs": [],
   "source": []
  },
  {
   "cell_type": "code",
   "execution_count": null,
   "metadata": {},
   "outputs": [],
   "source": []
  },
  {
   "cell_type": "code",
   "execution_count": null,
   "metadata": {},
   "outputs": [],
   "source": []
  },
  {
   "cell_type": "code",
   "execution_count": null,
   "metadata": {},
   "outputs": [],
   "source": []
  },
  {
   "cell_type": "code",
   "execution_count": null,
   "metadata": {},
   "outputs": [],
   "source": []
  },
  {
   "cell_type": "code",
   "execution_count": null,
   "metadata": {},
   "outputs": [],
   "source": []
  },
  {
   "cell_type": "code",
   "execution_count": null,
   "metadata": {},
   "outputs": [],
   "source": []
  },
  {
   "cell_type": "code",
   "execution_count": null,
   "metadata": {},
   "outputs": [],
   "source": []
  },
  {
   "cell_type": "code",
   "execution_count": null,
   "metadata": {},
   "outputs": [],
   "source": []
  },
  {
   "cell_type": "code",
   "execution_count": null,
   "metadata": {},
   "outputs": [],
   "source": [
    "\n"
   ]
  }
 ],
 "metadata": {
  "kernelspec": {
   "display_name": "Python 3",
   "language": "python",
   "name": "python3"
  },
  "language_info": {
   "codemirror_mode": {
    "name": "ipython",
    "version": 3
   },
   "file_extension": ".py",
   "mimetype": "text/x-python",
   "name": "python",
   "nbconvert_exporter": "python",
   "pygments_lexer": "ipython3",
   "version": "3.7.3"
  }
 },
 "nbformat": 4,
 "nbformat_minor": 2
}
