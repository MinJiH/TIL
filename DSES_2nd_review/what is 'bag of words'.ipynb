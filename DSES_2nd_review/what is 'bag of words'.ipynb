{
 "cells": [
  {
   "cell_type": "markdown",
   "metadata": {},
   "source": [
    "# Bag of Words\n",
    "\n",
    "* introduction\n",
    "* example\n",
    "* + programming"
   ]
  },
  {
   "cell_type": "markdown",
   "metadata": {},
   "source": [
    "* introduction\n",
    "\n",
    "Bag of words 란 단어들의 순서를 전혀 고려하지 않고, 단어들의 출현 빈도에만 집중하는 텍스트 데이터의 수치화 표현 방법이다.\n",
    "\n",
    "* example\n",
    "Sentence_list =[‘오늘은 즐거운 하루입니다’,’오늘은 비가 올 것 같은데 내일은 비가 안 왔으면 좋겠네요’,’내일도 비가 올 것 같아요’]\n",
    "위의 세개의 문장이 있다고 가정하고 위의 문장을 bag of words 로 표현하면 다음과 같다.\n",
    "위 세문장의 전체 단어의 수는 14개 이다.\n",
    "(오늘은/즐거운/하루입니다/비가/올/것/같은데/내일은/안/왔으면/좋겠네요/내일도/것/같아요)\n",
    "세 문장의 단어 사전은 아래와 같다.\n",
    "[오늘은:1/즐거운:2/하루입니다:3/비가:4/올:5/것:6/같은데:7/내일은:8/안:9/왔으면:10/좋겠네요:11/내일도:12/것:13/같아요:14]\n",
    "위의 세문장을 vector 로 표현하면 다음과 같다.\n",
    "11100000000000\n",
    "10021111111000\n",
    "00011000000111\n"
   ]
  },
  {
   "cell_type": "markdown",
   "metadata": {},
   "source": [
    "* + programming\n",
    "Bag of words 란 단어들의 순서를 전혀 고려하지 않고, 단어들의 출현 빈도에만 집중하는 텍스트 데이터의 수치화 표현 방법이다.\n",
    "\n",
    "* NLP(자연어 처리) 가 무엇일까\n",
    "자연어 처리는 텍스트 문제에 접근하기 위한 기술 집합니다.\n",
    "* <data cleaning & text preprocessing>\n",
    "tokenization 이라고 불리는 소문자로 변화 후 단어들을 자르는 것을 말한다.\n",
    ". lower(): 소문자로 만들기\n",
    ". split(): 각 단어로 자르기\n",
    "* 많은 의미를 가지지 않지만 빈번하게 발생하는 단어를 다루는 방법을 결정할 필요가 있다. \n",
    "이러한 단어를 stop words 라고 한다.\n",
    "Ex) a, is the\n",
    "Python is 이러한 stop words 들이 (NLTK)(natural language toolkit)에 리스트로 저장되어있다.\n",
    "한국어의 경우, koNLPy 를 사용한다.\n",
    "* NLTK 를 통해서 porter stemming 과 lemmatizing 이 가능하다.\n",
    "(cats-> cat, caresses->caress)\n",
    "(접미사를 제거하거나, 다른 단어로 대치하는 역할을 하는 알고리즘을 말한다.)\n",
    "** bag of words 로부터 features 만들기 (scikit-learn 사용)\n",
    "머신러닝을 위해서 숫자로 표현하는 방법이 무엇일까?\n",
    "대표적인 것 중 하나가 bag of words 이다.\n",
    "Bag of words 모델은 모든 문서들로부터 어휘를 배우고, 각 단어가 나타내는 횟수를 세어 각 문서를 모델링 한다.\n",
    "문장 1: ‘ the cat sat on the hat”\n",
    "문장 2:” the dog ate the car and the hat\n",
    "En 문장의 보카들은 이렇게 된다.\n",
    "{the, cat, sat, on, hat, dog, ate, and}\n",
    "이 보카의 나오는 횟수를 계산한다.\n",
    "문장 1 :[2,1,1,1,1,0,0,0,]\n",
    "문장 2: [3,1,0,0,1,1,1,]\n"
   ]
  },
  {
   "cell_type": "code",
   "execution_count": null,
   "metadata": {},
   "outputs": [],
   "source": []
  },
  {
   "cell_type": "code",
   "execution_count": null,
   "metadata": {},
   "outputs": [],
   "source": []
  },
  {
   "cell_type": "code",
   "execution_count": null,
   "metadata": {},
   "outputs": [],
   "source": []
  },
  {
   "cell_type": "code",
   "execution_count": null,
   "metadata": {},
   "outputs": [],
   "source": []
  },
  {
   "cell_type": "code",
   "execution_count": null,
   "metadata": {},
   "outputs": [],
   "source": []
  },
  {
   "cell_type": "code",
   "execution_count": null,
   "metadata": {},
   "outputs": [],
   "source": []
  },
  {
   "cell_type": "code",
   "execution_count": null,
   "metadata": {},
   "outputs": [],
   "source": []
  },
  {
   "cell_type": "code",
   "execution_count": null,
   "metadata": {},
   "outputs": [],
   "source": []
  },
  {
   "cell_type": "code",
   "execution_count": null,
   "metadata": {},
   "outputs": [],
   "source": []
  },
  {
   "cell_type": "code",
   "execution_count": null,
   "metadata": {},
   "outputs": [],
   "source": []
  },
  {
   "cell_type": "code",
   "execution_count": null,
   "metadata": {},
   "outputs": [],
   "source": []
  },
  {
   "cell_type": "code",
   "execution_count": null,
   "metadata": {},
   "outputs": [],
   "source": []
  },
  {
   "cell_type": "code",
   "execution_count": null,
   "metadata": {},
   "outputs": [],
   "source": []
  },
  {
   "cell_type": "code",
   "execution_count": null,
   "metadata": {},
   "outputs": [],
   "source": []
  },
  {
   "cell_type": "code",
   "execution_count": null,
   "metadata": {},
   "outputs": [],
   "source": []
  },
  {
   "cell_type": "code",
   "execution_count": null,
   "metadata": {},
   "outputs": [],
   "source": []
  },
  {
   "cell_type": "code",
   "execution_count": null,
   "metadata": {},
   "outputs": [],
   "source": []
  },
  {
   "cell_type": "code",
   "execution_count": null,
   "metadata": {},
   "outputs": [],
   "source": []
  },
  {
   "cell_type": "code",
   "execution_count": null,
   "metadata": {},
   "outputs": [],
   "source": []
  },
  {
   "cell_type": "code",
   "execution_count": null,
   "metadata": {},
   "outputs": [],
   "source": []
  }
 ],
 "metadata": {
  "kernelspec": {
   "display_name": "Python 3",
   "language": "python",
   "name": "python3"
  },
  "language_info": {
   "codemirror_mode": {
    "name": "ipython",
    "version": 3
   },
   "file_extension": ".py",
   "mimetype": "text/x-python",
   "name": "python",
   "nbconvert_exporter": "python",
   "pygments_lexer": "ipython3",
   "version": "3.7.3"
  }
 },
 "nbformat": 4,
 "nbformat_minor": 2
}
