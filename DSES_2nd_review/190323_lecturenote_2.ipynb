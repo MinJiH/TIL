{
 "cells": [
  {
   "cell_type": "markdown",
   "metadata": {},
   "source": [
    "# sharffling\n",
    "가설 검정 자체에 대해서 다루는 것\n",
    "Inference(추론)은 제한된 데이터를 이용하여 실험을 하고 그 결과를 더 큰 과정 또는 모집단에 적용하려는 의도를 반영한다.\n"
   ]
  },
  {
   "cell_type": "markdown",
   "metadata": {},
   "source": [
    "1. A/B Test\n",
    "A/B test는 두 가지의 처리 방법, 제품 혹은 절차 중 어느 쪽이 다른 쪽보다 더 우월하다는 것을 입증하기 위해 실험군을 두 그룹(A그룹, B그룹) 으로 나누어 진행하는 실험이다.\n",
    "\n",
    "가설 두개를 검정 하는 것\n",
    "\n",
    "\n",
    "Treatment : 어떤 대상에 주어지는 특별한 환경이나 조건 (ex, 약, 가격)_ 신약\n",
    "Treatment group (처리 그룹) : 특정 처리에 노출된 대상들의 집단_ 신약을 먹은 집단\n",
    "Control group (대조 그룹) : 어떤 처리도 하지 않은 대상들의 집단_신약을 먹지 않은 집단\n",
    "Randomization (임의화 / 랜덤화) : 처리를 적용할 대상을 임의로 결정하는 과정\n",
    "Subject (대상) : 처리를 적용할 개체 대상 (피실험자)\n",
    "Test statistic (검정통계량) : 처리 효과를 측정하기 위한 지표_ 가설 검정할 때 피 밸류, 유의 수준\n",
    "\n",
    "\n",
    "(A/B test 예제)\n",
    "\n",
    "종자 발아가 어디에서 더 잘되는지 알아보기 위해 두 가지 토양 처리를 검정한다.\n",
    "암을 더 효과적으로 억제하는 두 가지 치료법을 검정한다.\n",
    "두 가지 가격을 검정하여 더 많은 순이익을 산출하는 쪽을 결정한다. (CTR, Convsersion)\n",
    "두 개의 인터넷 뉴스 제목을 검정하여 더 많은 클릭을 생성하는 쪽을 결정한다.\n",
    "두 개의 인터넷 광고를 검정하여 어느 것이 더 높은 전환율을 얻을지 판단한다.\n",
    "\n",
    "테스트에 영향을 주는 것은 1) 다른 트리트 먼트의 효과 2) 아무리 랜덤하게 그룹을 나눠나도 신약을 받는 서브젝트와 신약을 받지 않은 서브젝트가 있을 것 _ 경우의 수에 따라서 테스트가 영향을 받을 것\n",
    "\n",
    "\n",
    "예를 들어, 전자 상거래 실험 결과에 대한 2×2 표를 살펴보자.\n",
    "\n",
    "검정 결과\t가격 A\t가격 B\n",
    "전환\t200\t182\n",
    "전환되지 않음\t23,539\t22,406\n",
    "위의 예에서는 측정 지표가 binary 변수(샀는지 안샀는지)였지만, 측정 지표가 연속형 변수(구매액, 수익 등)인지 횟수를 나타내는 변수(입원 일수, 방문한 페이지 수)인지에 따라 결과가 다르게 표시될 수 있다. 위의 예의 측정 지표를 연속형 변수인 수익으로 바꾼다면 결과는 다음과 같이 나올 것이다.\n",
    "\n",
    "가격 A의 페이지 뷰당 수익 : 평균 3.87, SD=51.10\n",
    "가격 B의 페이지 뷰당 수익 : 평균 4.11, SD=62.98\n",
    "주의할 것은, 모든 출력이 유용하거나 관련 있지는 않다. 표준편차를 살펴봐도, 수익이 음수가 될 수 없는다, 결과는 값들이 음수일 수 있다고 제안하고 있다. 그 이유는 수익성이 높은 페이지는 극소수이고, 대부분은 수익성이 없을 것이기 때문이다. 이처럼 데이터의 변동성은 숫자 하나로 요약한다는 것은 어렵다. 따라서, 평균절대편차도 함께 보는 것도 고려해봐야 한다.\n",
    "\n",
    "대조군은 왜 필요할까?\n",
    "대조군 없이 관심 있는 처리를 한 그룹에만 적용해서 실험을 하고 그 결과를 단순히 이전 경험과 비교해보면 안 될까?\n",
    "\n",
    "대조군이 없다면 \"다른 것들은 동일하다.\" 는 보장이 없으며 어떤 차이가 처리(treatment) 때문인지 아니면 우연 때문인지를 확실할 수 없다. 대조군의 경우, 관심 처리를 뺀 나머지는 처리 그룹과 동일한 조건이 적용된다. 단순히 \"기준선\" 또는 이전 경험과 비교할 경우, 처리 이외의 다른 요소가 다를수도 있기 때문이다.\n",
    "\n",
    "측정 지표의 후보군은 클릭 수, 구매, 수 방문 기간, 방문한 페이지 수, 특정 페이지 방문 여부 등 다양하게 많지만 하나의 측정 지표를 사전에 정해야 한다. 여러 행동 유형과 관련된 지표들이 수집 대상이 될 수 있지만, 실험이 결국 treatment A, treatment B 사이의 결정으로 이어질 경우, 단일 지표 또는 검정 통계량을 사전에 미리 정해놓아야 한다. 만약 실험을 수행한 뒤 검정통계량 또는 측정 지표를 선택한다면 편향된 결론을 내릴 수 있다.\n",
    "\n",
    "따로 대조군을 두지 않고 한 집단이 신약을 준것과 안준 것을 비교하면 되지 않을 까?-> 다른 외부 요소가 통제가 된(다른 요소들은 동일한다) -> 트리트 먼트 때문인지 아니면 우연 때문에 변화가 일어났는지가 중요함 -> 두가지 집단을 두고 트리트먼트 준거랑 안준거로 비교를 하는게 외부 요소를 통제할 수 있음.\n",
    "\n",
    "데이터 과학자에게 필요한 질문은 -> 가능한 여러 가격 중에서 가장 좋은 가격은 얼마인가? 이다."
   ]
  },
  {
   "cell_type": "markdown",
   "metadata": {},
   "source": [
    "2. 가설검정\n",
    "가설 검정(hypothesis test, 유의성 검정, significance test)은 지금까지 발표된 대부분의 연구 논문에 등장하는 전통적인 통계분석 방법이다. 목적은 관찰된 효과가 우연에 의한 것인지에 대한 여부를 판단하는 것이다.\n",
    "\n",
    "관찰된 효과가 우연에 의한 것인지에 대한 여부를 판단\n",
    "\n",
    "어떤 결과가 있을 경우, 그 결과가 우연에 의한건지 아닌 건지 판단 하는 것이 중요\n",
    "\n",
    "\n",
    "귀무가설(null hypothesis, 영가설) : 실험의 차이는 우연 때문이라는 가설 (기존의 사실이 기본이라는 옵션)\n",
    "대립가설(alternative hypothesis) : 귀무가설과의 대조 (증명하고자 하는 가설)\n",
    "일원 가설검정 : 한 방향으로만 우연히 일어날 확률을 계산하는 가설검정\n",
    "이원 가설검정 : 양방향으로 우연히 일어날 확률을 계산하는 가설검정\n",
    "\n",
    "\n",
    "가설 검정을 해야하는 이유 는 \n",
    "1) 가설을 세우지 않으면 보통 우연성을 무시하게됨.\n",
    "2) 귀무 가설의 중요점은 이 실험이 우연인지 아닌지를 확인 하는 건데 _ 사람은 랜덤성에 대해 오해하는 경우가 있음_ 완벽한 랜덤성을 최대화 하는 것\n"
   ]
  },
  {
   "cell_type": "markdown",
   "metadata": {},
   "source": [
    "# 귀무가설\n",
    "실제로는 우연히 일어난 일이지만, 흔하지 않다는 것에 주목하고, 그것이 뭔가 의미있고 우연이 아닐 것이다라고 해석하려는 인간의 경향을 감안할 때, 실험에서 얻은 그룹 간의 차이가 랜덤을 통해 얻을 수 있는 합리적인 수준과는 더 극단적으로 달라야 한다는 증거를 보여야 한다.\n",
    "\n",
    "즉, 그룹들이 보이는 결과는 서로 동일하며 그룹간의 차이는 우연에 의한 결과라는 것을 기본 가정으로 설정한다. 기존에 기본으로 사용되던 옵션이다. 이것이 귀무가설이다.\n",
    "\n",
    "엄청 나게 많이 돌려보고 이게 랜덤성이 있다 라고 결론을 내릴 수 있어야 함!\n",
    "\n",
    "불리안 값으로 해석 하면 귀무 가설은 ‘0’임\n",
    "정상 사용자, 환자가 아닌 정상"
   ]
  },
  {
   "cell_type": "markdown",
   "metadata": {},
   "source": [
    "# 일원/이원 가설검정\n",
    "일원 가설검정\n",
    "새로운 옵션(대립가설)이 기존의 옵션(귀무가설)보다 완벽히 더 나은 것으로 입증되지 않은 이상, 기본 옵션을 계속 사용한다는 것이 가정이다\n",
    "새로운 옵션(대립가설, B)을 선호하는 방향으로 우연에 의해 속지 않도록 가설검정을 하길 원할 것이다_through code(새로운 옵션이 우연하다라는 결론이 나길 원하는 것)\n",
    "이원 가설검정\n",
    "일원 가설검정과는 달리, 어느 쪽으로도 속지 않도록 가설검정을 하기 위해서는 이원(양쪽 꼬리) 가설검정을 사용한다.\n",
    "우연에 의한 극단적인 결과가 양쪽에서 나타날 p 값을 계산한다는 것을 의미한다."
   ]
  },
  {
   "cell_type": "markdown",
   "metadata": {},
   "source": [
    "# 3. Resampling (재표본추출) _Permutation test(순열 검정)\n",
    "Resampling에는 Bootstrap과 Permutation test(순열 검정)이라는 두 가지 주요 유형이 있다. Bootstrap은 추정의 신뢰성을 평가하는 데 사용된다.(Estimate or C)\n",
    "재표본 추출의 목적은 변동성을 찾을 려고 하는 것(샘플 간의 변동성)\n",
    "순열 검정은 복원 추출을 뽑지 않는다\n",
    "\n",
    "Permutation test (순열검정) : 두 개 이상의 표본을(samples) 함께 결합하여 관측값들을 무작위로(또는 전부를) 재표본으로 추출하는 과정을 말한다.\n",
    "\n",
    "\n",
    "우연한지 우연하지 않은 지를 확인하는 방법 은 \n",
    "두개의 집단을 하나의 집단으로 만들고\n",
    "그 하나의 집단을 랜덤하게 두개의 집단으로 쪼갤 것 (A,B)원래 사이즈에 맞게 그룹을 나눌 것 !!)\n",
    "새롭게 만든 A,B 두 집단의 평균을 구하기! ( 두 집단의 평균이 다름)\n",
    "이과정을 반복할 것 -> 내가 관찰 값들을 랜덤하게 Permutation 하면 \n",
    "평균 값들의 분포에서 각각의 평균을 비교해 보는 것  (\n",
    "결론적으로 처음에 설정된 두개의 집단의 평균은 랜덤하게 퍼뮤테이션한 값을 분포로 한 것의 하나의 값이 되는 것 -> 데이터가 발생할 수 있는 모든 가능성을 모두 확인 한 다음에 그 관찰 값이 우연하게 발생한 것인지 아닌지를 확인 하는 것-> 정규 분포 상 해당 관찰 값의 위치를 확인 하여 우연히 발생한 것인지 아닌 지를 확인 하는 것! -> 꼬리 쪽에 극단적으로 간다는 것은 발생 확률이 낮다라는 것은 의미한다.\n"
   ]
  },
  {
   "cell_type": "markdown",
   "metadata": {},
   "source": [
    "(예제 1)\n",
    "두 가지 웹 디자인\n",
    "대리 변수(proxy variable):웹사이트에서 비교하고자 하는 대상의 실제 판매수가 아니라 클릭수나 점착률( 하나의 사이트에 내가 몇분 동안 있는지_stickness)를 가지고 비교하는 것"
   ]
  },
  {
   "cell_type": "code",
   "execution_count": 1,
   "metadata": {},
   "outputs": [
    {
     "data": {
      "text/html": [
       "<div>\n",
       "<style scoped>\n",
       "    .dataframe tbody tr th:only-of-type {\n",
       "        vertical-align: middle;\n",
       "    }\n",
       "\n",
       "    .dataframe tbody tr th {\n",
       "        vertical-align: top;\n",
       "    }\n",
       "\n",
       "    .dataframe thead th {\n",
       "        text-align: right;\n",
       "    }\n",
       "</style>\n",
       "<table border=\"1\" class=\"dataframe\">\n",
       "  <thead>\n",
       "    <tr style=\"text-align: right;\">\n",
       "      <th></th>\n",
       "      <th>Page</th>\n",
       "      <th>Time</th>\n",
       "    </tr>\n",
       "  </thead>\n",
       "  <tbody>\n",
       "    <tr>\n",
       "      <th>0</th>\n",
       "      <td>Page A</td>\n",
       "      <td>0.21</td>\n",
       "    </tr>\n",
       "    <tr>\n",
       "      <th>1</th>\n",
       "      <td>Page B</td>\n",
       "      <td>2.53</td>\n",
       "    </tr>\n",
       "    <tr>\n",
       "      <th>2</th>\n",
       "      <td>Page A</td>\n",
       "      <td>0.35</td>\n",
       "    </tr>\n",
       "    <tr>\n",
       "      <th>3</th>\n",
       "      <td>Page B</td>\n",
       "      <td>0.71</td>\n",
       "    </tr>\n",
       "    <tr>\n",
       "      <th>4</th>\n",
       "      <td>Page A</td>\n",
       "      <td>0.67</td>\n",
       "    </tr>\n",
       "  </tbody>\n",
       "</table>\n",
       "</div>"
      ],
      "text/plain": [
       "     Page  Time\n",
       "0  Page A  0.21\n",
       "1  Page B  2.53\n",
       "2  Page A  0.35\n",
       "3  Page B  0.71\n",
       "4  Page A  0.67"
      ]
     },
     "execution_count": 1,
     "metadata": {},
     "output_type": "execute_result"
    }
   ],
   "source": [
    "import pandas as pd\n",
    "import seaborn as sns\n",
    "import numpy as np\n",
    "\n",
    "web_page_data = pd.read_csv('web_page_data.csv')\n",
    "web_page_data.head()"
   ]
  },
  {
   "cell_type": "code",
   "execution_count": 2,
   "metadata": {},
   "outputs": [
    {
     "data": {
      "text/plain": [
       "<matplotlib.axes._subplots.AxesSubplot at 0x2274ca70>"
      ]
     },
     "execution_count": 2,
     "metadata": {},
     "output_type": "execute_result"
    },
    {
     "data": {
      "image/png": "[encoded data removed]",
      "text/plain": [
       "<Figure size 432x288 with 1 Axes>"
      ]
     },
     "metadata": {
      "needs_background": "light"
     },
     "output_type": "display_data"
    }
   ],
   "source": [
    "sns.boxplot(x='Page',y='Time',data=web_page_data)"
   ]
  },
  {
   "cell_type": "code",
   "execution_count": 3,
   "metadata": {},
   "outputs": [],
   "source": [
    "# 두 그룹의 stickiness 의 평균\n",
    "mean_a = web_page_data[web_page_data['Page']=='Page A']['Time'].mean()\n",
    "mean_b = web_page_data[web_page_data['Page']=='Page B']['Time'].mean()"
   ]
  },
  {
   "cell_type": "code",
   "execution_count": 4,
   "metadata": {},
   "outputs": [
    {
     "data": {
      "text/plain": [
       "21.400000000000013"
      ]
     },
     "execution_count": 4,
     "metadata": {},
     "output_type": "execute_result"
    }
   ],
   "source": [
    "# 분 단위이므로 초 단위로 보기 편하게 변경\n",
    "\n",
    "(mean_b - mean_a) * 60"
   ]
  },
  {
   "cell_type": "markdown",
   "metadata": {},
   "source": [
    "검정 하려는 가설은 페이지 B의 stickness와 페이지 A의 stickness의 차이가 21.4초인데 이 차이가 우연에 의한 것인지 아니면 통계적으로 중요한 것인지를 판단하는 것이다. 순열 검정을 적용해 보자."
   ]
  },
  {
   "cell_type": "code",
   "execution_count": 6,
   "metadata": {},
   "outputs": [],
   "source": [
    "random_generator=np.random.RandomState(42)\n",
    "\n",
    "#permutation means\n",
    "\n",
    "pm= []\n",
    "\n",
    "# the size of group A\n",
    "len_a =len(web_page_data[web_page_data['Page']=='Page A'])\n",
    "# the size of total index\n",
    "total_indice = np.arange(len(web_page_data))\n",
    "\n",
    "for _ in range(1000):\n",
    "    #copying index\n",
    "    copy_indice = total_indice.copy()\n",
    "    # 그룹에 할당할 데이터를 랜덤하게 추출하기 위해서 섞는다\n",
    "    random_generator.shuffle(copy_indice)\n",
    "    perm_a= web_page_data.iloc[copy_indice[:len_a]]\n",
    "    perm_b =web_page_data.iloc[copy_indice[len_a:]]\n",
    "    \n",
    "    pm.append((perm_b['Time'].mean()-perm_a['Time'].mean())*60)\n",
    "    "
   ]
  },
  {
   "cell_type": "code",
   "execution_count": 7,
   "metadata": {},
   "outputs": [
    {
     "data": {
      "text/plain": [
       "<matplotlib.axes._subplots.AxesSubplot at 0x237d8130>"
      ]
     },
     "execution_count": 7,
     "metadata": {},
     "output_type": "execute_result"
    },
    {
     "data": {
      "image/png": "[encoded data removed]",
      "text/plain": [
       "<Figure size 432x288 with 1 Axes>"
      ]
     },
     "metadata": {
      "needs_background": "light"
     },
     "output_type": "display_data"
    }
   ],
   "source": [
    "sns.distplot(pm,kde=False)"
   ]
  },
  {
   "cell_type": "markdown",
   "metadata": {},
   "source": [
    "# assignment"
   ]
  },
  {
   "cell_type": "markdown",
   "metadata": {},
   "source": [
    "# 4. 통계적 유의성과 p value\n",
    "귀무 가설을 참이라고 가정했을 때, 극단 적으로 갈 확률\n",
    "\n",
    "h0가 참이라고 가정했을 때, 우리가 구한 통계량의 값이 극단적으로 갔을때의 확률 (넓이의 값)\"p-value\"을 라고 한다.\n",
    "\n",
    "모비율의 차이 _ 에이의 모 비율과 비의 모비율의 차이!\n",
    "모비율의 차이를 퍼뮤테이션 테스트로 확인 하는 것!\n",
    "\n",
    "전환 되지 않은 것이 0\n",
    "전환 된 것이 1\n"
   ]
  },
  {
   "cell_type": "code",
   "execution_count": 8,
   "metadata": {},
   "outputs": [
    {
     "data": {
      "text/plain": [
       "(46327,)"
      ]
     },
     "execution_count": 8,
     "metadata": {},
     "output_type": "execute_result"
    }
   ],
   "source": [
    "# 0의 갯수 : 45,945 \n",
    "# 1의 갯수 : 382\n",
    "bowl = np.concatenate([np.ones(382), np.zeros(45945)])\n",
    "bowl.shape"
   ]
  },
  {
   "cell_type": "code",
   "execution_count": 9,
   "metadata": {},
   "outputs": [],
   "source": [
    "bowl_copy=bowl.copy()"
   ]
  },
  {
   "cell_type": "code",
   "execution_count": 10,
   "metadata": {},
   "outputs": [],
   "source": [
    "random_generator.shuffle(bowl_copy)"
   ]
  },
  {
   "cell_type": "code",
   "execution_count": 11,
   "metadata": {},
   "outputs": [
    {
     "data": {
      "text/plain": [
       "array([0., 0., 0., ..., 0., 0., 0.])"
      ]
     },
     "execution_count": 11,
     "metadata": {},
     "output_type": "execute_result"
    }
   ],
   "source": [
    "bowl_copy"
   ]
  },
  {
   "cell_type": "code",
   "execution_count": 12,
   "metadata": {},
   "outputs": [],
   "source": [
    "perm_means=[]\n",
    "for _ in range(1000):\n",
    "    perm_a = bowl_copy[:23739]\n",
    "    perm_b = bowl_copy[23739:]\n",
    "\n",
    "    conversion_a =sum(perm_a)/len(perm_a)*100\n",
    "    conversion_b=sum(perm_b)/len(perm_b) *100\n",
    "\n",
    "    perm_means.append(conversion_a - conversion_b)"
   ]
  },
  {
   "cell_type": "markdown",
   "metadata": {},
   "source": [
    "유의 수준 (0.05 %보다 크면 이것은 우연히 발생 한 것 이다)으로 판단 할 것._p value"
   ]
  },
  {
   "cell_type": "code",
   "execution_count": 13,
   "metadata": {},
   "outputs": [
    {
     "data": {
      "text/plain": [
       "<matplotlib.axes._subplots.AxesSubplot at 0x237e5050>"
      ]
     },
     "execution_count": 13,
     "metadata": {},
     "output_type": "execute_result"
    },
    {
     "data": {
      "image/png": "[encoded data removed]",
      "text/plain": [
       "<Figure size 432x288 with 1 Axes>"
      ]
     },
     "metadata": {
      "needs_background": "light"
     },
     "output_type": "display_data"
    }
   ],
   "source": [
    "sns.distplot(perm_means, kde= False)"
   ]
  },
  {
   "cell_type": "code",
   "execution_count": 14,
   "metadata": {},
   "outputs": [
    {
     "data": {
      "text/plain": [
       "0.33094407441560325"
      ]
     },
     "execution_count": 14,
     "metadata": {},
     "output_type": "execute_result"
    }
   ],
   "source": [
    "from statsmodels.stats.proportion import proportions_ztest\n",
    "\n",
    "count = np.array([200, 182])\n",
    "nobs = np.array([23739, 22588])\n",
    "\n",
    "stat, pval = proportions_ztest(count, nobs, alternative='larger')\n",
    "pval\n",
    "\n",
    "#휴리스틱 하지만 굉장히 설명력이 있다\n",
    "#p_value 와 비슷함\n"
   ]
  },
  {
   "cell_type": "markdown",
   "metadata": {},
   "source": [
    "# p value의 의미\n",
    "\n",
    "랜덤 모델이 주어졌을 때, 그 결과가 관찰된 결과보다 더 극단적일 확률을 의미한다.\n",
    "우연히 발생할 확률\n",
    "우연히 발생할 확률이 작으면 작을수록 기각 되지 않는 것!\n",
    "\n",
    "관찰값이 우연히 발생할 확률\n",
    "크면 클수록 관찰 값이 의미가 없고 피 밸류가 작으면 작을수록 우연히 발생하지않은 것이니 관찰 값이 의미가 있는 것임\n",
    "\n",
    "\n",
    "\n"
   ]
  },
  {
   "cell_type": "markdown",
   "metadata": {},
   "source": [
    "# 제 1종 오류와 제 2종 오류\n",
    "\n",
    "1종 오류는 효과가 우연히 발생한 건데, 우연히 발생한게 아니라고 하는 것(관찰값이 우연히 발생한 것으로 보는 것)\n",
    "2종 오류는 대립가설이 참인데 이것을 오류라고 보고 귀무가설을 참으로 보는 것"
   ]
  },
  {
   "cell_type": "markdown",
   "metadata": {},
   "source": [
    "# 5. t 검정\n",
    "\n",
    "가설검정 및 신뢰구간 분석을 위해 resampling을 이용하면 된다.(permutation)\n",
    "\n",
    "그 분포가 우연한지 안한지를 판단 하기 위해서 퍼뮤테이션으로 분포를 구한 후에 피 밸류를 통해서 계량적으로 유의미 한지 여부를 확인 해야함.\n",
    "\n",
    "싸이 파이의 티 검정의 피밸류는 은 투 테일임.\n",
    "퍼뮤테이션 테스트에서의 피밸류는 원테일임.\n",
    "따라서 두 피 밸류를 맞출려면 싸이 파이의 티 검정의 피밸류의 값을 2로 나누면 됨!\n"
   ]
  },
  {
   "cell_type": "markdown",
   "metadata": {},
   "source": [
    "# 6. 자유도\n",
    "\n",
    "\n",
    "일주일의 7일을 카테고리컬 변수로 변환 시킬 때, 어떻게 변환을 시켜야 하나? ->  월, 화, 수, 목, 금, 토, 일 로 갈 때 월은 (1000000) 화(0100000) 이런 식으로 표현하면 됨. -> 이런식으로 표현하면 다중 공선성 오차가 발생함-> 그러한 오차가 발생하는 이유는 자유도 때문이다 ->  요일의 자유도는 6임 7이 아니라. -> 일에 1을 부여할 필요 없이 0000000으로 표현 할 수 있음 ( 이게 다중 공산성 오차 임. 이래서 자유도가 6임)"
   ]
  },
  {
   "cell_type": "code",
   "execution_count": null,
   "metadata": {},
   "outputs": [],
   "source": []
  },
  {
   "cell_type": "code",
   "execution_count": null,
   "metadata": {},
   "outputs": [],
   "source": []
  },
  {
   "cell_type": "code",
   "execution_count": null,
   "metadata": {},
   "outputs": [],
   "source": []
  },
  {
   "cell_type": "code",
   "execution_count": null,
   "metadata": {},
   "outputs": [],
   "source": []
  },
  {
   "cell_type": "code",
   "execution_count": null,
   "metadata": {},
   "outputs": [],
   "source": []
  },
  {
   "cell_type": "code",
   "execution_count": null,
   "metadata": {},
   "outputs": [],
   "source": []
  },
  {
   "cell_type": "code",
   "execution_count": null,
   "metadata": {},
   "outputs": [],
   "source": []
  },
  {
   "cell_type": "code",
   "execution_count": null,
   "metadata": {},
   "outputs": [],
   "source": []
  },
  {
   "cell_type": "code",
   "execution_count": null,
   "metadata": {},
   "outputs": [],
   "source": []
  },
  {
   "cell_type": "code",
   "execution_count": null,
   "metadata": {},
   "outputs": [],
   "source": []
  },
  {
   "cell_type": "code",
   "execution_count": null,
   "metadata": {},
   "outputs": [],
   "source": []
  },
  {
   "cell_type": "code",
   "execution_count": null,
   "metadata": {},
   "outputs": [],
   "source": []
  }
 ],
 "metadata": {
  "kernelspec": {
   "display_name": "Python 3",
   "language": "python",
   "name": "python3"
  },
  "language_info": {
   "codemirror_mode": {
    "name": "ipython",
    "version": 3
   },
   "file_extension": ".py",
   "mimetype": "text/x-python",
   "name": "python",
   "nbconvert_exporter": "python",
   "pygments_lexer": "ipython3",
   "version": "3.7.1"
  }
 },
 "nbformat": 4,
 "nbformat_minor": 2
}
