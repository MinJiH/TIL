{
 "cells": [
  {
   "cell_type": "markdown",
   "metadata": {},
   "source": [
    "# 1. Read the Dataset¶ \n",
    "\n",
    "# 1.1 File Info.\n",
    "* 문서 앱내 사용시 발생하는 클라이언 로그 데이터 (after parsed)\n",
    "* 서버로그와 달리, 유저의 행동이 발생할 경우 로그 수집 (유저 행동 패턴 파악에 용이)\n",
    " * 클라이언트(앱) 로그\n",
    " * 서버 로그_ really purchase"
   ]
  },
  {
   "cell_type": "code",
   "execution_count": 17,
   "metadata": {
    "scrolled": true
   },
   "outputs": [],
   "source": [
    "%matplotlib inline\n",
    "import pandas as pd\n",
    "import numpy as np\n",
    "import matplotlib.pyplot as plt\n",
    "import seaborn as sns\n",
    "\n",
    "import warnings\n",
    "warnings.filterwarnings('ignore')\n",
    "plt.style.use('seaborn-paper')"
   ]
  },
  {
   "cell_type": "code",
   "execution_count": 18,
   "metadata": {},
   "outputs": [],
   "source": [
    "import pandas as pd"
   ]
  },
  {
   "cell_type": "code",
   "execution_count": 21,
   "metadata": {},
   "outputs": [],
   "source": [
    "df= pd.read_csv('df_funnel.csv',index_col=0)"
   ]
  },
  {
   "cell_type": "code",
   "execution_count": 22,
   "metadata": {},
   "outputs": [
    {
     "data": {
      "text/html": [
       "<div>\n",
       "<style scoped>\n",
       "    .dataframe tbody tr th:only-of-type {\n",
       "        vertical-align: middle;\n",
       "    }\n",
       "\n",
       "    .dataframe tbody tr th {\n",
       "        vertical-align: top;\n",
       "    }\n",
       "\n",
       "    .dataframe thead th {\n",
       "        text-align: right;\n",
       "    }\n",
       "</style>\n",
       "<table border=\"1\" class=\"dataframe\">\n",
       "  <thead>\n",
       "    <tr style=\"text-align: right;\">\n",
       "      <th></th>\n",
       "      <th>actiontype</th>\n",
       "      <th>ismydoc</th>\n",
       "      <th>ext</th>\n",
       "      <th>sessionid</th>\n",
       "      <th>documentposition</th>\n",
       "      <th>datetime</th>\n",
       "      <th>screen</th>\n",
       "    </tr>\n",
       "  </thead>\n",
       "  <tbody>\n",
       "    <tr>\n",
       "      <th>0</th>\n",
       "      <td>OPEN</td>\n",
       "      <td>NoView</td>\n",
       "      <td>PDF</td>\n",
       "      <td>9400fd2e43d7dc2d054ca78806236ee1</td>\n",
       "      <td>LOCALSTORAGE</td>\n",
       "      <td>2016.7.18</td>\n",
       "      <td>Per_Dir</td>\n",
       "    </tr>\n",
       "    <tr>\n",
       "      <th>1</th>\n",
       "      <td>CLOSE</td>\n",
       "      <td>NoView</td>\n",
       "      <td>PDF</td>\n",
       "      <td>9400fd2e43d7dc2d054ca78806236ee1</td>\n",
       "      <td>LOCALSTORAGE</td>\n",
       "      <td>2016.7.18</td>\n",
       "      <td>Per_Dir</td>\n",
       "    </tr>\n",
       "    <tr>\n",
       "      <th>2</th>\n",
       "      <td>OPEN</td>\n",
       "      <td>View</td>\n",
       "      <td>PDF</td>\n",
       "      <td>9400fd2e43d7dc2d054ca78806236ee1</td>\n",
       "      <td>MYPOLARISDRIVE</td>\n",
       "      <td>2016.7.18</td>\n",
       "      <td>Pub_Dir</td>\n",
       "    </tr>\n",
       "    <tr>\n",
       "      <th>3</th>\n",
       "      <td>CLOSE</td>\n",
       "      <td>View</td>\n",
       "      <td>PDF</td>\n",
       "      <td>9400fd2e43d7dc2d054ca78806236ee1</td>\n",
       "      <td>MYPOLARISDRIVE</td>\n",
       "      <td>2016.7.18</td>\n",
       "      <td>Pub_Dir</td>\n",
       "    </tr>\n",
       "    <tr>\n",
       "      <th>4</th>\n",
       "      <td>OPEN</td>\n",
       "      <td>NoView</td>\n",
       "      <td>PDF</td>\n",
       "      <td>f191063c562691041dfa935ff0876975</td>\n",
       "      <td>OTHERAPP</td>\n",
       "      <td>2016.7.6</td>\n",
       "      <td>Main</td>\n",
       "    </tr>\n",
       "  </tbody>\n",
       "</table>\n",
       "</div>"
      ],
      "text/plain": [
       "  actiontype ismydoc  ext                         sessionid documentposition  \\\n",
       "0       OPEN  NoView  PDF  9400fd2e43d7dc2d054ca78806236ee1     LOCALSTORAGE   \n",
       "1      CLOSE  NoView  PDF  9400fd2e43d7dc2d054ca78806236ee1     LOCALSTORAGE   \n",
       "2       OPEN    View  PDF  9400fd2e43d7dc2d054ca78806236ee1   MYPOLARISDRIVE   \n",
       "3      CLOSE    View  PDF  9400fd2e43d7dc2d054ca78806236ee1   MYPOLARISDRIVE   \n",
       "4       OPEN  NoView  PDF  f191063c562691041dfa935ff0876975         OTHERAPP   \n",
       "\n",
       "    datetime   screen  \n",
       "0  2016.7.18  Per_Dir  \n",
       "1  2016.7.18  Per_Dir  \n",
       "2  2016.7.18  Pub_Dir  \n",
       "3  2016.7.18  Pub_Dir  \n",
       "4   2016.7.6     Main  "
      ]
     },
     "execution_count": 22,
     "metadata": {},
     "output_type": "execute_result"
    }
   ],
   "source": [
    "df.head(5)"
   ]
  },
  {
   "cell_type": "code",
   "execution_count": 23,
   "metadata": {},
   "outputs": [
    {
     "data": {
      "text/html": [
       "<div>\n",
       "<style scoped>\n",
       "    .dataframe tbody tr th:only-of-type {\n",
       "        vertical-align: middle;\n",
       "    }\n",
       "\n",
       "    .dataframe tbody tr th {\n",
       "        vertical-align: top;\n",
       "    }\n",
       "\n",
       "    .dataframe thead th {\n",
       "        text-align: right;\n",
       "    }\n",
       "</style>\n",
       "<table border=\"1\" class=\"dataframe\">\n",
       "  <thead>\n",
       "    <tr style=\"text-align: right;\">\n",
       "      <th></th>\n",
       "      <th>actiontype</th>\n",
       "      <th>ismydoc</th>\n",
       "      <th>ext</th>\n",
       "      <th>sessionid</th>\n",
       "      <th>documentposition</th>\n",
       "      <th>datetime</th>\n",
       "      <th>screen</th>\n",
       "    </tr>\n",
       "  </thead>\n",
       "  <tbody>\n",
       "    <tr>\n",
       "      <th>301856</th>\n",
       "      <td>CLOSE</td>\n",
       "      <td>View</td>\n",
       "      <td>XLSX</td>\n",
       "      <td>2ed068d5e6a72e80e4a997c01c59f782</td>\n",
       "      <td>OTHERAPP</td>\n",
       "      <td>2016.7.7</td>\n",
       "      <td>Main</td>\n",
       "    </tr>\n",
       "    <tr>\n",
       "      <th>301857</th>\n",
       "      <td>OPEN</td>\n",
       "      <td>NoView</td>\n",
       "      <td>DOCX</td>\n",
       "      <td>41b8c1df291edd2aec30fc610e5b676e</td>\n",
       "      <td>OTHERAPP</td>\n",
       "      <td>2016.7.5</td>\n",
       "      <td>Main</td>\n",
       "    </tr>\n",
       "    <tr>\n",
       "      <th>301858</th>\n",
       "      <td>RESET</td>\n",
       "      <td>View</td>\n",
       "      <td>DOCX</td>\n",
       "      <td>41b8c1df291edd2aec30fc610e5b676e</td>\n",
       "      <td>OTHERAPP</td>\n",
       "      <td>2016.7.5</td>\n",
       "      <td>Main</td>\n",
       "    </tr>\n",
       "    <tr>\n",
       "      <th>301859</th>\n",
       "      <td>OPEN</td>\n",
       "      <td>NoView</td>\n",
       "      <td>PPT</td>\n",
       "      <td>9b5ee236571c2fcbe25132b6ba71d764</td>\n",
       "      <td>OTHERAPP</td>\n",
       "      <td>2016.7.14</td>\n",
       "      <td>Main</td>\n",
       "    </tr>\n",
       "    <tr>\n",
       "      <th>301860</th>\n",
       "      <td>CLOSE</td>\n",
       "      <td>NoView</td>\n",
       "      <td>PPT</td>\n",
       "      <td>9b5ee236571c2fcbe25132b6ba71d764</td>\n",
       "      <td>OTHERAPP</td>\n",
       "      <td>2016.7.14</td>\n",
       "      <td>Main</td>\n",
       "    </tr>\n",
       "  </tbody>\n",
       "</table>\n",
       "</div>"
      ],
      "text/plain": [
       "       actiontype ismydoc   ext                         sessionid  \\\n",
       "301856      CLOSE    View  XLSX  2ed068d5e6a72e80e4a997c01c59f782   \n",
       "301857       OPEN  NoView  DOCX  41b8c1df291edd2aec30fc610e5b676e   \n",
       "301858      RESET    View  DOCX  41b8c1df291edd2aec30fc610e5b676e   \n",
       "301859       OPEN  NoView   PPT  9b5ee236571c2fcbe25132b6ba71d764   \n",
       "301860      CLOSE  NoView   PPT  9b5ee236571c2fcbe25132b6ba71d764   \n",
       "\n",
       "       documentposition   datetime screen  \n",
       "301856         OTHERAPP   2016.7.7   Main  \n",
       "301857         OTHERAPP   2016.7.5   Main  \n",
       "301858         OTHERAPP   2016.7.5   Main  \n",
       "301859         OTHERAPP  2016.7.14   Main  \n",
       "301860         OTHERAPP  2016.7.14   Main  "
      ]
     },
     "execution_count": 23,
     "metadata": {},
     "output_type": "execute_result"
    }
   ],
   "source": [
    "df.tail(5)"
   ]
  },
  {
   "cell_type": "code",
   "execution_count": 24,
   "metadata": {},
   "outputs": [
    {
     "name": "stdout",
     "output_type": "stream",
     "text": [
      "<class 'pandas.core.frame.DataFrame'>\n",
      "Int64Index: 301861 entries, 0 to 301860\n",
      "Data columns (total 7 columns):\n",
      "actiontype          301861 non-null object\n",
      "ismydoc             301861 non-null object\n",
      "ext                 301861 non-null object\n",
      "sessionid           301861 non-null object\n",
      "documentposition    301861 non-null object\n",
      "datetime            301861 non-null object\n",
      "screen              301861 non-null object\n",
      "dtypes: object(7)\n",
      "memory usage: 18.4+ MB\n"
     ]
    }
   ],
   "source": [
    "# key infor => data en entries, missing values, type\n",
    "df.info()\n",
    "\n"
   ]
  },
  {
   "cell_type": "markdown",
   "metadata": {},
   "source": [
    "\n",
    "# 2. Preprocessing\n",
    "* 데이터 타입 변환\n",
    "* 데이터 값 변경\n",
    "* 결측치 처리\n",
    "* 신규 session id 부여\n",
    "* 대소문자 처리"
   ]
  },
  {
   "cell_type": "markdown",
   "metadata": {},
   "source": [
    "# 2.1 날짜를 pandas datetime 형태로 변환하기\n",
    "\n",
    "pandas.to_datetime()\n"
   ]
  },
  {
   "cell_type": "code",
   "execution_count": 25,
   "metadata": {},
   "outputs": [
    {
     "data": {
      "text/plain": [
       "datetime\n",
       "2016.7.1     11836\n",
       "2016.7.10     6750\n",
       "2016.7.11    10075\n",
       "2016.7.12    12340\n",
       "2016.7.13    12159\n",
       "2016.7.14    11721\n",
       "2016.7.15    11057\n",
       "2016.7.16     8513\n",
       "2016.7.17     6906\n",
       "2016.7.18     9987\n",
       "2016.7.19    11872\n",
       "2016.7.2      8884\n",
       "2016.7.20    11912\n",
       "2016.7.21    11599\n",
       "2016.7.22    11250\n",
       "dtype: int64"
      ]
     },
     "execution_count": 25,
     "metadata": {},
     "output_type": "execute_result"
    }
   ],
   "source": [
    "# if datetime is string? no sort\n",
    "\n",
    "df.groupby ('datetime').size().head(15)"
   ]
  },
  {
   "cell_type": "code",
   "execution_count": 32,
   "metadata": {},
   "outputs": [
    {
     "data": {
      "text/plain": [
       "['2018/01/01', '2018.01.02', '2018-01-03', '2018-01-04', '2018/01/05']"
      ]
     },
     "execution_count": 32,
     "metadata": {},
     "output_type": "execute_result"
    }
   ],
   "source": [
    "## case 1. if data type is string,\n",
    "str_date =['2018/01/01','2018.01.02','2018-01-03','2018-01-04','2018/01/05']#string type\n",
    "str_date"
   ]
  },
  {
   "cell_type": "code",
   "execution_count": 38,
   "metadata": {},
   "outputs": [
    {
     "data": {
      "text/plain": [
       "DatetimeIndex(['2018-01-01', '2018-01-02', '2018-01-03', '2018-01-04',\n",
       "               '2018-01-05'],\n",
       "              dtype='datetime64[ns]', freq=None)"
      ]
     },
     "execution_count": 38,
     "metadata": {},
     "output_type": "execute_result"
    }
   ],
   "source": [
    "pd.to_datetime(str_date)# parsed"
   ]
  },
  {
   "cell_type": "code",
   "execution_count": 42,
   "metadata": {},
   "outputs": [
    {
     "data": {
      "text/plain": [
       "0   2018-01-01\n",
       "1   2018-01-02\n",
       "2   2018-01-03\n",
       "3   2018-01-04\n",
       "4   2018-01-05\n",
       "dtype: datetime64[ns]"
      ]
     },
     "execution_count": 42,
     "metadata": {},
     "output_type": "execute_result"
    }
   ],
   "source": [
    "pd.Series(pd.to_datetime(str_date))# to pd:series"
   ]
  },
  {
   "cell_type": "code",
   "execution_count": 43,
   "metadata": {},
   "outputs": [
    {
     "data": {
      "text/plain": [
       "[1349720105, 1349806505, 1349892905, 1349979305, 1350065705]"
      ]
     },
     "execution_count": 43,
     "metadata": {},
     "output_type": "execute_result"
    }
   ],
   "source": [
    "## case 2. 날짜가 timestamp인 경우\n",
    "ts_date =[1349720105, 1349806505, 1349892905, 1349979305, 1350065705]\n",
    "ts_date"
   ]
  },
  {
   "cell_type": "code",
   "execution_count": 44,
   "metadata": {},
   "outputs": [
    {
     "data": {
      "text/plain": [
       "0    2018-07-06\n",
       "1    2018-07-05\n",
       "2    2018-07-04\n",
       "3    2018-07-03\n",
       "4    2018-07-02\n",
       "dtype: object"
      ]
     },
     "execution_count": 44,
     "metadata": {},
     "output_type": "execute_result"
    }
   ],
   "source": [
    "pd.Series(pd.to_datetime([1530837876, 1530751476, 1530665076, 1530578676, 1530492276], unit='s')).dt.date"
   ]
  },
  {
   "cell_type": "markdown",
   "metadata": {},
   "source": [
    "* timestamp converter: https://www.epochconverter.com/ "
   ]
  },
  {
   "cell_type": "code",
   "execution_count": 45,
   "metadata": {
    "scrolled": true
   },
   "outputs": [
    {
     "name": "stdout",
     "output_type": "stream",
     "text": [
      "<class 'pandas.core.frame.DataFrame'>\n",
      "Int64Index: 301861 entries, 0 to 301860\n",
      "Data columns (total 7 columns):\n",
      "actiontype          301861 non-null object\n",
      "ismydoc             301861 non-null object\n",
      "ext                 301861 non-null object\n",
      "sessionid           301861 non-null object\n",
      "documentposition    301861 non-null object\n",
      "datetime            301861 non-null object\n",
      "screen              301861 non-null object\n",
      "dtypes: object(7)\n",
      "memory usage: 18.4+ MB\n"
     ]
    }
   ],
   "source": [
    "## case 3. in case of changing the type of column\n",
    "\n",
    "df.info()"
   ]
  },
  {
   "cell_type": "code",
   "execution_count": 46,
   "metadata": {},
   "outputs": [
    {
     "data": {
      "text/html": [
       "<div>\n",
       "<style scoped>\n",
       "    .dataframe tbody tr th:only-of-type {\n",
       "        vertical-align: middle;\n",
       "    }\n",
       "\n",
       "    .dataframe tbody tr th {\n",
       "        vertical-align: top;\n",
       "    }\n",
       "\n",
       "    .dataframe thead th {\n",
       "        text-align: right;\n",
       "    }\n",
       "</style>\n",
       "<table border=\"1\" class=\"dataframe\">\n",
       "  <thead>\n",
       "    <tr style=\"text-align: right;\">\n",
       "      <th></th>\n",
       "      <th>actiontype</th>\n",
       "      <th>ismydoc</th>\n",
       "      <th>ext</th>\n",
       "      <th>sessionid</th>\n",
       "      <th>documentposition</th>\n",
       "      <th>datetime</th>\n",
       "      <th>screen</th>\n",
       "    </tr>\n",
       "  </thead>\n",
       "  <tbody>\n",
       "    <tr>\n",
       "      <th>0</th>\n",
       "      <td>OPEN</td>\n",
       "      <td>NoView</td>\n",
       "      <td>PDF</td>\n",
       "      <td>9400fd2e43d7dc2d054ca78806236ee1</td>\n",
       "      <td>LOCALSTORAGE</td>\n",
       "      <td>2016.7.18</td>\n",
       "      <td>Per_Dir</td>\n",
       "    </tr>\n",
       "    <tr>\n",
       "      <th>1</th>\n",
       "      <td>CLOSE</td>\n",
       "      <td>NoView</td>\n",
       "      <td>PDF</td>\n",
       "      <td>9400fd2e43d7dc2d054ca78806236ee1</td>\n",
       "      <td>LOCALSTORAGE</td>\n",
       "      <td>2016.7.18</td>\n",
       "      <td>Per_Dir</td>\n",
       "    </tr>\n",
       "    <tr>\n",
       "      <th>2</th>\n",
       "      <td>OPEN</td>\n",
       "      <td>View</td>\n",
       "      <td>PDF</td>\n",
       "      <td>9400fd2e43d7dc2d054ca78806236ee1</td>\n",
       "      <td>MYPOLARISDRIVE</td>\n",
       "      <td>2016.7.18</td>\n",
       "      <td>Pub_Dir</td>\n",
       "    </tr>\n",
       "    <tr>\n",
       "      <th>3</th>\n",
       "      <td>CLOSE</td>\n",
       "      <td>View</td>\n",
       "      <td>PDF</td>\n",
       "      <td>9400fd2e43d7dc2d054ca78806236ee1</td>\n",
       "      <td>MYPOLARISDRIVE</td>\n",
       "      <td>2016.7.18</td>\n",
       "      <td>Pub_Dir</td>\n",
       "    </tr>\n",
       "    <tr>\n",
       "      <th>4</th>\n",
       "      <td>OPEN</td>\n",
       "      <td>NoView</td>\n",
       "      <td>PDF</td>\n",
       "      <td>f191063c562691041dfa935ff0876975</td>\n",
       "      <td>OTHERAPP</td>\n",
       "      <td>2016.7.6</td>\n",
       "      <td>Main</td>\n",
       "    </tr>\n",
       "  </tbody>\n",
       "</table>\n",
       "</div>"
      ],
      "text/plain": [
       "  actiontype ismydoc  ext                         sessionid documentposition  \\\n",
       "0       OPEN  NoView  PDF  9400fd2e43d7dc2d054ca78806236ee1     LOCALSTORAGE   \n",
       "1      CLOSE  NoView  PDF  9400fd2e43d7dc2d054ca78806236ee1     LOCALSTORAGE   \n",
       "2       OPEN    View  PDF  9400fd2e43d7dc2d054ca78806236ee1   MYPOLARISDRIVE   \n",
       "3      CLOSE    View  PDF  9400fd2e43d7dc2d054ca78806236ee1   MYPOLARISDRIVE   \n",
       "4       OPEN  NoView  PDF  f191063c562691041dfa935ff0876975         OTHERAPP   \n",
       "\n",
       "    datetime   screen  \n",
       "0  2016.7.18  Per_Dir  \n",
       "1  2016.7.18  Per_Dir  \n",
       "2  2016.7.18  Pub_Dir  \n",
       "3  2016.7.18  Pub_Dir  \n",
       "4   2016.7.6     Main  "
      ]
     },
     "execution_count": 46,
     "metadata": {},
     "output_type": "execute_result"
    }
   ],
   "source": [
    "df.head() # object =string"
   ]
  },
  {
   "cell_type": "code",
   "execution_count": 47,
   "metadata": {},
   "outputs": [
    {
     "data": {
      "text/plain": [
       "0   2016-07-18\n",
       "1   2016-07-18\n",
       "2   2016-07-18\n",
       "3   2016-07-18\n",
       "4   2016-07-06\n",
       "Name: datetime, dtype: datetime64[ns]"
      ]
     },
     "execution_count": 47,
     "metadata": {},
     "output_type": "execute_result"
    }
   ],
   "source": [
    "# option1. string to datetime\n",
    "df['datetime'].astype('datetime64[ns]').head()"
   ]
  },
  {
   "cell_type": "code",
   "execution_count": 48,
   "metadata": {},
   "outputs": [
    {
     "data": {
      "text/plain": [
       "0   2016-07-18\n",
       "1   2016-07-18\n",
       "2   2016-07-18\n",
       "3   2016-07-18\n",
       "4   2016-07-06\n",
       "Name: datetime, dtype: datetime64[ns]"
      ]
     },
     "execution_count": 48,
     "metadata": {},
     "output_type": "execute_result"
    }
   ],
   "source": [
    "# option2\n",
    "pd.to_datetime(df['datetime']).head()"
   ]
  },
  {
   "cell_type": "code",
   "execution_count": 49,
   "metadata": {},
   "outputs": [],
   "source": [
    "df['datetime']=pd.to_datetime(df['datetime'])"
   ]
  },
  {
   "cell_type": "code",
   "execution_count": 50,
   "metadata": {},
   "outputs": [
    {
     "name": "stdout",
     "output_type": "stream",
     "text": [
      "<class 'pandas.core.frame.DataFrame'>\n",
      "Int64Index: 301861 entries, 0 to 301860\n",
      "Data columns (total 7 columns):\n",
      "actiontype          301861 non-null object\n",
      "ismydoc             301861 non-null object\n",
      "ext                 301861 non-null object\n",
      "sessionid           301861 non-null object\n",
      "documentposition    301861 non-null object\n",
      "datetime            301861 non-null datetime64[ns]\n",
      "screen              301861 non-null object\n",
      "dtypes: datetime64[ns](1), object(6)\n",
      "memory usage: 18.4+ MB\n"
     ]
    }
   ],
   "source": [
    "df.info()"
   ]
  },
  {
   "cell_type": "code",
   "execution_count": 51,
   "metadata": {},
   "outputs": [
    {
     "data": {
      "text/html": [
       "<div>\n",
       "<style scoped>\n",
       "    .dataframe tbody tr th:only-of-type {\n",
       "        vertical-align: middle;\n",
       "    }\n",
       "\n",
       "    .dataframe tbody tr th {\n",
       "        vertical-align: top;\n",
       "    }\n",
       "\n",
       "    .dataframe thead th {\n",
       "        text-align: right;\n",
       "    }\n",
       "</style>\n",
       "<table border=\"1\" class=\"dataframe\">\n",
       "  <thead>\n",
       "    <tr style=\"text-align: right;\">\n",
       "      <th></th>\n",
       "      <th>actiontype</th>\n",
       "      <th>ismydoc</th>\n",
       "      <th>ext</th>\n",
       "      <th>sessionid</th>\n",
       "      <th>documentposition</th>\n",
       "      <th>datetime</th>\n",
       "      <th>screen</th>\n",
       "    </tr>\n",
       "  </thead>\n",
       "  <tbody>\n",
       "    <tr>\n",
       "      <th>0</th>\n",
       "      <td>OPEN</td>\n",
       "      <td>NoView</td>\n",
       "      <td>PDF</td>\n",
       "      <td>9400fd2e43d7dc2d054ca78806236ee1</td>\n",
       "      <td>LOCALSTORAGE</td>\n",
       "      <td>2016-07-18</td>\n",
       "      <td>Per_Dir</td>\n",
       "    </tr>\n",
       "    <tr>\n",
       "      <th>1</th>\n",
       "      <td>CLOSE</td>\n",
       "      <td>NoView</td>\n",
       "      <td>PDF</td>\n",
       "      <td>9400fd2e43d7dc2d054ca78806236ee1</td>\n",
       "      <td>LOCALSTORAGE</td>\n",
       "      <td>2016-07-18</td>\n",
       "      <td>Per_Dir</td>\n",
       "    </tr>\n",
       "    <tr>\n",
       "      <th>2</th>\n",
       "      <td>OPEN</td>\n",
       "      <td>View</td>\n",
       "      <td>PDF</td>\n",
       "      <td>9400fd2e43d7dc2d054ca78806236ee1</td>\n",
       "      <td>MYPOLARISDRIVE</td>\n",
       "      <td>2016-07-18</td>\n",
       "      <td>Pub_Dir</td>\n",
       "    </tr>\n",
       "    <tr>\n",
       "      <th>3</th>\n",
       "      <td>CLOSE</td>\n",
       "      <td>View</td>\n",
       "      <td>PDF</td>\n",
       "      <td>9400fd2e43d7dc2d054ca78806236ee1</td>\n",
       "      <td>MYPOLARISDRIVE</td>\n",
       "      <td>2016-07-18</td>\n",
       "      <td>Pub_Dir</td>\n",
       "    </tr>\n",
       "    <tr>\n",
       "      <th>4</th>\n",
       "      <td>OPEN</td>\n",
       "      <td>NoView</td>\n",
       "      <td>PDF</td>\n",
       "      <td>f191063c562691041dfa935ff0876975</td>\n",
       "      <td>OTHERAPP</td>\n",
       "      <td>2016-07-06</td>\n",
       "      <td>Main</td>\n",
       "    </tr>\n",
       "  </tbody>\n",
       "</table>\n",
       "</div>"
      ],
      "text/plain": [
       "  actiontype ismydoc  ext                         sessionid documentposition  \\\n",
       "0       OPEN  NoView  PDF  9400fd2e43d7dc2d054ca78806236ee1     LOCALSTORAGE   \n",
       "1      CLOSE  NoView  PDF  9400fd2e43d7dc2d054ca78806236ee1     LOCALSTORAGE   \n",
       "2       OPEN    View  PDF  9400fd2e43d7dc2d054ca78806236ee1   MYPOLARISDRIVE   \n",
       "3      CLOSE    View  PDF  9400fd2e43d7dc2d054ca78806236ee1   MYPOLARISDRIVE   \n",
       "4       OPEN  NoView  PDF  f191063c562691041dfa935ff0876975         OTHERAPP   \n",
       "\n",
       "    datetime   screen  \n",
       "0 2016-07-18  Per_Dir  \n",
       "1 2016-07-18  Per_Dir  \n",
       "2 2016-07-18  Pub_Dir  \n",
       "3 2016-07-18  Pub_Dir  \n",
       "4 2016-07-06     Main  "
      ]
     },
     "execution_count": 51,
     "metadata": {},
     "output_type": "execute_result"
    }
   ],
   "source": [
    "df.head()"
   ]
  },
  {
   "cell_type": "code",
   "execution_count": 52,
   "metadata": {},
   "outputs": [
    {
     "data": {
      "text/plain": [
       "datetime\n",
       "2016-07-01    11836\n",
       "2016-07-02     8884\n",
       "2016-07-03     6334\n",
       "2016-07-04     9260\n",
       "2016-07-05    10988\n",
       "2016-07-06    10525\n",
       "2016-07-07    10153\n",
       "2016-07-08    10522\n",
       "2016-07-09     8283\n",
       "2016-07-10     6750\n",
       "2016-07-11    10075\n",
       "2016-07-12    12340\n",
       "2016-07-13    12159\n",
       "2016-07-14    11721\n",
       "2016-07-15    11057\n",
       "2016-07-16     8513\n",
       "2016-07-17     6906\n",
       "2016-07-18     9987\n",
       "2016-07-19    11872\n",
       "2016-07-20    11912\n",
       "2016-07-21    11599\n",
       "2016-07-22    11250\n",
       "2016-07-23     8390\n",
       "2016-07-24     6813\n",
       "2016-07-25    10081\n",
       "2016-07-26    12034\n",
       "2016-07-27    11593\n",
       "2016-07-28    11216\n",
       "2016-07-29    10721\n",
       "2016-07-30     8087\n",
       "dtype: int64"
      ]
     },
     "execution_count": 52,
     "metadata": {},
     "output_type": "execute_result"
    }
   ],
   "source": [
    "df.groupby('datetime').size()#.plot()"
   ]
  },
  {
   "cell_type": "code",
   "execution_count": 53,
   "metadata": {},
   "outputs": [
    {
     "data": {
      "text/plain": [
       "0    2016\n",
       "1    2016\n",
       "2    2016\n",
       "3    2016\n",
       "4    2016\n",
       "5    2016\n",
       "6    2016\n",
       "7    2016\n",
       "8    2016\n",
       "9    2016\n",
       "Name: datetime, dtype: int64"
      ]
     },
     "execution_count": 53,
     "metadata": {},
     "output_type": "execute_result"
    }
   ],
   "source": [
    "# day to year\n",
    "df['datetime'].dt.year[:10]"
   ]
  },
  {
   "cell_type": "code",
   "execution_count": 54,
   "metadata": {},
   "outputs": [
    {
     "data": {
      "text/plain": [
       "0    7\n",
       "1    7\n",
       "2    7\n",
       "3    7\n",
       "4    7\n",
       "5    7\n",
       "6    7\n",
       "7    7\n",
       "8    7\n",
       "9    7\n",
       "Name: datetime, dtype: int64"
      ]
     },
     "execution_count": 54,
     "metadata": {},
     "output_type": "execute_result"
    }
   ],
   "source": [
    "# day to month\n",
    "df['datetime'].dt.month[:10]"
   ]
  },
  {
   "cell_type": "code",
   "execution_count": 55,
   "metadata": {},
   "outputs": [
    {
     "data": {
      "text/plain": [
       "0    18\n",
       "1    18\n",
       "2    18\n",
       "3    18\n",
       "4     6\n",
       "5     6\n",
       "6    20\n",
       "7    20\n",
       "8    28\n",
       "9    28\n",
       "Name: datetime, dtype: int64"
      ]
     },
     "execution_count": 55,
     "metadata": {},
     "output_type": "execute_result"
    }
   ],
   "source": [
    "# day to day\n",
    "df['datetime'].dt.day[:10]"
   ]
  },
  {
   "cell_type": "markdown",
   "metadata": {},
   "source": [
    "# 2.2 Missing value 확인"
   ]
  },
  {
   "cell_type": "code",
   "execution_count": 59,
   "metadata": {},
   "outputs": [
    {
     "name": "stdout",
     "output_type": "stream",
     "text": [
      "<class 'pandas.core.frame.DataFrame'>\n",
      "Int64Index: 301861 entries, 0 to 301860\n",
      "Data columns (total 7 columns):\n",
      "actiontype          301861 non-null object\n",
      "ismydoc             301861 non-null object\n",
      "ext                 301861 non-null object\n",
      "sessionid           301861 non-null object\n",
      "documentposition    301861 non-null object\n",
      "datetime            301861 non-null datetime64[ns]\n",
      "screen              301861 non-null object\n",
      "dtypes: datetime64[ns](1), object(6)\n",
      "memory usage: 18.4+ MB\n"
     ]
    }
   ],
   "source": [
    "df.info()"
   ]
  },
  {
   "cell_type": "code",
   "execution_count": 60,
   "metadata": {},
   "outputs": [
    {
     "data": {
      "text/plain": [
       "actiontype          0\n",
       "ismydoc             0\n",
       "ext                 0\n",
       "sessionid           0\n",
       "documentposition    0\n",
       "datetime            0\n",
       "screen              0\n",
       "dtype: int64"
      ]
     },
     "execution_count": 60,
     "metadata": {},
     "output_type": "execute_result"
    }
   ],
   "source": [
    "df.isnull().sum()"
   ]
  },
  {
   "cell_type": "code",
   "execution_count": null,
   "metadata": {},
   "outputs": [],
   "source": []
  },
  {
   "cell_type": "code",
   "execution_count": null,
   "metadata": {},
   "outputs": [],
   "source": []
  },
  {
   "cell_type": "markdown",
   "metadata": {},
   "source": [
    "* 2.3 결측치 처리\n",
    "Drop\n",
    "경우에 따라 결측치 처리 방법이 달라진다.\n",
    "샘플수가 많다면 missing values 를 포함하는 행을 모두 삭제하는 것이 가능하다\n",
    "* 결측치가 하나라도 있으면 버리는 코드 예제\n",
    "df.dropna()\n",
    "\n",
    "* 모든 값이 Null일 경우만 버리는 코드 예제\n",
    "df.dropna(how='all')\n",
    "\n",
    "* 결측치가 하나 이상 있는 Case만 선택하는 코드 예제\n",
    "df[df.isnull().any(axis=1)]\n",
    "* Imputation\n",
    " * 만약 샘플수가 충분하지 않을 경우, Pandas의 fillna() 명령어로 Null 값을 채우는 것이 가능하다. \n",
    "* 연속형인 경우 Mean이나 Median을 이용하고 명목형인 경우 Mode(최빈치)나 예측 모형을 통해 Null 값을 대체할 수 있다.\n",
    "* Null 값을 median으로 대체하는 코드 예제\n",
    "df.fillna(df.mean())\n",
    "Reference\n",
    "https://machinelearningmastery.com/handle-missing-data-python/"
   ]
  },
  {
   "cell_type": "code",
   "execution_count": 62,
   "metadata": {},
   "outputs": [],
   "source": [
    "df_by_screen = df.groupby(['datetime','screen'])['sessionid'].nunique().unstack()\n",
    "df_by_screen = df.groupby([\"datetime\", \"screen\"])['sessionid'].nunique().unstack()"
   ]
  },
  {
   "cell_type": "code",
   "execution_count": 63,
   "metadata": {},
   "outputs": [
    {
     "data": {
      "text/html": [
       "<div>\n",
       "<style scoped>\n",
       "    .dataframe tbody tr th:only-of-type {\n",
       "        vertical-align: middle;\n",
       "    }\n",
       "\n",
       "    .dataframe tbody tr th {\n",
       "        vertical-align: top;\n",
       "    }\n",
       "\n",
       "    .dataframe thead th {\n",
       "        text-align: right;\n",
       "    }\n",
       "</style>\n",
       "<table border=\"1\" class=\"dataframe\">\n",
       "  <thead>\n",
       "    <tr style=\"text-align: right;\">\n",
       "      <th>screen</th>\n",
       "      <th>InProduct_Mob</th>\n",
       "      <th>InProduct_Web</th>\n",
       "      <th>Main</th>\n",
       "      <th>Per_Dir</th>\n",
       "      <th>Pub_Dir</th>\n",
       "      <th>Purchase_done</th>\n",
       "      <th>Purchase_page</th>\n",
       "    </tr>\n",
       "    <tr>\n",
       "      <th>datetime</th>\n",
       "      <th></th>\n",
       "      <th></th>\n",
       "      <th></th>\n",
       "      <th></th>\n",
       "      <th></th>\n",
       "      <th></th>\n",
       "      <th></th>\n",
       "    </tr>\n",
       "  </thead>\n",
       "  <tbody>\n",
       "    <tr>\n",
       "      <th>2016-07-01</th>\n",
       "      <td>137.0</td>\n",
       "      <td>147.0</td>\n",
       "      <td>3582.0</td>\n",
       "      <td>296.0</td>\n",
       "      <td>1008.0</td>\n",
       "      <td>2.0</td>\n",
       "      <td>23.0</td>\n",
       "    </tr>\n",
       "    <tr>\n",
       "      <th>2016-07-02</th>\n",
       "      <td>89.0</td>\n",
       "      <td>124.0</td>\n",
       "      <td>2683.0</td>\n",
       "      <td>206.0</td>\n",
       "      <td>801.0</td>\n",
       "      <td>2.0</td>\n",
       "      <td>15.0</td>\n",
       "    </tr>\n",
       "    <tr>\n",
       "      <th>2016-07-03</th>\n",
       "      <td>50.0</td>\n",
       "      <td>83.0</td>\n",
       "      <td>1886.0</td>\n",
       "      <td>165.0</td>\n",
       "      <td>590.0</td>\n",
       "      <td>NaN</td>\n",
       "      <td>28.0</td>\n",
       "    </tr>\n",
       "    <tr>\n",
       "      <th>2016-07-04</th>\n",
       "      <td>112.0</td>\n",
       "      <td>104.0</td>\n",
       "      <td>2808.0</td>\n",
       "      <td>281.0</td>\n",
       "      <td>764.0</td>\n",
       "      <td>NaN</td>\n",
       "      <td>29.0</td>\n",
       "    </tr>\n",
       "    <tr>\n",
       "      <th>2016-07-05</th>\n",
       "      <td>118.0</td>\n",
       "      <td>138.0</td>\n",
       "      <td>3335.0</td>\n",
       "      <td>300.0</td>\n",
       "      <td>842.0</td>\n",
       "      <td>1.0</td>\n",
       "      <td>26.0</td>\n",
       "    </tr>\n",
       "    <tr>\n",
       "      <th>2016-07-06</th>\n",
       "      <td>138.0</td>\n",
       "      <td>145.0</td>\n",
       "      <td>3256.0</td>\n",
       "      <td>293.0</td>\n",
       "      <td>855.0</td>\n",
       "      <td>1.0</td>\n",
       "      <td>30.0</td>\n",
       "    </tr>\n",
       "    <tr>\n",
       "      <th>2016-07-07</th>\n",
       "      <td>110.0</td>\n",
       "      <td>117.0</td>\n",
       "      <td>3150.0</td>\n",
       "      <td>266.0</td>\n",
       "      <td>807.0</td>\n",
       "      <td>NaN</td>\n",
       "      <td>18.0</td>\n",
       "    </tr>\n",
       "    <tr>\n",
       "      <th>2016-07-08</th>\n",
       "      <td>117.0</td>\n",
       "      <td>148.0</td>\n",
       "      <td>3208.0</td>\n",
       "      <td>273.0</td>\n",
       "      <td>865.0</td>\n",
       "      <td>2.0</td>\n",
       "      <td>20.0</td>\n",
       "    </tr>\n",
       "    <tr>\n",
       "      <th>2016-07-09</th>\n",
       "      <td>102.0</td>\n",
       "      <td>138.0</td>\n",
       "      <td>2381.0</td>\n",
       "      <td>229.0</td>\n",
       "      <td>748.0</td>\n",
       "      <td>2.0</td>\n",
       "      <td>23.0</td>\n",
       "    </tr>\n",
       "    <tr>\n",
       "      <th>2016-07-10</th>\n",
       "      <td>62.0</td>\n",
       "      <td>122.0</td>\n",
       "      <td>1872.0</td>\n",
       "      <td>230.0</td>\n",
       "      <td>636.0</td>\n",
       "      <td>2.0</td>\n",
       "      <td>18.0</td>\n",
       "    </tr>\n",
       "  </tbody>\n",
       "</table>\n",
       "</div>"
      ],
      "text/plain": [
       "screen      InProduct_Mob  InProduct_Web    Main  Per_Dir  Pub_Dir  \\\n",
       "datetime                                                             \n",
       "2016-07-01          137.0          147.0  3582.0    296.0   1008.0   \n",
       "2016-07-02           89.0          124.0  2683.0    206.0    801.0   \n",
       "2016-07-03           50.0           83.0  1886.0    165.0    590.0   \n",
       "2016-07-04          112.0          104.0  2808.0    281.0    764.0   \n",
       "2016-07-05          118.0          138.0  3335.0    300.0    842.0   \n",
       "2016-07-06          138.0          145.0  3256.0    293.0    855.0   \n",
       "2016-07-07          110.0          117.0  3150.0    266.0    807.0   \n",
       "2016-07-08          117.0          148.0  3208.0    273.0    865.0   \n",
       "2016-07-09          102.0          138.0  2381.0    229.0    748.0   \n",
       "2016-07-10           62.0          122.0  1872.0    230.0    636.0   \n",
       "\n",
       "screen      Purchase_done  Purchase_page  \n",
       "datetime                                  \n",
       "2016-07-01            2.0           23.0  \n",
       "2016-07-02            2.0           15.0  \n",
       "2016-07-03            NaN           28.0  \n",
       "2016-07-04            NaN           29.0  \n",
       "2016-07-05            1.0           26.0  \n",
       "2016-07-06            1.0           30.0  \n",
       "2016-07-07            NaN           18.0  \n",
       "2016-07-08            2.0           20.0  \n",
       "2016-07-09            2.0           23.0  \n",
       "2016-07-10            2.0           18.0  "
      ]
     },
     "execution_count": 63,
     "metadata": {},
     "output_type": "execute_result"
    }
   ],
   "source": [
    "df_by_screen[:10]"
   ]
  },
  {
   "cell_type": "code",
   "execution_count": 64,
   "metadata": {},
   "outputs": [
    {
     "data": {
      "text/plain": [
       "screen\n",
       "InProduct_Mob    0\n",
       "InProduct_Web    0\n",
       "Main             0\n",
       "Per_Dir          0\n",
       "Pub_Dir          0\n",
       "Purchase_done    6\n",
       "Purchase_page    0\n",
       "dtype: int64"
      ]
     },
     "execution_count": 64,
     "metadata": {},
     "output_type": "execute_result"
    }
   ],
   "source": [
    "df_by_screen.isnull().sum()"
   ]
  },
  {
   "cell_type": "code",
   "execution_count": null,
   "metadata": {},
   "outputs": [],
   "source": []
  },
  {
   "cell_type": "code",
   "execution_count": 28,
   "metadata": {},
   "outputs": [
    {
     "ename": "NameError",
     "evalue": "name 'x' is not defined",
     "output_type": "error",
     "traceback": [
      "\u001b[1;31m---------------------------------------------------------------------------\u001b[0m",
      "\u001b[1;31mNameError\u001b[0m                                 Traceback (most recent call last)",
      "\u001b[1;32m<ipython-input-28-e3674d5c59ae>\u001b[0m in \u001b[0;36m<module>\u001b[1;34m\u001b[0m\n\u001b[1;32m----> 1\u001b[1;33m \u001b[0mpd\u001b[0m\u001b[1;33m.\u001b[0m\u001b[0mget_dummies\u001b[0m\u001b[1;33m(\u001b[0m\u001b[0mx\u001b[0m\u001b[1;33m)\u001b[0m\u001b[1;33m\u001b[0m\u001b[1;33m\u001b[0m\u001b[0m\n\u001b[0m",
      "\u001b[1;31mNameError\u001b[0m: name 'x' is not defined"
     ]
    }
   ],
   "source": [
    "pd.get_dummies(x)"
   ]
  },
  {
   "cell_type": "code",
   "execution_count": null,
   "metadata": {},
   "outputs": [],
   "source": []
  },
  {
   "cell_type": "code",
   "execution_count": null,
   "metadata": {},
   "outputs": [],
   "source": []
  },
  {
   "cell_type": "code",
   "execution_count": null,
   "metadata": {},
   "outputs": [],
   "source": []
  },
  {
   "cell_type": "code",
   "execution_count": null,
   "metadata": {},
   "outputs": [],
   "source": []
  },
  {
   "cell_type": "code",
   "execution_count": null,
   "metadata": {},
   "outputs": [],
   "source": []
  },
  {
   "cell_type": "code",
   "execution_count": null,
   "metadata": {},
   "outputs": [],
   "source": []
  },
  {
   "cell_type": "code",
   "execution_count": null,
   "metadata": {},
   "outputs": [],
   "source": []
  },
  {
   "cell_type": "code",
   "execution_count": null,
   "metadata": {},
   "outputs": [],
   "source": []
  },
  {
   "cell_type": "code",
   "execution_count": null,
   "metadata": {},
   "outputs": [],
   "source": []
  },
  {
   "cell_type": "code",
   "execution_count": null,
   "metadata": {},
   "outputs": [],
   "source": []
  },
  {
   "cell_type": "code",
   "execution_count": null,
   "metadata": {},
   "outputs": [],
   "source": []
  },
  {
   "cell_type": "code",
   "execution_count": null,
   "metadata": {},
   "outputs": [],
   "source": []
  },
  {
   "cell_type": "code",
   "execution_count": null,
   "metadata": {},
   "outputs": [],
   "source": []
  },
  {
   "cell_type": "code",
   "execution_count": null,
   "metadata": {},
   "outputs": [],
   "source": []
  },
  {
   "cell_type": "code",
   "execution_count": null,
   "metadata": {},
   "outputs": [],
   "source": []
  },
  {
   "cell_type": "code",
   "execution_count": null,
   "metadata": {},
   "outputs": [],
   "source": []
  },
  {
   "cell_type": "code",
   "execution_count": null,
   "metadata": {},
   "outputs": [],
   "source": []
  },
  {
   "cell_type": "code",
   "execution_count": null,
   "metadata": {},
   "outputs": [],
   "source": []
  },
  {
   "cell_type": "code",
   "execution_count": null,
   "metadata": {},
   "outputs": [],
   "source": []
  },
  {
   "cell_type": "code",
   "execution_count": null,
   "metadata": {},
   "outputs": [],
   "source": []
  },
  {
   "cell_type": "code",
   "execution_count": null,
   "metadata": {},
   "outputs": [],
   "source": []
  },
  {
   "cell_type": "code",
   "execution_count": null,
   "metadata": {},
   "outputs": [],
   "source": []
  },
  {
   "cell_type": "code",
   "execution_count": null,
   "metadata": {},
   "outputs": [],
   "source": []
  },
  {
   "cell_type": "code",
   "execution_count": null,
   "metadata": {},
   "outputs": [],
   "source": []
  },
  {
   "cell_type": "code",
   "execution_count": null,
   "metadata": {},
   "outputs": [],
   "source": []
  },
  {
   "cell_type": "code",
   "execution_count": null,
   "metadata": {},
   "outputs": [],
   "source": []
  },
  {
   "cell_type": "code",
   "execution_count": null,
   "metadata": {},
   "outputs": [],
   "source": []
  },
  {
   "cell_type": "code",
   "execution_count": null,
   "metadata": {},
   "outputs": [],
   "source": []
  }
 ],
 "metadata": {
  "kernelspec": {
   "display_name": "Python 3",
   "language": "python",
   "name": "python3"
  },
  "language_info": {
   "codemirror_mode": {
    "name": "ipython",
    "version": 3
   },
   "file_extension": ".py",
   "mimetype": "text/x-python",
   "name": "python",
   "nbconvert_exporter": "python",
   "pygments_lexer": "ipython3",
   "version": "3.7.3"
  }
 },
 "nbformat": 4,
 "nbformat_minor": 2
}
