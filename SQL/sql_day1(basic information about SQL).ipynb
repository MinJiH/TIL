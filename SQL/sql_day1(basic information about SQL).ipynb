{
 "cells": [
  {
   "cell_type": "markdown",
   "metadata": {},
   "source": [
    "# DATA"
   ]
  },
  {
   "cell_type": "markdown",
   "metadata": {},
   "source": [
    "# DATA is a information which is like character,number,sound,image\n",
    "\n",
    "data -(processing)->information\n"
   ]
  },
  {
   "cell_type": "markdown",
   "metadata": {},
   "source": [
    "# Database"
   ]
  },
  {
   "cell_type": "markdown",
   "metadata": {},
   "source": [
    "gathering of the data systemised"
   ]
  },
  {
   "cell_type": "markdown",
   "metadata": {},
   "source": [
    "# what is DBMS?"
   ]
  },
  {
   "cell_type": "markdown",
   "metadata": {},
   "source": [
    "DMBS is short for DataBase Management System\n",
    "DBMS is the application which makes database-gathering of data, save, manage the data\n",
    "foe examples, oracle,Mysql,MariaDB,DB2,MS SQL Servers,"
   ]
  },
  {
   "cell_type": "markdown",
   "metadata": {},
   "source": [
    "# why do we ues DBMS?"
   ]
  },
  {
   "cell_type": "markdown",
   "metadata": {},
   "source": [
    "1. the consistency of data's integrity(correct, consistence)\n",
    "-in case of making two files consist of same contents, sort of one for original, one for duplicate in order to\n",
    "save the file. if using DBMS, there is no need to apply changes to the contents from all the files\n",
    "2. minimizing the dulicate of data\n",
    "3. security\n",
    "- you can choose who can have the right to save, read,write,edit for each.\n",
    "4. enhancement of function\n",
    "5. easy to edit the program and do maintenance\n"
   ]
  },
  {
   "cell_type": "markdown",
   "metadata": {},
   "source": [
    "# Sounds like there is no difference between DBMS and file system?"
   ]
  },
  {
   "cell_type": "markdown",
   "metadata": {},
   "source": [
    "the answer is nope..\n",
    "1. self-technicality\n",
    "in case of file system,it can be possible to open the specific file using the file systme for that file.\n",
    "but you don't need to do use specific file system, reading the contents by DB"
   ]
  },
  {
   "attachments": {},
   "cell_type": "markdown",
   "metadata": {},
   "source": [
    "# SQL(Structured Query Language)\n",
    "- programing language which is architectured in order to manage the data\n",
    "-there are three categories of SQL\n",
    " 1. defition language for SQL : creat,drop,alter\n",
    " 2. operating language for SQL:insert,update,delete\n",
    " 3. controling language for SQL:grant, revoke\n",
    " \n",
    " <img src=“image path” alt=“이미지 대체 텍스트” width=200 height=200>\n",
    " \n"
   ]
  },
  {
   "cell_type": "code",
   "execution_count": null,
   "metadata": {},
   "outputs": [],
   "source": []
  },
  {
   "cell_type": "code",
   "execution_count": null,
   "metadata": {},
   "outputs": [],
   "source": []
  },
  {
   "cell_type": "code",
   "execution_count": null,
   "metadata": {},
   "outputs": [],
   "source": []
  },
  {
   "cell_type": "code",
   "execution_count": null,
   "metadata": {},
   "outputs": [],
   "source": []
  },
  {
   "cell_type": "markdown",
   "metadata": {},
   "source": [
    "# "
   ]
  }
 ],
 "metadata": {
  "kernelspec": {
   "display_name": "Python 3",
   "language": "python",
   "name": "python3"
  },
  "language_info": {
   "codemirror_mode": {
    "name": "ipython",
    "version": 3
   },
   "file_extension": ".py",
   "mimetype": "text/x-python",
   "name": "python",
   "nbconvert_exporter": "python",
   "pygments_lexer": "ipython3",
   "version": "3.7.1"
  }
 },
 "nbformat": 4,
 "nbformat_minor": 2
}
