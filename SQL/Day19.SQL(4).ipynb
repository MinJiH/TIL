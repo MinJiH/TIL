{
 "cells": [
  {
   "cell_type": "code",
   "execution_count": null,
   "metadata": {},
   "outputs": [],
   "source": [
    "import sqlite3 as lite\n",
    "import pandas as pd"
   ]
  },
  {
   "cell_type": "code",
   "execution_count": null,
   "metadata": {},
   "outputs": [],
   "source": [
    "\n",
    "db = lite.connect('./products.db')"
   ]
  },
  {
   "cell_type": "code",
   "execution_count": null,
   "metadata": {},
   "outputs": [],
   "source": [
    "query = \"\"\"\n",
    "SELECT *\n",
    "FROM Orders;\n",
    "\"\"\"\n",
    "\n",
    "pd.read_sql(query,db).head()"
   ]
  },
  {
   "cell_type": "code",
   "execution_count": null,
   "metadata": {},
   "outputs": [],
   "source": [
    "query = \"\"\"\n",
    "SELECT sql\n",
    "FROM sqlite_master\n",
    ";\n",
    "\"\"\"\n",
    "pd.read_sql(query, db)"
   ]
  },
  {
   "cell_type": "code",
   "execution_count": null,
   "metadata": {},
   "outputs": [],
   "source": [
    "#Orders\n",
    "# OrderID => OrderDetails\n",
    "# CustomerID => Customers\n",
    "# EmployeeID => Employees\n",
    "# ShipperID => Shippers\n",
    "\n",
    "query = \"\"\"\n",
    "SELECT * \n",
    "FROM \n",
    "    Orders O\n",
    "    JOIN\n",
    "        OrderDetails D\n",
    "    ON\n",
    "        O.OrderID = D.OrderID\n",
    "    JOIN\n",
    "        Customers C\n",
    "    ON\n",
    "        O.CustomerID = C.CustomerID\n",
    "    JOIN\n",
    "        Employees E\n",
    "    ON\n",
    "        O.EmployeeID = E.EmployeeID\n",
    "    JOIN\n",
    "        Shippers S\n",
    "    ON\n",
    "        O.ShipperID = S.ShipperID\n",
    "    \n",
    ";\n",
    "\"\"\"\n",
    "len(pd.read_sql(query,db))"
   ]
  },
  {
   "cell_type": "code",
   "execution_count": null,
   "metadata": {},
   "outputs": [],
   "source": [
    "pd.options.display.max_colwidth = 200"
   ]
  },
  {
   "cell_type": "code",
   "execution_count": null,
   "metadata": {},
   "outputs": [],
   "source": [
    "\n",
    "query = \"\"\"\n",
    "SELECT *\n",
    "FROM OrderDetails\n",
    "WHERE\n",
    "    Quantity >=40\n",
    ";\n",
    "\"\"\"\n",
    "pd.read_sql(query,db).head()"
   ]
  },
  {
   "cell_type": "code",
   "execution_count": null,
   "metadata": {},
   "outputs": [],
   "source": [
    "\n",
    "query=\"\"\"\n",
    "SELECT *\n",
    "FROM Orders\n",
    ";\n",
    "\"\"\"\n",
    "pd.read_sql(query,db).head()"
   ]
  },
  {
   "cell_type": "code",
   "execution_count": null,
   "metadata": {},
   "outputs": [],
   "source": [
    "query = \"\"\"\n",
    "SELECT *\n",
    "FROM Orders\n",
    "WHERE\n",
    "    OrderID IN (\n",
    "        SELECT OrderID\n",
    "        FROM OrderDetails\n",
    "        WHERE\n",
    "            Quantity >=40\n",
    "    )\n",
    ";\n",
    "\"\"\"\n",
    "pd.read_sql(query,db).head()"
   ]
  },
  {
   "cell_type": "code",
   "execution_count": null,
   "metadata": {},
   "outputs": [],
   "source": [
    "query = \"\"\"\n",
    "SELECT *\n",
    "FROM\n",
    "    Customers\n",
    ";\n",
    "\"\"\"\n",
    "pd.read_sql(query,db).head()"
   ]
  },
  {
   "cell_type": "code",
   "execution_count": null,
   "metadata": {},
   "outputs": [],
   "source": [
    "\n",
    "query = \"\"\"\n",
    "SELECT CustomerID\n",
    "FROM\n",
    "    Customers\n",
    "WHERE\n",
    "    CustomerName LIKE '%Ernst%'\n",
    "    OR\n",
    "    CustomerName LIKE '%Stop%'\n",
    ";\n",
    "\"\"\"\n",
    "pd.read_sql(query,db).head()"
   ]
  },
  {
   "cell_type": "code",
   "execution_count": null,
   "metadata": {},
   "outputs": [],
   "source": [
    "query = \"\"\"\n",
    "SELECT *\n",
    "FROM \n",
    "    Orders\n",
    "WHERE\n",
    "    OrderID IN (\n",
    "        SELECT OrderID\n",
    "        FROM \n",
    "            OrderDetails\n",
    "        WHERE\n",
    "            Quantity >=40\n",
    "    )\n",
    "    AND\n",
    "    CustomerID IN(\n",
    "        SELECT CustomerID\n",
    "        FROM\n",
    "            Customers\n",
    "        WHERE\n",
    "            CustomerName LIKE '%Ernst%'\n",
    "            OR\n",
    "            CustomerName LIKE '%Stop%'\n",
    "    )\n",
    "    \n",
    ";\n",
    "\"\"\"\n",
    "pd.read_sql(query,db).head()\n",
    "# End of Subject"
   ]
  },
  {
   "cell_type": "code",
   "execution_count": null,
   "metadata": {},
   "outputs": [],
   "source": [
    "\n",
    "query = \"\"\"\n",
    "SELECT *\n",
    "FROM Products\n",
    ";\n",
    "\"\"\"\n",
    "products_df = pd.read_sql(query,db)"
   ]
  },
  {
   "cell_type": "code",
   "execution_count": null,
   "metadata": {},
   "outputs": [],
   "source": [
    "products_df.sort_values('ProductName').head()"
   ]
  },
  {
   "cell_type": "code",
   "execution_count": null,
   "metadata": {},
   "outputs": [],
   "source": [
    "products_df.sort_values('ProductName', ascending=False).head()"
   ]
  },
  {
   "cell_type": "code",
   "execution_count": null,
   "metadata": {},
   "outputs": [],
   "source": [
    "query = \"\"\"\n",
    "SELECT *\n",
    "FROM Products\n",
    "    ORDER BY ProductName\n",
    ";\n",
    "\"\"\"\n",
    "pd.read_sql(query,db).head()"
   ]
  },
  {
   "cell_type": "code",
   "execution_count": null,
   "metadata": {},
   "outputs": [],
   "source": [
    "\n",
    "query = \"\"\"\n",
    "SELECT *\n",
    "FROM Products\n",
    "    ORDER BY ProductName DESC\n",
    ";\n",
    "\"\"\"\n",
    "pd.read_sql(query,db).head()"
   ]
  },
  {
   "cell_type": "code",
   "execution_count": null,
   "metadata": {},
   "outputs": [],
   "source": [
    "query=\"\"\"\n",
    "SELECT name, sql\n",
    "From sqlite_master\n",
    ";\n",
    "\"\"\"\n",
    "pd.read_sql(query,db)"
   ]
  },
  {
   "cell_type": "code",
   "execution_count": null,
   "metadata": {},
   "outputs": [],
   "source": [
    "query = \"\"\"\n",
    "SELECT *\n",
    "FROM OrderDetails\n",
    ";\n",
    "\"\"\"\n",
    "orderDetails_df = pd.read_sql(query,db)"
   ]
  },
  {
   "cell_type": "code",
   "execution_count": 1,
   "metadata": {},
   "outputs": [
    {
     "ename": "NameError",
     "evalue": "name 'orderDetails_df' is not defined",
     "output_type": "error",
     "traceback": [
      "\u001b[1;31m---------------------------------------------------------------------------\u001b[0m",
      "\u001b[1;31mNameError\u001b[0m                                 Traceback (most recent call last)",
      "\u001b[1;32m<ipython-input-1-e2a50dca7bec>\u001b[0m in \u001b[0;36m<module>\u001b[1;34m\u001b[0m\n\u001b[0;32m      1\u001b[0m \u001b[1;33m\u001b[0m\u001b[0m\n\u001b[1;32m----> 2\u001b[1;33m \u001b[0morderDetails_df\u001b[0m\u001b[1;33m.\u001b[0m\u001b[0mmerge\u001b[0m\u001b[1;33m(\u001b[0m\u001b[0mproducts_df\u001b[0m\u001b[1;33m,\u001b[0m \u001b[0mon\u001b[0m\u001b[1;33m=\u001b[0m\u001b[1;34m\"ProductID\"\u001b[0m\u001b[1;33m)\u001b[0m\u001b[1;33m.\u001b[0m\u001b[0mhead\u001b[0m\u001b[1;33m(\u001b[0m\u001b[1;33m)\u001b[0m\u001b[1;33m\u001b[0m\u001b[1;33m\u001b[0m\u001b[0m\n\u001b[0m",
      "\u001b[1;31mNameError\u001b[0m: name 'orderDetails_df' is not defined"
     ]
    }
   ],
   "source": [
    "\n",
    "orderDetails_df.merge(products_df, on=\"ProductID\").head()"
   ]
  },
  {
   "cell_type": "code",
   "execution_count": null,
   "metadata": {},
   "outputs": [],
   "source": [
    "pd.read_sql(\"SELECT * FROM Orders;\", db).nunique()"
   ]
  },
  {
   "cell_type": "code",
   "execution_count": null,
   "metadata": {},
   "outputs": [],
   "source": [
    "pd.read_sql(\"SELECT * FROM Customers;\", db).nunique()"
   ]
  },
  {
   "cell_type": "code",
   "execution_count": null,
   "metadata": {},
   "outputs": [],
   "source": [
    "query=\"\"\"\n",
    "SELECT *\n",
    "FROM\n",
    "    Customers, Orders\n",
    ";\n",
    "\"\"\"\n",
    "len(pd.read_sql(query,db))"
   ]
  },
  {
   "cell_type": "code",
   "execution_count": null,
   "metadata": {},
   "outputs": [],
   "source": [
    "query=\"\"\"\n",
    "SELECT C.CustomerID, C.CustomerName, O.CustomerID, O.OrderID\n",
    "FROM \n",
    "    Orders O, Customers C\n",
    "WHERE\n",
    "    C.CustomerID = O.CustomerID\n",
    ";\n",
    "\"\"\"\n",
    "pd.read_sql(query,db).head()"
   ]
  },
  {
   "cell_type": "code",
   "execution_count": null,
   "metadata": {},
   "outputs": [],
   "source": [
    "query=\"\"\"\n",
    "SELECT C.CustomerID, C.CustomerName, O.CustomerID, O.OrderID\n",
    "FROM Customers C\n",
    "    JOIN\n",
    "        Orders O\n",
    "    ON\n",
    "        C.CustomerID = O.CustomerID\n",
    ";\n",
    "\"\"\"\n",
    "len(pd.read_sql(query,db))"
   ]
  },
  {
   "cell_type": "code",
   "execution_count": null,
   "metadata": {},
   "outputs": [],
   "source": [
    "query=\"\"\"\n",
    "SELECT C.CustomerID, C.CustomerName, O.CustomerID, O.OrderID\n",
    "FROM Customers C\n",
    "    JOIN\n",
    "        Orders O\n",
    ";\n",
    "\"\"\"\n",
    "len(pd.read_sql(query,db))"
   ]
  },
  {
   "cell_type": "code",
   "execution_count": null,
   "metadata": {},
   "outputs": [],
   "source": [
    "\n",
    "# 스크래핑 결과를 디비에 밀어넣기\n",
    "for item in results:\n",
    "    query=\"\"\"\n",
    "    INSERT INTO movies\n",
    "    VALUES({id},{name},{url})\n",
    "    ;\n",
    "    \"\"\".format(id=item[0],name=item[1],url=item[2])\n",
    "    pd.read_sql(query,db)"
   ]
  },
  {
   "cell_type": "code",
   "execution_count": null,
   "metadata": {},
   "outputs": [],
   "source": [
    "query = \"\"\"\n",
    "SELECT sum(Price)\n",
    "FROM\n",
    "    Products;\n",
    "\"\"\"\n",
    "pd.read_sql(query,db)"
   ]
  },
  {
   "cell_type": "code",
   "execution_count": null,
   "metadata": {},
   "outputs": [],
   "source": [
    "\n",
    "query = \"\"\"\n",
    "SELECT *\n",
    "FROM\n",
    "    Orders\n",
    ";\n",
    "\"\"\"\n",
    "orders_df = pd.read_sql(query, db)\n",
    "orders_df.head()"
   ]
  },
  {
   "cell_type": "code",
   "execution_count": null,
   "metadata": {},
   "outputs": [],
   "source": [
    "date_group = orders_df.groupby(\"OrderDate\")"
   ]
  },
  {
   "cell_type": "code",
   "execution_count": null,
   "metadata": {},
   "outputs": [],
   "source": [
    "date_group.get_group(\"1996-07-08\")"
   ]
  },
  {
   "cell_type": "code",
   "execution_count": null,
   "metadata": {},
   "outputs": [],
   "source": [
    "orders_df[\"OrderDate\"].unique()"
   ]
  },
  {
   "cell_type": "code",
   "execution_count": null,
   "metadata": {},
   "outputs": [],
   "source": [
    "\n",
    "daily_order_count = pd.DataFrame([\n",
    "    {\n",
    "        \"OrderDate\":OrderDate,\n",
    "        \"Count\": len(date_group.get_group(OrderDate))\n",
    "    } for OrderDate in orders_df[\"OrderDate\"].unique()\n",
    "    \n",
    "])\n",
    "len(daily_order_count)"
   ]
  },
  {
   "cell_type": "code",
   "execution_count": null,
   "metadata": {},
   "outputs": [],
   "source": [
    "query = \"\"\"\n",
    "SELECT OrderDate, count(*) \"Count\"\n",
    "FROM\n",
    "    Orders\n",
    "    GROUP BY\n",
    "        OrderDate\n",
    ";\n",
    "\"\"\"\n",
    "\n",
    "pd.read_sql(query,db).head()"
   ]
  },
  {
   "cell_type": "code",
   "execution_count": null,
   "metadata": {},
   "outputs": [],
   "source": []
  },
  {
   "cell_type": "code",
   "execution_count": null,
   "metadata": {},
   "outputs": [],
   "source": []
  },
  {
   "cell_type": "code",
   "execution_count": null,
   "metadata": {},
   "outputs": [],
   "source": []
  },
  {
   "cell_type": "code",
   "execution_count": null,
   "metadata": {},
   "outputs": [],
   "source": []
  },
  {
   "cell_type": "code",
   "execution_count": null,
   "metadata": {},
   "outputs": [],
   "source": []
  }
 ],
 "metadata": {
  "kernelspec": {
   "display_name": "Python 3",
   "language": "python",
   "name": "python3"
  },
  "language_info": {
   "codemirror_mode": {
    "name": "ipython",
    "version": 3
   },
   "file_extension": ".py",
   "mimetype": "text/x-python",
   "name": "python",
   "nbconvert_exporter": "python",
   "pygments_lexer": "ipython3",
   "version": "3.7.1"
  }
 },
 "nbformat": 4,
 "nbformat_minor": 2
}
