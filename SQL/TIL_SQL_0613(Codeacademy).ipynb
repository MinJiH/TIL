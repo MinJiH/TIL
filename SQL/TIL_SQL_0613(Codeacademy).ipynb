{
 "cells": [
  {
   "cell_type": "markdown",
   "metadata": {},
   "source": [
    "# review_basic"
   ]
  },
  {
   "cell_type": "markdown",
   "metadata": {},
   "source": [
    "CREATE TABLE celebs (id INTEGER PRIMARY KEY,\n",
    "                     name TEXT UNIQUE,\n",
    "                     date_of_birth TEXT NOT NULL,\n",
    "                     date_of_death TEXT DEFAULT'Not applicable');"
   ]
  },
  {
   "cell_type": "markdown",
   "metadata": {},
   "source": [
    "CREATE TABLE friends (id INTEGER,name TEXT,birthday DATE)\n",
    "INSERT INTO friends (id,name,birthday) VALUES (1,\"Ororo Munroe\", \"1940-05-30\");\n",
    "SELECT * FROM friends;\n",
    "INSERT INTO friends (id,name,birthday) VALUES ('2','HANS','1990-05-21');\n",
    "INSERT INTO friends (id,name,birthday) VALUES\n",
    "(\"3\",'SALLY',\"2020-07-25\")\n",
    "SELECT * FROM friends;\n",
    "UPDATE friends SET name =\"Storm\" WHERE id = 1\n",
    "ALTER TABLE friends\n",
    "ADD COLUMN email TEXT\n",
    "UPDATE friends SET email =\"storm@codecademy.com\" WHERE id = 1\n",
    "DELETE FROM friends WHERE id = 1\n",
    "SELECT * FROM friends;"
   ]
  },
  {
   "cell_type": "markdown",
   "metadata": {},
   "source": [
    "'as' : as is a keyword in sql that allows you to rename a column or table using an alias. the new name can be anything you want as long as you put it inside of single quotes.\n",
    "\n",
    "SELECT name AS 'titles'\n",
    "FROM movies;"
   ]
  },
  {
   "cell_type": "markdown",
   "metadata": {},
   "source": [
    "'distinct' : when we are examing data in a table, it can be helpful to know what distinct values exist in a particular column.\n",
    "distinct is used to return unique values in the output. it filters out all duplicate values in the specified columns.\n",
    "\n",
    "SELECT DISTINCT tool FROM inventory;"
   ]
  },
  {
   "cell_type": "markdown",
   "metadata": {},
   "source": [
    "'WHERE': We can restrict our query results using the where cluase in order to obtain only the information we want.\n",
    "\n",
    "following this format, the statement below filters the result set to only include top rated movies\n",
    "\n",
    "SELECT * FROM movies WHERE imdb_rating >8;"
   ]
  },
  {
   "cell_type": "markdown",
   "metadata": {},
   "source": [
    "'LIKE'-1: can be a useful operator when you want to compare similar values.\n",
    "the movies table contains two films with similar titles, ‘Se7en’ and ‘Seven'\n",
    "\n",
    "'LIKE'-2 : the percentage sign '%' is another wild card character that can be used with LIKE.\n",
    "this statement below filters the result set to only include movies with names that begins with the letter'a':"
   ]
  },
  {
   "cell_type": "markdown",
   "metadata": {},
   "source": [
    "'is null':\n",
    "by this point of the lesson, you might have noticed that there are a few missing values in the movie table. more often than not, the data you encouter will have missing values.\n",
    "\n",
    "unknown values are indicate by null.\n",
    "\n",
    "it is not possible to test for null values with comparison operators, such as = and !=.\n",
    "\n",
    "instead, we will have to use these operators:\n",
    "is null\n",
    "is not null\n"
   ]
  },
  {
   "cell_type": "markdown",
   "metadata": {},
   "source": [
    "between:\n",
    "between operator is used in a where clause to filter the result set within a certain range.\n",
    "it accepts two values that are either numbers, text of dates."
   ]
  },
  {
   "cell_type": "markdown",
   "metadata": {},
   "source": [
    "order by:\n",
    "it is often useful to list the date in our result set in a particular order.\n",
    "we can sort the results using order by, either alphabetically or numerically.\n",
    "sortign the results often makes the data more useful and easier to analyze."
   ]
  },
  {
   "cell_type": "markdown",
   "metadata": {},
   "source": [
    "limit:\n",
    "it becomes importatn to cap the number of rows in the result.\n",
    "limit is a clause that lets you specify the maximum number of rows the results set will have. this saves space on our screen and makes our queries run faster.\n"
   ]
  },
  {
   "cell_type": "markdown",
   "metadata": {},
   "source": [
    "case:\n",
    "a case statement allows us to create diffrent outputs(usually in the select statement).\n",
    "it is sql's way of handling if then logic.\n",
    "\n",
    "- if the rating is above 8, then it is fantastic\n",
    "- if the rating is above 6, then it is poorly received\n",
    "- else, avoid at all costs.\n"
   ]
  },
  {
   "cell_type": "code",
   "execution_count": null,
   "metadata": {},
   "outputs": [],
   "source": []
  },
  {
   "cell_type": "code",
   "execution_count": null,
   "metadata": {},
   "outputs": [],
   "source": []
  },
  {
   "cell_type": "code",
   "execution_count": null,
   "metadata": {},
   "outputs": [],
   "source": []
  },
  {
   "cell_type": "code",
   "execution_count": null,
   "metadata": {},
   "outputs": [],
   "source": []
  }
 ],
 "metadata": {
  "kernelspec": {
   "display_name": "Python 3",
   "language": "python",
   "name": "python3"
  },
  "language_info": {
   "codemirror_mode": {
    "name": "ipython",
    "version": 3
   },
   "file_extension": ".py",
   "mimetype": "text/x-python",
   "name": "python",
   "nbconvert_exporter": "python",
   "pygments_lexer": "ipython3",
   "version": "3.7.6"
  }
 },
 "nbformat": 4,
 "nbformat_minor": 4
}
