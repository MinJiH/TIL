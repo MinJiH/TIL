{
 "cells": [
  {
   "cell_type": "markdown",
   "metadata": {},
   "source": [
    "# SQL"
   ]
  },
  {
   "cell_type": "markdown",
   "metadata": {},
   "source": [
    "DATA-all the information can be seend by the computer\n",
    "Data would be useable after processing the data.\n",
    "Database is for all the sustemized data, which is just the perception.\n",
    "DBMS is to dealing with systemizing the data means can do database such as sap,oracle,erp,mysql,mongodb,mariadb.\n",
    "DATA base'features\n",
    "why should the database be accumulated via DB?-minimalizing the duplicate and to do the safety\n",
    "and enhancement of function also maintenenance could be better\n",
    "INTEGRETY\n",
    "for example, we got two files which have same contents & purpose but the location. but it's going to apply the same change to those. in case of using DB, there is no need to enter those files for the change.\n",
    "SAFETY\n",
    "for the safety, it can be limit for unknown user to access to the file but not save.any options, you can customize that.\n",
    "the difference with file system and database\n",
    "1.self-technicality\n",
    "in case of file system, operating system sould be in need for access & revisie &save the file.\n",
    "but DB, there is no need.\n",
    "\n",
    "\n",
    "SQL is the programming language for managing the data\n",
    "SQL is consist of definition, delete, changing the language.\n",
    "\n"
   ]
  },
  {
   "cell_type": "markdown",
   "metadata": {},
   "source": [
    "1) access to the SQLite\n",
    "2) creating the file(.open #file's name.db)\n",
    "3) .databeses (you can see whether the file created or not)\n",
    "4) create table( id, type of language ):\n",
    "5) . table ( you can see the name of table)\n",
    "6) . schema (you can see the status of table)\n",
    "7) . DROP TABLE # the name of table supposed to be deleted\n",
    "8) . ALTER TABLE #the name of table supposed to be revised RENAME TO # the name of table ;\n",
    "9) . ALTER TABLE #the name of table \n",
    "     ADD COLUME #name type\n",
    "    \n",
    "10) . ALTER TABLE #the name of table\n",
    "      RENAME COLUMN #name TO #name\n",
    "11) INSET INTO #the name of table ( key)\n",
    "    VALUES(value)\n",
    "12) SELECT *from #the name ot table\n"
   ]
  },
  {
   "cell_type": "markdown",
   "metadata": {},
   "source": [
    "# Assignment"
   ]
  },
  {
   "cell_type": "markdown",
   "metadata": {},
   "source": [
    ".open housekeeping-book.db\n",
    "sqlite> create table (\n",
    "   ...> date,\n",
    "   ...> );\n",
    "Error: near \"(\": syntax error\n",
    "sqlite> .databases\n",
    "main: C:\\Users\\minji hong\\Documents\\dses\\sqlite-tools-win32-x86-3260000\\housekeeping-book.db\n",
    "sqlite> .tables\n",
    "sqlite> CREATE TABLE minji(\n",
    "   ...> date INTEGER,\n",
    "   ...> description TEXT,\n",
    "   ...> category TEXT,\n",
    "   ...> values INTEGER\n",
    "   ...> );\n",
    "Error: near \"values\": syntax error\n",
    "sqlite> .tables\n",
    "sqlite> .table\n",
    "sqlite> CREATE TABLE minji(\n",
    "   ...> date integer,\n",
    "   ...> description text,\n",
    "   ...> category text,\n",
    "   ...> values integer,\n",
    "   ...> );\n",
    "Error: near \"values\": syntax error\n",
    "sqlite> CREATE TABLE minji(\n",
    "   ...> date integer,\n",
    "   ...> description text,\n",
    "   ...> category text,\n",
    "   ...> value integer,\n",
    "   ...> );\n",
    "Error: near \")\": syntax error\n",
    "sqlite> CREATE TABLE minji (\n",
    "   ...> date integer,\n",
    "   ...> description text,\n",
    "   ...> category text,\n",
    "   ...> value integer);\n",
    "sqlite> .table\n",
    "minji\n",
    "sqlite> .schema\n",
    "CREATE TABLE minji (\n",
    "date integer,\n",
    "description text,\n",
    "category text,\n",
    "value integer);\n",
    "sqlite> INSERT INTO minji (\n",
    "   ...> date,description,category,value)\n",
    "   ...> VALUES(190101,\"taxi\",\"transport\",10000),\n",
    "   ...> (190102,\"subway\",\"transport\",3000),\n",
    "   ...> (190103,\"airport\",\"transport\",200000),\n",
    "   ...> (190104,\"lotteria\",\"eating\",15000);\n",
    "sqlite> SELECT *from minji;\\\n",
    "   ...> );\n",
    "190101|taxi|transport|10000\n",
    "190102|subway|transport|3000\n",
    "190103|airport|transport|200000\n",
    "190104|lotteria|eating|15000\n",
    "Error: unrecognized token: \"\\\"\n",
    "sqlite> SELECT date,description from minji;\n",
    "190101|taxi\n",
    "190102|subway\n",
    "190103|airport\n",
    "190104|lotteria"
   ]
  },
  {
   "cell_type": "code",
   "execution_count": null,
   "metadata": {},
   "outputs": [],
   "source": []
  },
  {
   "cell_type": "code",
   "execution_count": null,
   "metadata": {},
   "outputs": [],
   "source": []
  },
  {
   "cell_type": "code",
   "execution_count": null,
   "metadata": {},
   "outputs": [],
   "source": []
  },
  {
   "cell_type": "code",
   "execution_count": null,
   "metadata": {},
   "outputs": [],
   "source": []
  },
  {
   "cell_type": "code",
   "execution_count": null,
   "metadata": {},
   "outputs": [],
   "source": []
  },
  {
   "cell_type": "code",
   "execution_count": null,
   "metadata": {},
   "outputs": [],
   "source": []
  },
  {
   "cell_type": "code",
   "execution_count": null,
   "metadata": {},
   "outputs": [],
   "source": []
  },
  {
   "cell_type": "code",
   "execution_count": null,
   "metadata": {},
   "outputs": [],
   "source": []
  },
  {
   "cell_type": "code",
   "execution_count": null,
   "metadata": {},
   "outputs": [],
   "source": []
  },
  {
   "cell_type": "code",
   "execution_count": null,
   "metadata": {},
   "outputs": [],
   "source": []
  }
 ],
 "metadata": {
  "kernelspec": {
   "display_name": "Python 3",
   "language": "python",
   "name": "python3"
  },
  "language_info": {
   "codemirror_mode": {
    "name": "ipython",
    "version": 3
   },
   "file_extension": ".py",
   "mimetype": "text/x-python",
   "name": "python",
   "nbconvert_exporter": "python",
   "pygments_lexer": "ipython3",
   "version": "3.7.1"
  }
 },
 "nbformat": 4,
 "nbformat_minor": 2
}
