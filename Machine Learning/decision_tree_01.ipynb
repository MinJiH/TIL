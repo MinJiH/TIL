{
 "cells": [
  {
   "cell_type": "markdown",
   "metadata": {},
   "source": [
    "# Decision Tree\n",
    "\n",
    "-\t어떤 질문이 가장 많은 해답을 줄 것 인가?( attribute -> y)\n",
    "-\t(slitting point) 결국 어떤 질문은 답의 모호성을 줄여 줄 것인가?\n"
   ]
  },
  {
   "cell_type": "markdown",
   "metadata": {},
   "source": [
    "# the concept of entropy\n",
    "\n",
    "-\t엔트로피는 목적 달성을 위한 경우의 수를 정량적으로 표현하는 수치 -> 작을수록 경우의 수가 적음\n",
    "-\tHigher entropy ->higher uncertainty\n",
    "-\tlower entropy -> lower uncertainity\n",
    "-\tentropy 가 작을수록 얻을 수 있는 정보들이 많다(the information could be more certain)\n"
   ]
  },
  {
   "cell_type": "markdown",
   "metadata": {},
   "source": [
    "if the value could be various, probabiliy of each value could be "
   ]
  },
  {
   "cell_type": "markdown",
   "metadata": {},
   "source": [
    "# the algorithme of growing decision tree`\n",
    "\n",
    "* decision tree를 잘 성장 시키는 알고리즘이 필요\n",
    "* 어떻게 하면 가장 잘 분기 (branch)를 만들 수 있는가\n",
    "* 데이터의 어트리 뷰트를 기준으로 분기를 생성\n",
    "* 어떤 어트리뷰트를 기준이면 가장 엔트로피가 작은가\n",
    "* 하나를 자른 후에 그 다음은 어떻게 될 것 인가?\n",
    "\n",
    "( for selecting attribute, we can use 'gini','broad entropy'\n"
   ]
  },
  {
   "cell_type": "markdown",
   "metadata": {},
   "source": [
    "* - decision tree는 재귀적으로 생김\n",
    "* - 대상 라벨에 대해 어떤 어트리뷰트가 더 확실한 정보를 제공하고 있는가? 를 branch attribute 로 결정\n",
    "* - 확실한 정보의 선택 기준은 알고리즘 별로 차이가 있음\n",
    "* - tree 생성 후 pruning 을 통해 tree generalization 을 실행\n",
    "* -일반적으로 효율을 높이기 위해 binary tree 를 사용 함\n"
   ]
  },
  {
   "cell_type": "markdown",
   "metadata": {},
   "source": [
    "# algorithms of decision tree\n",
    "- there are two types of decision tree algorithm\n",
    "- the method for attribute branch could be diffrent by algorithm\n",
    "- ID3 -> C4.5(Ross Quinlan)_entropy,*CART_gini\n",
    "- there is 'regression tree' for numeric values."
   ]
  },
  {
   "cell_type": "markdown",
   "metadata": {},
   "source": [
    "# ID3 & Information gain\n",
    "\n",
    "using ID3, information gain, the main topic for today is how to connect those two concepts to decision tree\n",
    "\n"
   ]
  },
  {
   "cell_type": "markdown",
   "metadata": {},
   "source": [
    "-Information gain(how to decide attribute)\n",
    "splitting branch entering the function of entropy\n",
    "information gain could be the parameter analysing impurity\n",
    "total entropy - entropy by attribute could be method for calculating information gain."
   ]
  },
  {
   "cell_type": "code",
   "execution_count": null,
   "metadata": {},
   "outputs": [],
   "source": [
    "import pandas as pd\n",
    "import numpy as np"
   ]
  },
  {
   "cell_type": "code",
   "execution_count": null,
   "metadata": {},
   "outputs": [],
   "source": [
    "pd_data=pd.read_csv(\"https://raw.githubusercontent.com/AugustLONG/ML01/master/01decisiontree/AllElectronics.csv\")\n",
    "pd_data.drop(\"RID\",axis=1)\n",
    "pd_data"
   ]
  },
  {
   "cell_type": "code",
   "execution_count": null,
   "metadata": {},
   "outputs": [],
   "source": [
    "buy = pd_data.loc[pd_data['class_buys_compter']= =\"yes\"]\n",
    "not_buy = pd_data.loc[pd_data['class_buys_computer' ]= =\"no\"]"
   ]
  },
  {
   "cell_type": "code",
   "execution_count": null,
   "metadata": {},
   "outputs": [],
   "source": [
    "x = np.array([len(buy)/len(pd_data),len(not_buy)/len(pd_data)])\n",
    "y= np.log2(x)\n",
    "\n",
    "info_all = - sum( x*y)\n",
    "info_all"
   ]
  },
  {
   "cell_type": "code",
   "execution_count": null,
   "metadata": {},
   "outputs": [],
   "source": [
    "def get_info(df):\n",
    "    buy= df.loc[df['class_buys_computer']= = \"yes\"]\n",
    "    not_buy = df.loc[df['class_buys_computer']=='no']\n",
    "    x = np.array([len(buy)/len(df),len(not_buy)/len(df)])\n",
    "    y= np.log2(x[x!=0]*y)\n",
    "    \n",
    "    info_all = -sum(x[x!=0]* y)\n",
    "    return info_all\n",
    "    "
   ]
  },
  {
   "cell_type": "code",
   "execution_count": null,
   "metadata": {},
   "outputs": [],
   "source": [
    "get_info(pd_data)"
   ]
  },
  {
   "cell_type": "code",
   "execution_count": null,
   "metadata": {},
   "outputs": [],
   "source": []
  },
  {
   "cell_type": "code",
   "execution_count": null,
   "metadata": {},
   "outputs": [],
   "source": []
  },
  {
   "cell_type": "code",
   "execution_count": null,
   "metadata": {},
   "outputs": [],
   "source": []
  },
  {
   "cell_type": "code",
   "execution_count": null,
   "metadata": {},
   "outputs": [],
   "source": []
  },
  {
   "cell_type": "code",
   "execution_count": null,
   "metadata": {},
   "outputs": [],
   "source": []
  },
  {
   "cell_type": "code",
   "execution_count": null,
   "metadata": {},
   "outputs": [],
   "source": []
  },
  {
   "cell_type": "code",
   "execution_count": null,
   "metadata": {},
   "outputs": [],
   "source": []
  },
  {
   "cell_type": "code",
   "execution_count": null,
   "metadata": {},
   "outputs": [],
   "source": []
  },
  {
   "cell_type": "code",
   "execution_count": null,
   "metadata": {},
   "outputs": [],
   "source": []
  },
  {
   "cell_type": "code",
   "execution_count": null,
   "metadata": {},
   "outputs": [],
   "source": []
  },
  {
   "cell_type": "code",
   "execution_count": null,
   "metadata": {},
   "outputs": [],
   "source": []
  },
  {
   "cell_type": "code",
   "execution_count": null,
   "metadata": {},
   "outputs": [],
   "source": []
  },
  {
   "cell_type": "code",
   "execution_count": null,
   "metadata": {},
   "outputs": [],
   "source": []
  },
  {
   "cell_type": "code",
   "execution_count": null,
   "metadata": {},
   "outputs": [],
   "source": [
    "\n"
   ]
  }
 ],
 "metadata": {
  "kernelspec": {
   "display_name": "Python 3",
   "language": "python",
   "name": "python3"
  },
  "language_info": {
   "codemirror_mode": {
    "name": "ipython",
    "version": 3
   },
   "file_extension": ".py",
   "mimetype": "text/x-python",
   "name": "python",
   "nbconvert_exporter": "python",
   "pygments_lexer": "ipython3",
   "version": "3.7.3"
  }
 },
 "nbformat": 4,
 "nbformat_minor": 2
}
