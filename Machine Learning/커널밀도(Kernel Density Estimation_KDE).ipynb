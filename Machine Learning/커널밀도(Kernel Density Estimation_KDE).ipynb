{
 "cells": [
  {
   "cell_type": "markdown",
   "metadata": {},
   "source": [
    "**Central limit theorem** \n",
    "* Central limit theorem(중심극한정리) : 표본크기가 커질수록 표본분포가 정규분포를 따르는 경향표본 샘플이 많아 지면 많아 질수록 표본 평균의 분포가 정규분포를 따른다._ 수리 통계학에서 굉장히 중요한 개념이나 데이터 과학에서는 그렇게 중요하지는 않다. \n",
    "\n"
   ]
  },
  {
   "cell_type": "markdown",
   "metadata": {},
   "source": [
    "**Why do i start studying 'Kernel Density'? \n",
    "\n",
    "*flow of being conscious.....\n",
    "\n",
    "* 1. 중심 극한 정리을 증명하는 과정에서 메플롯라이브러리가 아닌 시본을 사용하여 데이터 분포를 시각화 하려고 함. -> what is seaborn?\n",
    "\n",
    "* 2.시본은 맷플로라이브러리를 기반으로 다양한 색상 테마와 통계용 차트 등의 기능을 추가한 시각화 패키지 이다.\n",
    "* 3.기본적인 시각화 기능은 맷플로라이브러리 패키지에 의존하며,  통계 기능은 스탯모델스 패키지에 의존한다. \n",
    "* 4.시본을 임포트 하면 색상 등을 맷플롯라이브러리에서 제공하는 기본 스타일이 아닌 시본에서 지정한 스타일로 바뀐다. 따라서 동일한 맷플로라이브러리 명령을 수행해도 시본을 임포트 한 것과 하지 않은 플롯은 모양이 다르다.\n",
    "\n",
    "\n"
   ]
  },
  {
   "cell_type": "markdown",
   "metadata": {},
   "source": [
    "**-> so now i see what seaborn is.. then what's is 'displot?\n",
    "**-> in order to understand 'displot'.. i have to understand what's consist of          PDF plot-‘rugplot’, ‘kdeplot’, ‘distplot’ \n"
   ]
  },
  {
   "cell_type": "markdown",
   "metadata": {},
   "source": [
    "# 1차원 분포 플롯\n",
    "\n",
    "*: 1차원 데이터는 실수 값이면 히스토그램과 같은 실수 분포 플롯으로 나타내고 카데고리 값이면 카운트 플롯으로 나타낸다.\n",
    "\n",
    "**-1차원 실수 분포 플롯 **\n",
    "*: 실수 분포 플롯은 자료의 분포를 묘사하기 위한 것으로 맷플롯 라이브러리의 단순한 히스토그램과 달키 *커널밀도 및 **러그 표시 기능 등 다차원 복합 분포 기능 등을 제공한다.\n",
    "1차원 실수 분포 플롯에는 ‘rugplot’, ‘kdeplot’, ‘distplot’ \n"
   ]
  },
  {
   "cell_type": "markdown",
   "metadata": {},
   "source": [
    "** *커널밀도(Kernel Density Estimation_KDE) **\n",
    "\n",
    "*#KDE( 커널 밀도 추정)에 대해 알아 보기 위해 _ 1. 히스토그램:특징 2. 커널밀도(Kernel Density Estimation_KDE): 일반화 하는 방법, 장점 3. ‘좋은’ 커널 선택: 데이터의 주요 특징을 뽑기 의 흐름대로 진행."
   ]
  },
  {
   "cell_type": "markdown",
   "metadata": {},
   "source": [
    "**#히스토 그램**\n",
    "\n",
    "**-밀도 추정이란?( Density Estimation)**\n",
    "* 데이터 라는 것은, 어떤 변수가 가질 수 있는 다양한 값 중 하나를 가져서 구체화 된 거라고 볼 수 있다.\n",
    "* 각각의 값을 가진 데이터가 엄청 많을 때, 이 데이터 들의 분포로 부터 특징을 파악해야 한다. 관측된 데이터들의 분포를 보고, 이 데이터의 특성을 파악해 보는 것이 “Density Estimation” 이다!\n",
    "*예를 들어 중간고사를 보고 어떤 성적을 받을 지 예측해 볼 때\n",
    "변수-중간고사 성정\n",
    "데이터- 각 변수들의 실제 관측된 값(0~100점) -> 데이터(중간고사 성적)을 토대로 어떤 학점(변수)가 나올 지 예측해 볼 수 있다. 밀도 측정은 데이터로 변수가 가질 수 있는 모든 값의 밀도(확률)을 추정하는 것이다.\n",
    "\n",
    "**-비모수(Non-Parametric) 란?**\n",
    "* Parametric은 미리 확률 밀도 함수를 정해 놓고 데이터들로부터 모델의 파라미터만 추정하는 방식이다. 예를 들면, 시험성적이 ‘정규 분포’를 따른다고 가정하고, 정규 분포 확률 밀도 함수에 간단히 넣기만 하면 된다.\n",
    "* 확률 밀도 함수의 인풋인 평균, 분산만 구하면 데이터가 어떤 것이다를 쉽게 예측 가능합!\n",
    " *그러나 현실에서 데이터가 어떤 함수의 형태를 나타내지만, 정규 분포를 띈다는 식의 데이터 모델을 미리 알 수 없다. 결국, 순수하게 관측된 데이터 만으로 확률 밀도 함수를 추정해 낼 수 있어야 한다. 이것이 바로 비모수(Non-Parametric) 이다!\n",
    "\n",
    "**-다시 히스토그램으로 돌아가면..**\n",
    "* 1. 데이터를 똑 같은 수의 # Bin(같은 간격)으로 쪼갠다. (bingwidth)\n",
    "* 2. 이 Bin 안에서 또 블록으로 쪼갠다. (bin end point)\n",
    "* 3. 즉, 히스토그램을 만들 때 아래의 두가지를 고려해 주면 된다.\n",
    "     * 1) bin size =binwidth\n",
    "     * 2) Bin의 끝나는 point\n",
    "* 4. 예\n",
    "-> 예시가 이해가 안됨… \n",
    "     (출처: http://www.mvstat.net/tduong/research/seminars/seminar-2001-05/)\n",
    "* 5. 이 예를 통해 알 수 있는 히스토그램의 특징 이자 단점 3 가지\n",
    " * 1) 스무스 하지 않다 -> 빈의 경계에서 불연속성이 나타난다.\n",
    " * 2) 빈의 시작/ 끝 포인트에 따라 달라진다\n",
    " * 3) 빈의 크기(빈의 넓이)에 따라 달라 진다.\n",
    " * + 하이 디멘션 데이터는 메모리 문제도 있음.\n",
    "\n"
   ]
  },
  {
   "cell_type": "code",
   "execution_count": null,
   "metadata": {},
   "outputs": [],
   "source": []
  },
  {
   "cell_type": "code",
   "execution_count": null,
   "metadata": {},
   "outputs": [],
   "source": []
  },
  {
   "cell_type": "code",
   "execution_count": null,
   "metadata": {},
   "outputs": [],
   "source": []
  },
  {
   "cell_type": "code",
   "execution_count": null,
   "metadata": {},
   "outputs": [],
   "source": []
  },
  {
   "cell_type": "code",
   "execution_count": null,
   "metadata": {},
   "outputs": [],
   "source": []
  },
  {
   "cell_type": "code",
   "execution_count": null,
   "metadata": {},
   "outputs": [],
   "source": []
  },
  {
   "cell_type": "code",
   "execution_count": null,
   "metadata": {},
   "outputs": [],
   "source": []
  },
  {
   "cell_type": "code",
   "execution_count": null,
   "metadata": {},
   "outputs": [],
   "source": []
  },
  {
   "cell_type": "code",
   "execution_count": null,
   "metadata": {},
   "outputs": [],
   "source": []
  },
  {
   "cell_type": "code",
   "execution_count": null,
   "metadata": {},
   "outputs": [],
   "source": []
  },
  {
   "cell_type": "code",
   "execution_count": null,
   "metadata": {},
   "outputs": [],
   "source": []
  },
  {
   "cell_type": "code",
   "execution_count": null,
   "metadata": {},
   "outputs": [],
   "source": []
  },
  {
   "cell_type": "code",
   "execution_count": null,
   "metadata": {},
   "outputs": [],
   "source": []
  },
  {
   "cell_type": "code",
   "execution_count": null,
   "metadata": {},
   "outputs": [],
   "source": []
  },
  {
   "cell_type": "code",
   "execution_count": null,
   "metadata": {},
   "outputs": [],
   "source": []
  },
  {
   "cell_type": "code",
   "execution_count": null,
   "metadata": {},
   "outputs": [],
   "source": []
  },
  {
   "cell_type": "code",
   "execution_count": null,
   "metadata": {},
   "outputs": [],
   "source": []
  },
  {
   "cell_type": "code",
   "execution_count": null,
   "metadata": {},
   "outputs": [],
   "source": []
  },
  {
   "cell_type": "code",
   "execution_count": null,
   "metadata": {},
   "outputs": [],
   "source": []
  }
 ],
 "metadata": {
  "kernelspec": {
   "display_name": "Python 3",
   "language": "python",
   "name": "python3"
  },
  "language_info": {
   "codemirror_mode": {
    "name": "ipython",
    "version": 3
   },
   "file_extension": ".py",
   "mimetype": "text/x-python",
   "name": "python",
   "nbconvert_exporter": "python",
   "pygments_lexer": "ipython3",
   "version": "3.7.1"
  }
 },
 "nbformat": 4,
 "nbformat_minor": 2
}
