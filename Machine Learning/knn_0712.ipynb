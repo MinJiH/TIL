{
 "cells": [
  {
   "cell_type": "markdown",
   "metadata": {},
   "source": [
    "목표: tsne를 이용하여 회사 데이터의 예측 모델을 만든다\n",
    "\n",
    "tsne(두 데이터 포인트 사이의 유클리디안 거리를 similarities로 변환 하는 것 부터 시작)를 이해하는 데 필요한 수학 지식\n",
    "\n",
    "1. 유클리디안 거리 -> 이해 완료\n",
    "2. 조건부 확률(두 데이터 포인트 사이의 유클리디안 거리를 similarities로 변화 하는 방법)\n",
    "3. 가우시안 분포(조건부 확률)\n",
    "    연속 확률 변수에 대한 확률 밀도 함수\n",
    "    적분합\n",
    "    이산 확률 변수의 확률 질량 함수\n",
    "    soft max  함수\n",
    "    \n",
    "k\n",
    "\n",
    "분류 알고리즘\n",
    "1. 분류할 관측치 x를 선택\n",
    "2. x로부터 인접한 k개의 학습 데이터를 탐색\n",
    "3. 탐색된 k개 학습 데이터의 majority class c를 정의\n",
    "4. c를 x의 분류 결과로 반환\n",
    "\n",
    "예측 알고리즘\n",
    "1. 예측할 관측치 x를 선택\n",
    "2. x로부터 인접한 k개의 학습 데이터를 탐색\n",
    "3. 탐색된 k개 학습 데이터의 평균을 x의 예측 값으로 반환\n",
    "\n",
    "knn 하이퍼파라미터(결정해야할 사항)\n",
    "\n",
    "1. k\n",
    "인접한 학습 데이터를 몇 개 까지 탐색할 것인가?\n",
    "1-1 k선택 방법(트레인 데이터와 테스트 데이어의 에러값이 최소인 값)\n",
    "일정 범위 내에서 k를 조정 하여 가장 좋은 예측 결과를 보이는 k 값을 선정 함\n",
    "분류 모델\n",
    "예측 모델\n",
    "\n",
    "오버 피팅: k가 매우 작을 경우, 데이터의 지역적 특성을 지나치게 반영함\n",
    "언더 피팅: 다른 범주의 개체를 너무 만ㄴㅎ이 포함 하여 오분류할 위험\n",
    "\n",
    "2.distance measures(1-유사도_가까움)\n",
    "데이터 간 거리는 어떻게 측정할 것인가?\n",
    "\n",
    "2-1 다양한 거리 측도(distance measure)존재\n",
    "    유클리디안 디스턴스\n",
    "    맨하튼 디스턴스(택시 캡 디스턴스)\n",
    "    마할로노비스 디스턴스-타원(공분산의 역행렬= 분산이 커지면 작은 값을 곱해지고 분산이 작아지면 큰 값을 곱해지는): 거리 뿐만 아니라 상관 관계 까지 고려함\n",
    "    코렐레이션 거리:데이터 간 pearson correlation을 거리 측도로 사용하는 방식으로 데이터 패턴의 유사도를 반영할 수 있음.(시그널,프로파일, 유사성)\n",
    "    spearman rank correlation distance:  코렐레이션에서 등급 까지 고려한것\n",
    "2-2 데이터 내 변수 들이 각각 다른 데이터 범위, 분산 등을 가질 수 있으므로, 데이터 정규화(혹은 표준화)를 통해 이를 맞추는 것이 중요함\n",
    "\n",
    "3.knn의 장점과 한계점\n",
    "3-1 장점\n",
    "데이터 내 노이즈에 영향을 크게 받지 않는다.\n",
    "학습 데이터의 수가 많을 경우 효과 적임\n",
    "3-2 한계점\n",
    "파라미터 k의 값을 설정 해야함\n",
    "어떤 거리 척도가 분석에 적합한 지 불분명 하며, 따라서 데이터의 특성에 맞는 거리 측도를 임의로 선정해야함.\n",
    "새로운 관측치와 각각의 학습 데이터 간 거리를 전부 측정 해야 하므로 계산 시간에 오래 걸리는 단점이 있음.\n",
    "\n",
    "=> 고차원(x의 feature 값이)인 경우, knn은 적합 하지 않음.\n",
    "\n",
    "*weighted 3NN"
   ]
  },
  {
   "cell_type": "markdown",
   "metadata": {},
   "source": [
    "# KNN "
   ]
  },
  {
   "cell_type": "markdown",
   "metadata": {},
   "source": [
    "분류 예측을 위한 모델\n",
    "\n",
    "1. modal based learning\n",
    "선형/비선형 모델\n",
    "의사 결정 나무\n",
    "nueral network\n",
    "support vector machine\n",
    "-> 데이터로부터 모델을 생성하여 분류/ 예측 진행\n",
    "\n",
    "트레이닝 데이터를 가지고 분류/예측 모델\n",
    "새 데이터틑 가지고 분류/예측 모델에 적용\n",
    "\n",
    "2.instance-based learning\n",
    "KNN\n",
    "Locally weighted regression\n",
    "-> 별도의 모델 생성 없이 인접 데이터를 분류/예측에 사용\n",
    "\n",
    "모델이 없이\n",
    "트레이닝 데이터의 패턴을 보고\n",
    "그 패턴이 어디에 가까운지 보고 분류/ 예측 하는 기법\n"
   ]
  },
  {
   "cell_type": "markdown",
   "metadata": {},
   "source": [
    "1-nearest neighbor\n",
    "\n",
    "새로운 데이터와 가장 가까운 데이터 1개를 정의\n",
    "\n"
   ]
  },
  {
   "cell_type": "markdown",
   "metadata": {},
   "source": [
    "KNN 알고리즘의 구분 및 특징\n",
    "1. instance base learning\n",
    "각각의 관측치(instance) 만을 이용하여 새로운 데이터에 대한 예측을 진행\n",
    "2. memory-based learning\n",
    "모든 학습 데이터를 메모리에 저장한 후, 이를 바탕으로 예측 시고\n",
    "3.lazy learning\n",
    "모델을 별도로 학습하지 않는 테스팅 데이터가 들어와야 비로서 작동하는 게으른 알고리즘"
   ]
  },
  {
   "cell_type": "code",
   "execution_count": null,
   "metadata": {},
   "outputs": [],
   "source": []
  },
  {
   "cell_type": "code",
   "execution_count": null,
   "metadata": {},
   "outputs": [],
   "source": []
  },
  {
   "cell_type": "code",
   "execution_count": null,
   "metadata": {},
   "outputs": [],
   "source": []
  },
  {
   "cell_type": "code",
   "execution_count": null,
   "metadata": {},
   "outputs": [],
   "source": []
  },
  {
   "cell_type": "code",
   "execution_count": null,
   "metadata": {},
   "outputs": [],
   "source": []
  },
  {
   "cell_type": "code",
   "execution_count": null,
   "metadata": {},
   "outputs": [],
   "source": []
  },
  {
   "cell_type": "code",
   "execution_count": null,
   "metadata": {},
   "outputs": [],
   "source": []
  }
 ],
 "metadata": {
  "kernelspec": {
   "display_name": "Python 3",
   "language": "python",
   "name": "python3"
  },
  "language_info": {
   "codemirror_mode": {
    "name": "ipython",
    "version": 3
   },
   "file_extension": ".py",
   "mimetype": "text/x-python",
   "name": "python",
   "nbconvert_exporter": "python",
   "pygments_lexer": "ipython3",
   "version": "3.7.6"
  }
 },
 "nbformat": 4,
 "nbformat_minor": 4
}
