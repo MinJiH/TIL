{
 "cells": [
  {
   "cell_type": "markdown",
   "metadata": {},
   "source": [
    "# ada Boost"
   ]
  },
  {
   "cell_type": "markdown",
   "metadata": {},
   "source": [
    "* boost\n",
    "\n",
    "this kind of ensemble but it's not like \"bagging\"\n",
    "processing learning round, creating the model.\n",
    "updating the weight of instance(tuple) by processing each model.\n",
    "creating the model with the instance having high instance weight which is faulted by the pre model.\n",
    "there can be the weight to be created after the learning around.\n",
    "\n",
    "the meta classifier have made of each model.\n",
    "\n",
    "the goal of this is to classfy the data which is not good to be classified.\n",
    "\n",
    "sumation of good model\n",
    "\n",
    "by each learning round, the model can be created.\n",
    "after one round, the faluted date can be asigned to the more weight compared to the others.\n",
    "\n",
    "it's kind of \"boost on\"\n",
    "\n"
   ]
  },
  {
   "cell_type": "markdown",
   "metadata": {},
   "source": [
    "* adaboost\n",
    "\n",
    "adaptive boosting(this boosting will be the most frequent one)\n",
    "by each round, the faulted wieght of intance can be calculated\n",
    "(ex. a-> 0.9 b->0.1_faulted weight)\n",
    "it could be weight up for the faulted instance after rounding.-> resampling by weight.\n",
    "the bigger the summation of instance weight is the less the weight of model could be.\n",
    "the new classifier could be made by changing the input value of the basic classifier\n",
    "in case of \"high-depth tree\", NN is not propriate.\n",
    "\n",
    "-> weak learner(classifier) : high-depth tree_overfitting, NL IS NOT APPROPRIATE FOR ADABOOST\n",
    "\n"
   ]
  },
  {
   "cell_type": "markdown",
   "metadata": {},
   "source": [
    "* from the aspect of math\n",
    "\n",
    "through resampling, it can be to learn the model with faulted instance.\n",
    "error rate could be how i am right\n",
    "constant value\n",
    "nomarlized value could be the sum of error rate.\n",
    "the higher the error rate is the higher the function of this model could be\n",
    "creating the weight of the model\n",
    "the error could be between 0 and 1\n",
    "the bigger the value of error is the bigger the value of weight is\n",
    "the small the value of error is the bigger the function of the model is\n",
    "also, we have to calssify the weight of calssifier from the other.\n",
    "\n",
    "highper parameter\n",
    "lambda\n",
    "the value of weight could be calculated by each model.\n",
    "if we have three models, there will be three weights.\n",
    "\n",
    "많이 틀리는 놈을 고치는 모델이 좋은 모델이다!"
   ]
  },
  {
   "cell_type": "code",
   "execution_count": null,
   "metadata": {},
   "outputs": [],
   "source": []
  },
  {
   "cell_type": "code",
   "execution_count": null,
   "metadata": {},
   "outputs": [],
   "source": []
  },
  {
   "cell_type": "code",
   "execution_count": null,
   "metadata": {},
   "outputs": [],
   "source": []
  },
  {
   "cell_type": "code",
   "execution_count": null,
   "metadata": {},
   "outputs": [],
   "source": []
  },
  {
   "cell_type": "code",
   "execution_count": null,
   "metadata": {},
   "outputs": [],
   "source": []
  },
  {
   "cell_type": "code",
   "execution_count": null,
   "metadata": {},
   "outputs": [],
   "source": []
  },
  {
   "cell_type": "code",
   "execution_count": null,
   "metadata": {},
   "outputs": [],
   "source": []
  },
  {
   "cell_type": "code",
   "execution_count": null,
   "metadata": {},
   "outputs": [],
   "source": []
  },
  {
   "cell_type": "code",
   "execution_count": null,
   "metadata": {},
   "outputs": [],
   "source": []
  },
  {
   "cell_type": "code",
   "execution_count": null,
   "metadata": {},
   "outputs": [],
   "source": []
  },
  {
   "cell_type": "code",
   "execution_count": null,
   "metadata": {},
   "outputs": [],
   "source": []
  },
  {
   "cell_type": "code",
   "execution_count": null,
   "metadata": {},
   "outputs": [],
   "source": []
  },
  {
   "cell_type": "code",
   "execution_count": null,
   "metadata": {},
   "outputs": [],
   "source": []
  },
  {
   "cell_type": "code",
   "execution_count": null,
   "metadata": {},
   "outputs": [],
   "source": []
  },
  {
   "cell_type": "code",
   "execution_count": null,
   "metadata": {},
   "outputs": [],
   "source": []
  },
  {
   "cell_type": "code",
   "execution_count": null,
   "metadata": {},
   "outputs": [],
   "source": []
  },
  {
   "cell_type": "code",
   "execution_count": null,
   "metadata": {},
   "outputs": [],
   "source": []
  },
  {
   "cell_type": "code",
   "execution_count": null,
   "metadata": {},
   "outputs": [],
   "source": []
  },
  {
   "cell_type": "code",
   "execution_count": null,
   "metadata": {},
   "outputs": [],
   "source": []
  },
  {
   "cell_type": "code",
   "execution_count": null,
   "metadata": {},
   "outputs": [],
   "source": []
  }
 ],
 "metadata": {
  "kernelspec": {
   "display_name": "Python 3",
   "language": "python",
   "name": "python3"
  },
  "language_info": {
   "codemirror_mode": {
    "name": "ipython",
    "version": 3
   },
   "file_extension": ".py",
   "mimetype": "text/x-python",
   "name": "python",
   "nbconvert_exporter": "python",
   "pygments_lexer": "ipython3",
   "version": "3.7.3"
  }
 },
 "nbformat": 4,
 "nbformat_minor": 2
}
