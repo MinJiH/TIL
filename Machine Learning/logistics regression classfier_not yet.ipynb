{
 "cells": [
  {
   "cell_type": "markdown",
   "metadata": {},
   "source": [
    "# logistics regression classfier\n",
    "\n",
    "there are the issues which is consist of regression and classification.\n",
    "clustering.\n",
    "\n",
    "\n",
    "\n"
   ]
  },
  {
   "cell_type": "markdown",
   "metadata": {},
   "source": [
    "* logistics regression overview \n",
    "\n",
    "logistics regression is belongs to regression\n",
    "by seeing  two features, the group of data could be decided.\n",
    "the probelm with regression and classification is drawing the line.\n",
    "that line could be 'f(x)' which is the function.\n",
    "the main thing for 'logistics regression' is figuring out the line of the data.\n",
    "\n",
    "* how to make the machine learn?\n",
    "\n",
    "* the problem with the existing approach of \"linear regression\"\n",
    "1. how to interpret with the value over 1 or not less thn 0\n",
    "2. is it possilble to express 1 or 0 precisely?\n",
    "3. there are only two values which is 0 or 1. that means how much the value have impact on the result could be not the same.\n",
    "-> so how to solve that problem is....\"probability\"\n",
    " it is the only way to express how often the happening happens by using 'probability'\n",
    " which is the logistics regression.\n",
    " "
   ]
  },
  {
   "cell_type": "markdown",
   "metadata": {},
   "source": [
    "* sigmoid function\n",
    "\n",
    "let's talk about the probability of classification by using the probability.\n",
    "-> most of the way of classifying could be belong to that way which is the probability.\n",
    "\n",
    "all the probabiltiy could be 0<= P(X) <=1\n",
    "\n",
    "* Odds ratio\n",
    "the ratio between the probability of what happens or what not happens.\n",
    "P(X)/1-P(X)\n",
    "\n",
    "* logit function\n",
    "log odds using the probability of 'Y' in case of 'X'\n",
    "\n",
    "*BUT WHAT WE WANT TO FIURE OUT IS \"THE PROBABILITY\". in case of 'logit function', probability could be the input of that function.\n",
    "-> so we need to reverse \"logit function\"-> that is \" sigmoid(logistics)function\"\n",
    "-> by reversing \"logit function\", the value of result could be \"probability\"\n",
    "-> to sum up, logistic function = reverse of logit function\n",
    "\n",
    "** if we find out the value for \"z which is the type of \"linear regression\", we can figure out the probability for that happening.\n"
   ]
  },
  {
   "cell_type": "markdown",
   "metadata": {},
   "source": [
    "* Partial derivation of cost function\n",
    "\n",
    "in order to figure out \"weight\"\n",
    "we have to get how to define \"cost function\"\n"
   ]
  },
  {
   "cell_type": "markdown",
   "metadata": {},
   "source": [
    "시그모이드 펑션을 가지고 로지스틱스 레그레션을 하기 위해서\n",
    "웨이트 학습 요 -> 코스트 펑션을 알아야 함.\n",
    "실제 값과 예측 값의 최소화를 찾아야 함.\n",
    "1.\t가설 함수를 찾자 -> 시그모이드 함수( 로지스틱스 레그레션의 셩우)\n",
    "가설 함수는 0~1 사이의 확률 값을 밷어난다.\n",
    "2.\t트레이닝 세트 학습\n",
    "코스트 펑션의 정의는..\n"
   ]
  },
  {
   "cell_type": "code",
   "execution_count": null,
   "metadata": {},
   "outputs": [],
   "source": []
  },
  {
   "cell_type": "code",
   "execution_count": null,
   "metadata": {},
   "outputs": [],
   "source": []
  },
  {
   "cell_type": "code",
   "execution_count": null,
   "metadata": {},
   "outputs": [],
   "source": []
  },
  {
   "cell_type": "code",
   "execution_count": null,
   "metadata": {},
   "outputs": [],
   "source": []
  },
  {
   "cell_type": "code",
   "execution_count": null,
   "metadata": {},
   "outputs": [],
   "source": []
  },
  {
   "cell_type": "code",
   "execution_count": null,
   "metadata": {},
   "outputs": [],
   "source": []
  },
  {
   "cell_type": "code",
   "execution_count": null,
   "metadata": {},
   "outputs": [],
   "source": []
  },
  {
   "cell_type": "code",
   "execution_count": null,
   "metadata": {},
   "outputs": [],
   "source": []
  },
  {
   "cell_type": "code",
   "execution_count": null,
   "metadata": {},
   "outputs": [],
   "source": []
  },
  {
   "cell_type": "code",
   "execution_count": null,
   "metadata": {},
   "outputs": [],
   "source": []
  },
  {
   "cell_type": "code",
   "execution_count": null,
   "metadata": {},
   "outputs": [],
   "source": []
  },
  {
   "cell_type": "code",
   "execution_count": null,
   "metadata": {},
   "outputs": [],
   "source": []
  },
  {
   "cell_type": "code",
   "execution_count": null,
   "metadata": {},
   "outputs": [],
   "source": []
  },
  {
   "cell_type": "code",
   "execution_count": null,
   "metadata": {},
   "outputs": [],
   "source": []
  },
  {
   "cell_type": "code",
   "execution_count": null,
   "metadata": {},
   "outputs": [],
   "source": []
  },
  {
   "cell_type": "code",
   "execution_count": null,
   "metadata": {},
   "outputs": [],
   "source": []
  },
  {
   "cell_type": "code",
   "execution_count": null,
   "metadata": {},
   "outputs": [],
   "source": []
  },
  {
   "cell_type": "code",
   "execution_count": null,
   "metadata": {},
   "outputs": [],
   "source": []
  },
  {
   "cell_type": "code",
   "execution_count": null,
   "metadata": {},
   "outputs": [],
   "source": []
  },
  {
   "cell_type": "code",
   "execution_count": null,
   "metadata": {},
   "outputs": [],
   "source": []
  },
  {
   "cell_type": "code",
   "execution_count": null,
   "metadata": {},
   "outputs": [],
   "source": []
  },
  {
   "cell_type": "code",
   "execution_count": null,
   "metadata": {},
   "outputs": [],
   "source": []
  },
  {
   "cell_type": "code",
   "execution_count": null,
   "metadata": {},
   "outputs": [],
   "source": []
  },
  {
   "cell_type": "code",
   "execution_count": null,
   "metadata": {},
   "outputs": [],
   "source": []
  },
  {
   "cell_type": "code",
   "execution_count": null,
   "metadata": {},
   "outputs": [],
   "source": []
  },
  {
   "cell_type": "code",
   "execution_count": null,
   "metadata": {},
   "outputs": [],
   "source": []
  },
  {
   "cell_type": "code",
   "execution_count": null,
   "metadata": {},
   "outputs": [],
   "source": []
  },
  {
   "cell_type": "code",
   "execution_count": null,
   "metadata": {},
   "outputs": [],
   "source": []
  },
  {
   "cell_type": "code",
   "execution_count": null,
   "metadata": {},
   "outputs": [],
   "source": []
  },
  {
   "cell_type": "code",
   "execution_count": null,
   "metadata": {},
   "outputs": [],
   "source": []
  },
  {
   "cell_type": "code",
   "execution_count": null,
   "metadata": {},
   "outputs": [],
   "source": []
  },
  {
   "cell_type": "code",
   "execution_count": null,
   "metadata": {},
   "outputs": [],
   "source": []
  },
  {
   "cell_type": "code",
   "execution_count": null,
   "metadata": {},
   "outputs": [],
   "source": []
  },
  {
   "cell_type": "code",
   "execution_count": null,
   "metadata": {},
   "outputs": [],
   "source": []
  },
  {
   "cell_type": "code",
   "execution_count": null,
   "metadata": {},
   "outputs": [],
   "source": []
  },
  {
   "cell_type": "code",
   "execution_count": null,
   "metadata": {},
   "outputs": [],
   "source": []
  },
  {
   "cell_type": "code",
   "execution_count": null,
   "metadata": {},
   "outputs": [],
   "source": []
  },
  {
   "cell_type": "code",
   "execution_count": null,
   "metadata": {},
   "outputs": [],
   "source": []
  },
  {
   "cell_type": "code",
   "execution_count": null,
   "metadata": {},
   "outputs": [],
   "source": []
  },
  {
   "cell_type": "code",
   "execution_count": null,
   "metadata": {},
   "outputs": [],
   "source": []
  }
 ],
 "metadata": {
  "kernelspec": {
   "display_name": "Python 3",
   "language": "python",
   "name": "python3"
  },
  "language_info": {
   "codemirror_mode": {
    "name": "ipython",
    "version": 3
   },
   "file_extension": ".py",
   "mimetype": "text/x-python",
   "name": "python",
   "nbconvert_exporter": "python",
   "pygments_lexer": "ipython3",
   "version": "3.7.3"
  }
 },
 "nbformat": 4,
 "nbformat_minor": 2
}
