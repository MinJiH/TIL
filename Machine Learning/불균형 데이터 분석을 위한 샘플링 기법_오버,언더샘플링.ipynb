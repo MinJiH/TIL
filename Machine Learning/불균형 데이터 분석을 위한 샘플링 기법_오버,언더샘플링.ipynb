{
 "cells": [
  {
   "cell_type": "markdown",
   "metadata": {},
   "source": [
    "\n",
    "\n",
    "불균형 데이터 분석을 위한 샘플링 기법\n",
    "\n",
    "-불균형 데이터란???\n",
    "\n",
    "정상 범주의 관측치 수와\n",
    "이상 법주의 관측치 수의 차이가 크게 나타나는 경우\n",
    "\n",
    "클래스별 관측치의 수가 현저히 차이가 나는 경우 = 불균형 데이터 분석\n",
    "\n",
    "이상(소수)을 정확히 분류 하는 것이 중요\n",
    "\n",
    "-왜 문제인가?\n",
    "\n",
    "정상(다수)을 정확히 분류 vs 이상(소수)을 정확히 분류\n",
    "->이상(소수)을 정확히 분류하는 것이 중요\n",
    "왜? 적절한 분류 경계선이 형성되지 못함으로써\n",
    "->이상(소수)을 정확치 찾아내지 못함\n",
    "모덜성능의 왜곡도 발생할 수 있음\n",
    "\n",
    "-성능 평가\n",
    "-예측 정확도\n",
    "\n",
    "\n",
    "-불균형 데이터 해결 방안\n",
    "\n",
    "1. 데이터를 조정해서 해결\n",
    "(학습 데이터 -> 샘플링 -> 모델링 -> 모델 검증)\n",
    "샘플링 기법\n",
    "1.1 언더 샘플링(다수 범주를 줄여서 소수 범주의 수량과 맞추자)\n",
    "\n",
    "랜덤 언더샘플링(다수 범주에서 무작위로 샘플링-다수 범주에 있는 것을 무작위로 버리는 것):무작위로 샘플링 하기 떄문에 할때 마다 다른 결과가 나옴\n",
    "샘플링 할때마다 성능이 다름\n",
    "\n",
    "tomek links:두 범주 사이를 탐지하고 정리를 통해 부정확한 분류 경계선 방지\n",
    "두점사이에 아무런 점이 없을때!!! 그 점만 가지고 선을 찾는 것!\n",
    "tomek links 형성 후, 다수 범주에 속한 관측치 제거!\n",
    "\n",
    "cnn(condensed nearest neighbor)\n",
    "소수 범주 전체와 다수 범주에서 무작위로 하나의 관측치를 선택하여 서브데이터를 구성\n",
    "1-nn 알고리즘을 통해 원데이터를 분류\n",
    "정상 분류된 다수 범주 관측치를 제거  후에 분류 경계선 다시 설정 하는 것\n",
    "*cnn에서 고려해야할 것 : 1-nn 이 아니라 knn을 사용 하면 안됨!!\n",
    "왜? 뭐 예를 들어 3개 이상으로 하면 무조건 이상범주에 분류하게 됨.\n",
    "모든 다수 클래스가 이상으로 된다 =cnn이 의미가 없다\n",
    "\n",
    "oss(one-side-selection): tomek links + cnn\n",
    "\n",
    "언더 샘플링 의 장점:\n",
    "다수 범주 관측치 제거로 계산 시간 감소\n",
    "데이터 클랜징으로 클래스 오버랩 감소 가능\n",
    "\n",
    "단점:데이터 제거로 인한 정보 손실 발생\n",
    "\n",
    "\n",
    "1.2 오버 샘플링(소수 범주의 관측치를 늘리는 것)\n",
    "\n",
    "리샘플링: 소수 범주 내 관측치를 늘려보자/ 소수 범주에 속한 데이터 수를 다수 범주에 맞춰서 단순히 늘리는 것\n",
    "/ 새로운 데이터를 만드는 것이 아니라 소수 클래스 관측치를 그냥 복제\n",
    "리샘플링의 단점: 소수 클래스에 과적합이 발생할 가능성이 있음\n",
    "\n",
    "보완할 수 있는 방법은? 가상의 관측치 생성(SMOTE-systhetic minority oversampling technique:소수 범주에서 가상의 데이터를 생성하는 방법)\n",
    "\n",
    "smote:소수 범주에서 가상의 데이터를 생성하는 방법/특정 데이터에서 (예를 들어)가장 가까운 5개를 선택 -> 랜덤하게 주변 중 하나의 관측치 선택-> 계산 방법에 따라 가상 관측치 생성-> 소수 범주 내 모든 관측치에 대해 과정을 반복하고 가상 관측치 생성\n",
    "*이때 k를 1로 하면 안됨(무조건 2이상으로 해야함)\n",
    "\n",
    "borderline-smote(improved smote):보더 라인 부분만을 샘플링을 해보자\n",
    "1.보더라인을 찾는다 : 소수 클래스 xi에 대해서 k개 주변을 탐색 -> k개 중 다수 클래스의 수를 확인/ k개 중 다수 클래스가 없는 경우: 보더 라인이 아니다(safe 관측치)/k개 중 k-n개의 다수 클래스가 있는 경우: 보더 라인이다(danger 관측치)/k개 중 k개 전부 다수 클래스 이다(noise 관측치)\n",
    "/safe 관측치와 danger 관측치,노이즈 관측치로 나뉨\n",
    "2.danger 관측치에 대해서만 smote를 적용한다:소수 클래스xi에 대해서 k개의 소수 클래스를 탐색/각 소수 클래스에 대해 s개 만큼의 샘픔을 생성(s<k)\n",
    "\n",
    "ADASYN(adaptive synthetic sampling approach):샘플링 하는 개수를 위치에 따라 다르게/ 각 소수 클래스 주변에 얼마나 많은 다수 클래스 관측치가 있는 지 정량화한 지표// 모든 소수 클래스에 대해 주변을 k개만큼 탐색하고 그중 다수 클래스 관측치의 비율을 계산-> 즉 ri을 구한다 ->ri를 스케일링(전체를 다 더해서 나눠주기!)//소수 클래스 주변의 다수 클래스 의 수에 따라 유동적으로 생성 가능(오버 샘플링 갯수 계산 가능)//어떻게 생성 하는 가?-각 소수 클래스를 시드로 하여 할당단 개수만큰 smote를 적용\n",
    "\n",
    "GAN(최신 기법인데 이건 다음에 다시!)\n",
    "\n",
    "2. 모델을 조정해서 해결\n",
    "비용기반 학습\n",
    "단일 클래스 분류기법"
   ]
  },
  {
   "cell_type": "code",
   "execution_count": null,
   "metadata": {},
   "outputs": [],
   "source": []
  },
  {
   "cell_type": "code",
   "execution_count": null,
   "metadata": {},
   "outputs": [],
   "source": []
  },
  {
   "cell_type": "code",
   "execution_count": null,
   "metadata": {},
   "outputs": [],
   "source": []
  },
  {
   "cell_type": "code",
   "execution_count": null,
   "metadata": {},
   "outputs": [],
   "source": []
  },
  {
   "cell_type": "code",
   "execution_count": null,
   "metadata": {},
   "outputs": [],
   "source": []
  },
  {
   "cell_type": "code",
   "execution_count": null,
   "metadata": {},
   "outputs": [],
   "source": []
  },
  {
   "cell_type": "code",
   "execution_count": null,
   "metadata": {},
   "outputs": [],
   "source": []
  },
  {
   "cell_type": "code",
   "execution_count": null,
   "metadata": {},
   "outputs": [],
   "source": []
  },
  {
   "cell_type": "code",
   "execution_count": null,
   "metadata": {},
   "outputs": [],
   "source": []
  },
  {
   "cell_type": "code",
   "execution_count": null,
   "metadata": {},
   "outputs": [],
   "source": []
  },
  {
   "cell_type": "code",
   "execution_count": null,
   "metadata": {},
   "outputs": [],
   "source": []
  },
  {
   "cell_type": "code",
   "execution_count": null,
   "metadata": {},
   "outputs": [],
   "source": []
  }
 ],
 "metadata": {
  "kernelspec": {
   "display_name": "Python 3",
   "language": "python",
   "name": "python3"
  },
  "language_info": {
   "codemirror_mode": {
    "name": "ipython",
    "version": 3
   },
   "file_extension": ".py",
   "mimetype": "text/x-python",
   "name": "python",
   "nbconvert_exporter": "python",
   "pygments_lexer": "ipython3",
   "version": "3.7.6"
  }
 },
 "nbformat": 4,
 "nbformat_minor": 4
}
