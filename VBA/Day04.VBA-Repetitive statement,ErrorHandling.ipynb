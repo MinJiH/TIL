{
 "cells": [
  {
   "cell_type": "markdown",
   "metadata": {},
   "source": [
    "# VBA - Repetitive statement-(1)for"
   ]
  },
  {
   "cell_type": "markdown",
   "metadata": {},
   "source": [
    "1)basic\n",
    "For i= 1 To 20\n",
    "Next\n",
    "2)for with\n",
    "For i= 1 To 20 Step2 (proceeding 1 to 20 over 2 that mean you can proceed 1,3,5,7...)\n",
    "3)For i = 1 To 20\n",
    "    IF i=10 Then Exit FOR\n",
    "    Next j\n",
    "Next i"
   ]
  },
  {
   "cell_type": "markdown",
   "metadata": {},
   "source": [
    "# (2)Do While, Do Until"
   ]
  },
  {
   "cell_type": "markdown",
   "metadata": {},
   "source": [
    "#Do While(till true, the condtional sentence would be repeated)\n",
    "do while is not sequece is for condition\n",
    "1) DO While\n",
    "DO While[conditional sentence]\n",
    "    command\n",
    "\n",
    "Loop # end the do while\n",
    "2)DO while\n",
    "Do While[condition]\n",
    "    command\n",
    "    IF[condition]ThenExitDo\n",
    "Loop\n",
    "3)\n",
    "Do\n",
    " command\n",
    " loop while [condition]\n",
    " 4)\n",
    " DO\n",
    "     COMMAND\n",
    "     IF[condition]Then Exit\n",
    " loop while[condition]\n",
    " "
   ]
  },
  {
   "cell_type": "markdown",
   "metadata": {},
   "source": [
    "# (3)Do until (till false, the condtional sentence would be repeated)\n",
    "\n",
    "1)\n",
    "DO Until[condition for false]\n",
    "    command\n",
    "Loop\n",
    "2) \n",
    "do until[condition]\n",
    "    command\n",
    "    if[condition]Then Exit\n",
    "  loop\n",
    "3)\n",
    "DO\n",
    "    COMMAND\n",
    "Loop Until[condition]\n",
    "4)\n",
    "DO\n",
    "    Command\n",
    "    if[condition]Then Exit\n",
    " Loop Until[condition]"
   ]
  },
  {
   "cell_type": "markdown",
   "metadata": {},
   "source": [
    "## VBA - Error handling- On Error"
   ]
  },
  {
   "cell_type": "markdown",
   "metadata": {},
   "source": [
    "1) On Error GoTo[lable]\n",
    "2) OnErrorResumeNext\n",
    "3) On ErrorGoTo 0"
   ]
  },
  {
   "cell_type": "markdown",
   "metadata": {},
   "source": [
    "Sub ErrorHandle()\n",
    "    On Error Resume Next\n",
    "    Err.Raise 11\n",
    "    MsgBox \"Error\" & Err.Number& \"\" & Err.Description\n",
    "    \n",
    "    \n",
    "    \n",
    "    \n",
    "End Sub\n"
   ]
  },
  {
   "cell_type": "markdown",
   "metadata": {},
   "source": [
    "Sub ErrorHandle()\n",
    "    On Error Resume Next\n",
    "    Err.Raise 11\n",
    "    MsgBox \"Error\" & Err.Number& \"\" & Err.Description\n",
    "    \n",
    "    Err.Clear\n",
    "    MsgBox Err.Number & \" \" & Err.Description\n",
    "    \n",
    "    \n",
    "End Sub\n"
   ]
  },
  {
   "cell_type": "markdown",
   "metadata": {},
   "source": [
    "Sub ErrorLable()\n",
    "    On Error GoTo ErrorSolving\n",
    "    Err.Raise 11\n",
    "    \n",
    "ErrorSolving:\n",
    "    If Err.Number = 11 Then\n",
    "     MsgBox \"Error: 11 it's not neccesarry to be divided with 0.\"\n",
    "    \n",
    "End Sub\n"
   ]
  },
  {
   "cell_type": "markdown",
   "metadata": {},
   "source": [
    "Sub ErrorLable()\n",
    "    On Error GoTo ErrorSolving\n",
    "    Err.Raise 11\n",
    "    \n",
    "ErrorSolving:\n",
    "    Select Case Err.Number\n",
    "        Case 11\n",
    "            MsgBox \"Error: 11 it's not necessary to be divided with 0\"\n",
    "        Case 6\n",
    "            MsgBos \"Error:6 there is over flow \"\n",
    "        Case Else\n",
    "            MsgBoc \"Error : there is the unknown error to be arisen\"\n",
    "        End Select\n",
    "    "
   ]
  },
  {
   "cell_type": "code",
   "execution_count": null,
   "metadata": {},
   "outputs": [],
   "source": []
  },
  {
   "cell_type": "code",
   "execution_count": null,
   "metadata": {},
   "outputs": [],
   "source": []
  },
  {
   "cell_type": "code",
   "execution_count": null,
   "metadata": {},
   "outputs": [],
   "source": []
  },
  {
   "cell_type": "code",
   "execution_count": null,
   "metadata": {},
   "outputs": [],
   "source": []
  },
  {
   "cell_type": "code",
   "execution_count": null,
   "metadata": {},
   "outputs": [],
   "source": []
  },
  {
   "cell_type": "code",
   "execution_count": null,
   "metadata": {},
   "outputs": [],
   "source": []
  },
  {
   "cell_type": "code",
   "execution_count": null,
   "metadata": {},
   "outputs": [],
   "source": []
  },
  {
   "cell_type": "code",
   "execution_count": null,
   "metadata": {},
   "outputs": [],
   "source": []
  },
  {
   "cell_type": "code",
   "execution_count": null,
   "metadata": {},
   "outputs": [],
   "source": []
  },
  {
   "cell_type": "code",
   "execution_count": null,
   "metadata": {},
   "outputs": [],
   "source": []
  }
 ],
 "metadata": {
  "kernelspec": {
   "display_name": "Python 3",
   "language": "python",
   "name": "python3"
  },
  "language_info": {
   "codemirror_mode": {
    "name": "ipython",
    "version": 3
   },
   "file_extension": ".py",
   "mimetype": "text/x-python",
   "name": "python",
   "nbconvert_exporter": "python",
   "pygments_lexer": "ipython3",
   "version": "3.7.1"
  }
 },
 "nbformat": 4,
 "nbformat_minor": 2
}
