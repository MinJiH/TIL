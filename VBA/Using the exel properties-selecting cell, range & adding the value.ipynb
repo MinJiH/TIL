{
 "cells": [
  {
   "cell_type": "markdown",
   "metadata": {},
   "source": [
    "# Using the exel properties-selecting cell, range & adding the value"
   ]
  },
  {
   "cell_type": "code",
   "execution_count": null,
   "metadata": {},
   "outputs": [],
   "source": [
    "# Selecting one cell\n",
    "Sub Select_Cell()\n",
    "    Sheets(\"Sheet1\").Select\n",
    "    Range(\"A3\").Select\n",
    "    Range(\"B3\").Select\n",
    "    \n",
    "End Sub\n"
   ]
  },
  {
   "cell_type": "code",
   "execution_count": null,
   "metadata": {},
   "outputs": [],
   "source": [
    "# Selecting the range\n",
    "#1\n",
    "Sub Select_Cell()\n",
    "    Sheets(\"Sheet1\").Select\n",
    "    Range(\"A3\").Select\n",
    "    Range(\"B3\").Select\n",
    "    Range(\"A3:G3\").Select\n",
    "    \n",
    "End Sub\n",
    "\n",
    "#2\n",
    "Sub Select_Cell()\n",
    "    Sheets(\"Sheet1\").Select\n",
    "    Range(\"A3\").Select\n",
    "    Range(\"B3\").Select\n",
    "    Range(\"A3:G3\").Select\n",
    "    Range(\"A3:A15\").Select\n",
    "    Range(\"A3\").Offset(1, 1).Select\n",
    "    \n",
    "    \n",
    "End Sub\n",
    "\n",
    "#3\n",
    "Sub Select_Cell()\n",
    "    Sheets(\"Sheet1\").Select\n",
    "    Range(\"A3\").Select\n",
    "    Range(\"B3\").Select\n",
    "    Range(\"A3:G3\").Select\n",
    "    Range(\"A3:A15\").Select\n",
    "    Range(\"A2:A14\").Offset(1, 1).Select\n",
    "    \n",
    "    Columns(2).Select\n",
    "    Rows(3).Select\n",
    "End Sub\n",
    "\n",
    "\n"
   ]
  },
  {
   "cell_type": "code",
   "execution_count": null,
   "metadata": {},
   "outputs": [],
   "source": [
    "# Selecting the range according to the specific condition\n",
    "Sub Special_select()\n",
    "    Range(\"G3:G15\").SpecialCells(xlCellTypeBlacks).Select -> 셀의 값이 블랭크 인것만 선택\n",
    "    Range(\"D3:D15\").SpecialCells(xlCellTypeFormulas, xlErrors).Select -> 함수 오류가 발생한 셀들만 선택\n",
    "    Range(\"C:C\").SpecialCells(xlCellTypeFormulas).Select-> 셀의 값이 공식인 것만 선택\n",
    "    Range(\"C:C\").SpecialCells(xlCellTypeLastCell).Select-> C열의 마지막 셀로 \n",
    "    Range(\"A:A\").SpecialCells(xlCellTypeConstants).Select -> A열 중 상수의 값만 선택\n",
    "    \n",
    "    \n",
    "    \n",
    "End Sub\n"
   ]
  },
  {
   "cell_type": "code",
   "execution_count": null,
   "metadata": {},
   "outputs": [],
   "source": [
    "# Converting the contents of cell to...\n",
    "\n",
    "Sub Insert_Value()\n",
    "    Range(\"A1\").Value = \"the current status of delivery for fast campus\"\n",
    "    Range(\"A2\") = \"advanced\"\n",
    "    Range(\"D2\") = 3 - 1\n",
    "    Range(\"E2\") = \"=3-1\"\n",
    "    Range(\"E1\").Formula = \"=10-7\"\n",
    "    \n",
    "    MsgBox Range(\"E2\").Value & Range(\"E2\").Formula\n",
    "    \n",
    "    \n",
    "End Sub"
   ]
  },
  {
   "cell_type": "code",
   "execution_count": null,
   "metadata": {},
   "outputs": [],
   "source": []
  },
  {
   "cell_type": "code",
   "execution_count": null,
   "metadata": {},
   "outputs": [],
   "source": []
  },
  {
   "cell_type": "code",
   "execution_count": null,
   "metadata": {},
   "outputs": [],
   "source": []
  },
  {
   "cell_type": "code",
   "execution_count": null,
   "metadata": {},
   "outputs": [],
   "source": []
  },
  {
   "cell_type": "code",
   "execution_count": null,
   "metadata": {},
   "outputs": [],
   "source": []
  },
  {
   "cell_type": "code",
   "execution_count": null,
   "metadata": {},
   "outputs": [],
   "source": []
  },
  {
   "cell_type": "code",
   "execution_count": null,
   "metadata": {},
   "outputs": [],
   "source": []
  },
  {
   "cell_type": "code",
   "execution_count": null,
   "metadata": {},
   "outputs": [],
   "source": []
  },
  {
   "cell_type": "code",
   "execution_count": null,
   "metadata": {},
   "outputs": [],
   "source": []
  }
 ],
 "metadata": {
  "kernelspec": {
   "display_name": "Python 3",
   "language": "python",
   "name": "python3"
  },
  "language_info": {
   "codemirror_mode": {
    "name": "ipython",
    "version": 3
   },
   "file_extension": ".py",
   "mimetype": "text/x-python",
   "name": "python",
   "nbconvert_exporter": "python",
   "pygments_lexer": "ipython3",
   "version": "3.7.1"
  }
 },
 "nbformat": 4,
 "nbformat_minor": 2
}
