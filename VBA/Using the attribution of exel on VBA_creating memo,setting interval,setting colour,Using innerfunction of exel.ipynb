{
 "cells": [
  {
   "cell_type": "markdown",
   "metadata": {},
   "source": [
    "# Using the attribution of exel on VBA_creating memo,setting interval,setting colour,Using innerfunction of exel"
   ]
  },
  {
   "cell_type": "markdown",
   "metadata": {},
   "source": [
    "# creating memo\n",
    "Sub Add_Memo()\n",
    "'    Range(\"B5\").AddComment \"completed\" 1) Inserting memo\n",
    "'   Range(\"B5\").Comment.Text Range(\"B5).Comment.Text&\"Additional Infor\" 2) Inserting additional memo\n",
    "\n",
    "'   Range(\"B5\").Comment.Visible = True \n",
    "'    Range(\"B5\").Comment.Shape.Select 3) resizing the memo\n",
    "'   Selection.AutoSize = True         3) resizing the memo\n",
    "    MsgBox Range(\"B5\").Comment.Text & \"by\" & Range(\"B5\").Comment.Author\n",
    "    \n",
    "    \n",
    "End Sub\n"
   ]
  },
  {
   "cell_type": "markdown",
   "metadata": {},
   "source": [
    "# setting interval\n",
    "Sub Union_Intersect()\n",
    "    Range(\"B5:D8\").Select 1) specific range\n",
    "    Application.Union(Selection,Range(\"C6:G10\").Select 2) select both range\n",
    "    MsgBox Intersect(Range(\"B5:D8\"), Range(\"c6:g0\")).Address\n",
    "\n",
    "    \n",
    "End Sub\n",
    "\n"
   ]
  },
  {
   "cell_type": "markdown",
   "metadata": {},
   "source": [
    "# setting colour\n",
    "Sub Set_Color()\n",
    "    Range(\"A3:G15\").Font.Color = RGB(255, 255, 255)\n",
    "    Range(\"A3:G15\").Interior.Color = RGB(100, 100, 100)\n",
    "    \n",
    "    Range(\"A3:G15\").Borders.Weight = xlThick\n",
    "    Range(\"A3:G15\").Borders.Color = RGB(200, 200, 200)\n",
    "End Sub\n"
   ]
  },
  {
   "cell_type": "markdown",
   "metadata": {},
   "source": [
    "# Using innerfunction of exel\n",
    "\n",
    "1)\n",
    "Sub Internal_function()\n",
    "    MsgBox.Application.WorksheetFunction.Count (Range(\"A4:A15\"))\n",
    "End Sub\n",
    "\n",
    "2)\n",
    "Sub Internal_function()\n",
    "    MsgBox.Application.WorksheetFunction.Count (Range(\"A4:A15\"))\n",
    "    Range(\"E2\").Value = Application.WorksheetFunction.CountIf((Range(\"E4:E15\"),\"delivery\")\n",
    "End Sub\n"
   ]
  },
  {
   "cell_type": "code",
   "execution_count": null,
   "metadata": {},
   "outputs": [],
   "source": []
  },
  {
   "cell_type": "code",
   "execution_count": null,
   "metadata": {},
   "outputs": [],
   "source": []
  },
  {
   "cell_type": "code",
   "execution_count": null,
   "metadata": {},
   "outputs": [],
   "source": []
  },
  {
   "cell_type": "code",
   "execution_count": null,
   "metadata": {},
   "outputs": [],
   "source": []
  },
  {
   "cell_type": "code",
   "execution_count": null,
   "metadata": {},
   "outputs": [],
   "source": []
  },
  {
   "cell_type": "code",
   "execution_count": null,
   "metadata": {},
   "outputs": [],
   "source": []
  },
  {
   "cell_type": "code",
   "execution_count": null,
   "metadata": {},
   "outputs": [],
   "source": []
  },
  {
   "cell_type": "code",
   "execution_count": null,
   "metadata": {},
   "outputs": [],
   "source": []
  },
  {
   "cell_type": "code",
   "execution_count": null,
   "metadata": {},
   "outputs": [],
   "source": []
  },
  {
   "cell_type": "code",
   "execution_count": null,
   "metadata": {},
   "outputs": [],
   "source": []
  },
  {
   "cell_type": "code",
   "execution_count": null,
   "metadata": {},
   "outputs": [],
   "source": []
  }
 ],
 "metadata": {
  "kernelspec": {
   "display_name": "Python 3",
   "language": "python",
   "name": "python3"
  },
  "language_info": {
   "codemirror_mode": {
    "name": "ipython",
    "version": 3
   },
   "file_extension": ".py",
   "mimetype": "text/x-python",
   "name": "python",
   "nbconvert_exporter": "python",
   "pygments_lexer": "ipython3",
   "version": "3.7.1"
  }
 },
 "nbformat": 4,
 "nbformat_minor": 2
}
