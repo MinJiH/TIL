{
 "cells": [
  {
   "cell_type": "markdown",
   "metadata": {},
   "source": [
    "# Variable"
   ]
  },
  {
   "cell_type": "markdown",
   "metadata": {},
   "source": [
    "#Variable\n",
    "the value which could be changeable depend on the circumstance,containing the information on the program\n",
    "is the opposit of Constant\n",
    "#(Dim,Static,Private,Public)[VariableName]As [DataType]"
   ]
  },
  {
   "cell_type": "markdown",
   "metadata": {},
   "source": [
    "#Data Type\n",
    "the valuable is the one containing the information.\n",
    "변수를 만들기 위해서는 변수에 담긴 정보의 종류와 크기를 지정 해야함\n",
    "for example\n",
    "1. Byte(0~255)\n",
    "2. Integer(-32768~32767)\n",
    "3. Long(-2147484836~2147484847)\n",
    "4. Single,Double\n",
    "5. Date(100/1/1~9999/12/31)\n",
    "6. String(문자열)\n",
    "7. Boolean(true or false)\n",
    "8. Object( saving the object)\n"
   ]
  },
  {
   "cell_type": "markdown",
   "metadata": {},
   "source": [
    "# IF.."
   ]
  },
  {
   "cell_type": "markdown",
   "metadata": {},
   "source": [
    "if[condition]Then\n",
    "    Command\n",
    "    End IF\n",
    "Else\n",
    "    Command\n",
    "End IF"
   ]
  },
  {
   "cell_type": "markdown",
   "metadata": {},
   "source": [
    "# Select case\n",
    "for one object, there are the conditions more than two.\n",
    "it would be great to pick the select up.\n"
   ]
  },
  {
   "cell_type": "markdown",
   "metadata": {},
   "source": [
    "Select Case[the object]\n",
    "    Case Is[the comparing condition]\n",
    "        command\n",
    "    Case Is[the comparing condition]\n",
    "        command"
   ]
  },
  {
   "cell_type": "code",
   "execution_count": null,
   "metadata": {},
   "outputs": [],
   "source": []
  },
  {
   "cell_type": "code",
   "execution_count": null,
   "metadata": {},
   "outputs": [],
   "source": []
  },
  {
   "cell_type": "code",
   "execution_count": null,
   "metadata": {},
   "outputs": [],
   "source": []
  },
  {
   "cell_type": "code",
   "execution_count": null,
   "metadata": {},
   "outputs": [],
   "source": []
  },
  {
   "cell_type": "code",
   "execution_count": null,
   "metadata": {},
   "outputs": [],
   "source": []
  },
  {
   "cell_type": "code",
   "execution_count": null,
   "metadata": {},
   "outputs": [],
   "source": []
  },
  {
   "cell_type": "code",
   "execution_count": null,
   "metadata": {},
   "outputs": [],
   "source": []
  },
  {
   "cell_type": "code",
   "execution_count": null,
   "metadata": {},
   "outputs": [],
   "source": []
  },
  {
   "cell_type": "code",
   "execution_count": null,
   "metadata": {},
   "outputs": [],
   "source": []
  }
 ],
 "metadata": {
  "kernelspec": {
   "display_name": "Python 3",
   "language": "python",
   "name": "python3"
  },
  "language_info": {
   "codemirror_mode": {
    "name": "ipython",
    "version": 3
   },
   "file_extension": ".py",
   "mimetype": "text/x-python",
   "name": "python",
   "nbconvert_exporter": "python",
   "pygments_lexer": "ipython3",
   "version": "3.7.1"
  }
 },
 "nbformat": 4,
 "nbformat_minor": 2
}
