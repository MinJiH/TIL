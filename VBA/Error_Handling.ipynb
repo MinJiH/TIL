{
 "cells": [
  {
   "cell_type": "markdown",
   "metadata": {},
   "source": [
    "#error handling\n",
    "에러 처리를 해야 하는 이유?\n",
    "-에러 날 것이 예상되는 경우\n",
    "-에러 날 것을 예상하지 못할 경우\n",
    "-에러를 이용해 일을 해야하는 경우"
   ]
  },
  {
   "cell_type": "markdown",
   "metadata": {},
   "source": [
    "#On Error\n",
    "1. On Error Go To[레이블]->레이블에 대해서 어떻게 에러 처리\n",
    "2. On Error Resume Next->오류가 발생한 경우, 오류 발생시킨 명령문을 무시하고 다음 명령문을 진행\n",
    "3. On Error Go To 0 -> 이전의 에러문을 모두 취소"
   ]
  },
  {
   "cell_type": "code",
   "execution_count": null,
   "metadata": {},
   "outputs": [],
   "source": [
    "#On Error Resume Next\n",
    "\n",
    "Sub ErrorHandle()\n",
    "    On Error Resume Next\n",
    "    Err.Raise 11\n",
    "    MsgBox Err.Number & \"\" & Err.Description\n",
    "    \n",
    "    Err.Clear\n",
    "    MsgBox Err.Number & \"\" & Err.Description\n",
    "    \n",
    "    \n",
    "End Sub\n"
   ]
  },
  {
   "cell_type": "markdown",
   "metadata": {},
   "source": [
    "#On Error go to\n",
    "\n",
    "#1\n",
    "Sub ErrorLable()\n",
    "    On Error GoTo ErrorSolving\n",
    "    Err.Raise 11\n",
    "ErrorSolving:\n",
    "    If Err.Number = 11 Then\n",
    "        MsgBox \"Error:11 do not divide by 0\"\n",
    "    End If\n",
    "    \n",
    "    \n",
    "End Sub\n",
    "\n",
    "\n",
    "#2\n",
    "Sub ErrorLable()\n",
    "    On Error GoTo ErrorSolving\n",
    "    Err.Raise 11\n",
    "ErrorSolving:\n",
    "    Select Case Err.Number\n",
    "        Case 11\n",
    "         MsgBox \"Error:11 do not divide by 0\"\n",
    "        Case 6\n",
    "         MsgBox \"Error:6 there is overflow arisen\"\n",
    "    End Select\n",
    "    \n",
    "    \n",
    "End Sub\n",
    "\n",
    "#3\n",
    "Sub ErrorLable()\n",
    "    On Error GoTo ErrorSolving\n",
    "    Err.Raise 11\n",
    "ErrorSolving:\n",
    "    Select Case Err.Number\n",
    "        Case 11\n",
    "         MsgBox \"Error:11 do not divide by 0\"\n",
    "        Case 6\n",
    "         MsgBox \"Error:6 there is overflow arisen\"\n",
    "        Case Else\n",
    "         MsgBox \"Error: there is unknow error. please contact to the team proper to handling these issue\"\n",
    "    End Select\n",
    "    "
   ]
  },
  {
   "cell_type": "code",
   "execution_count": null,
   "metadata": {},
   "outputs": [],
   "source": []
  },
  {
   "cell_type": "code",
   "execution_count": null,
   "metadata": {},
   "outputs": [],
   "source": []
  },
  {
   "cell_type": "code",
   "execution_count": null,
   "metadata": {},
   "outputs": [],
   "source": []
  },
  {
   "cell_type": "code",
   "execution_count": null,
   "metadata": {},
   "outputs": [],
   "source": []
  },
  {
   "cell_type": "code",
   "execution_count": null,
   "metadata": {},
   "outputs": [],
   "source": []
  },
  {
   "cell_type": "code",
   "execution_count": null,
   "metadata": {},
   "outputs": [],
   "source": []
  },
  {
   "cell_type": "code",
   "execution_count": null,
   "metadata": {},
   "outputs": [],
   "source": []
  },
  {
   "cell_type": "code",
   "execution_count": null,
   "metadata": {},
   "outputs": [],
   "source": []
  },
  {
   "cell_type": "code",
   "execution_count": null,
   "metadata": {},
   "outputs": [],
   "source": []
  },
  {
   "cell_type": "code",
   "execution_count": null,
   "metadata": {},
   "outputs": [],
   "source": []
  },
  {
   "cell_type": "code",
   "execution_count": null,
   "metadata": {},
   "outputs": [],
   "source": []
  },
  {
   "cell_type": "code",
   "execution_count": null,
   "metadata": {},
   "outputs": [],
   "source": []
  },
  {
   "cell_type": "code",
   "execution_count": null,
   "metadata": {},
   "outputs": [],
   "source": []
  }
 ],
 "metadata": {
  "kernelspec": {
   "display_name": "Python 3",
   "language": "python",
   "name": "python3"
  },
  "language_info": {
   "codemirror_mode": {
    "name": "ipython",
    "version": 3
   },
   "file_extension": ".py",
   "mimetype": "text/x-python",
   "name": "python",
   "nbconvert_exporter": "python",
   "pygments_lexer": "ipython3",
   "version": "3.7.1"
  }
 },
 "nbformat": 4,
 "nbformat_minor": 2
}
